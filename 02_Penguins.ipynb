{
  "nbformat": 4,
  "nbformat_minor": 0,
  "metadata": {
    "colab": {
      "name": "02. Penguins.ipynb",
      "provenance": [],
      "collapsed_sections": []
    },
    "kernelspec": {
      "name": "python3",
      "display_name": "Python 3"
    },
    "language_info": {
      "name": "python"
    }
  },
  "cells": [
    {
      "cell_type": "code",
      "execution_count": 1,
      "metadata": {
        "id": "sQogaBLTLXhE",
        "colab": {
          "base_uri": "https://localhost:8080/"
        },
        "outputId": "963e6078-bf51-4058-eb05-1009d5738772"
      },
      "outputs": [
        {
          "output_type": "stream",
          "name": "stdout",
          "text": [
            "Cloning into 'yemoonsaBigdata'...\n",
            "remote: Enumerating objects: 471, done.\u001b[K\n",
            "remote: Counting objects: 100% (108/108), done.\u001b[K\n",
            "remote: Compressing objects: 100% (65/65), done.\u001b[K\n",
            "remote: Total 471 (delta 63), reused 43 (delta 43), pack-reused 363\u001b[K\n",
            "Receiving objects: 100% (471/471), 8.55 MiB | 17.03 MiB/s, done.\n",
            "Resolving deltas: 100% (248/248), done.\n"
          ]
        }
      ],
      "source": [
        "!git clone https://github.com/AnalyticsKnight/yemoonsaBigdata/"
      ]
    },
    {
      "cell_type": "code",
      "source": [
        "# 출력을 원하실 경우 print() 함수 활용\n",
        "# 예시) print(df.head())\n",
        "\n",
        "# getcwd(), chdir() 등 작업 폴더 설정 불필요\n",
        "# 파일 경로 상 내부 드라이브 경로(C: 등) 접근 불가\n",
        "\n",
        "# 데이터 파일 읽기 예제\n",
        "import pandas as pd\n",
        "X_test = pd.read_csv(\"./yemoonsaBigdata/datasets/Part2/penguin_X_test.csv\")\n",
        "X_train = pd.read_csv(\"./yemoonsaBigdata/datasets/Part2/penguin_X_train.csv\")\n",
        "y_train = pd.read_csv(\"./yemoonsaBigdata/datasets/Part2/penguin_y_train.csv\")\n",
        "\n",
        "# 사용자 코딩\n",
        "\n",
        "# 답안 제출 참고\n",
        "# 아래 코드 예측변수와 수험번호를 개인별로 변경하여 활용\n",
        "# pd.DataFrame({'cust_id': X_test.cust_id, 'gender': pred}).to_csv('003000000.csv', index=False)"
      ],
      "metadata": {
        "id": "cf56hRW3LylN"
      },
      "execution_count": null,
      "outputs": []
    },
    {
      "cell_type": "code",
      "source": [
        "import pandas as pd\n",
        "import numpy as np\n",
        "\n",
        "import warnings \n",
        "warnings.filterwarnings('ignore')\n",
        "pd.set_option('expand_frame_repr', False)\n"
      ],
      "metadata": {
        "id": "44wZ4kGhM0Aj"
      },
      "execution_count": 2,
      "outputs": []
    },
    {
      "cell_type": "code",
      "source": [
        "X_test = pd.read_csv(\"./yemoonsaBigdata/datasets/Part2/penguin_X_test.csv\")\n",
        "X_train = pd.read_csv(\"./yemoonsaBigdata/datasets/Part2/penguin_X_train.csv\")\n",
        "y_train = pd.read_csv(\"./yemoonsaBigdata/datasets/Part2/penguin_y_train.csv\")"
      ],
      "metadata": {
        "id": "K5WUUXugM9nX"
      },
      "execution_count": 3,
      "outputs": []
    },
    {
      "cell_type": "code",
      "source": [
        "print(X_test.shape, X_train.shape, y_train.shape)"
      ],
      "metadata": {
        "colab": {
          "base_uri": "https://localhost:8080/"
        },
        "id": "cLjpCidYNRPh",
        "outputId": "25f3c3e6-57e3-47ed-cc3e-da3c695af616"
      },
      "execution_count": 5,
      "outputs": [
        {
          "output_type": "stream",
          "name": "stdout",
          "text": [
            "(101, 6) (240, 6) (240, 1)\n"
          ]
        }
      ]
    },
    {
      "cell_type": "code",
      "source": [
        "print(X_test, '\\n')\n",
        "print(X_train, '\\n')\n",
        "print(y_train, '\\n')"
      ],
      "metadata": {
        "colab": {
          "base_uri": "https://localhost:8080/"
        },
        "id": "jwhY2HWmNCp8",
        "outputId": "5d9b937f-ad12-4a2f-cf8d-3053decd6d63"
      },
      "execution_count": 4,
      "outputs": [
        {
          "output_type": "stream",
          "name": "stdout",
          "text": [
            "    species     island     sex  bill_length_mm  bill_depth_mm  flipper_length_mm\n",
            "0    Adelie  Torgersen    MALE            42.1           19.1              195.0\n",
            "1    Gentoo     Biscoe    MALE            45.5           15.0              220.0\n",
            "2    Adelie     Biscoe    MALE            40.6           18.8              193.0\n",
            "3    Adelie      Dream  FEMALE            39.5           17.8              188.0\n",
            "4    Gentoo     Biscoe  FEMALE            45.1           14.5              207.0\n",
            "..      ...        ...     ...             ...            ...                ...\n",
            "96   Gentoo     Biscoe    MALE            45.2           15.8              215.0\n",
            "97   Adelie  Torgersen  FEMALE            40.3           18.0              195.0\n",
            "98   Gentoo     Biscoe  FEMALE            46.5           14.5              213.0\n",
            "99   Gentoo     Biscoe    MALE            49.6           15.0              216.0\n",
            "100  Adelie  Torgersen  FEMALE            39.6           17.2              196.0\n",
            "\n",
            "[101 rows x 6 columns] \n",
            "\n",
            "       species     island     sex  bill_length_mm  bill_depth_mm  flipper_length_mm\n",
            "0       Adelie  Torgersen     NaN            42.0           20.2              190.0\n",
            "1       Gentoo     Biscoe  FEMALE            43.5           15.2              213.0\n",
            "2       Adelie  Torgersen    MALE            42.8           18.5              195.0\n",
            "3    Chinstrap      Dream    MALE            53.5           19.9              205.0\n",
            "4       Gentoo     Biscoe    MALE            50.2           14.3              218.0\n",
            "..         ...        ...     ...             ...            ...                ...\n",
            "235  Chinstrap      Dream  FEMALE            46.6           17.8              193.0\n",
            "236     Gentoo     Biscoe    MALE            49.8           15.9              229.0\n",
            "237     Adelie  Torgersen  FEMALE            34.6           17.2              189.0\n",
            "238  Chinstrap      Dream  FEMALE            45.9           17.1              190.0\n",
            "239     Gentoo     Biscoe  FEMALE            41.7           14.7              210.0\n",
            "\n",
            "[240 rows x 6 columns] \n",
            "\n",
            "     body_mass_g\n",
            "0         4250.0\n",
            "1         4650.0\n",
            "2         4250.0\n",
            "3         4500.0\n",
            "4         5700.0\n",
            "..           ...\n",
            "235       3800.0\n",
            "236       5950.0\n",
            "237       3200.0\n",
            "238       3575.0\n",
            "239       4700.0\n",
            "\n",
            "[240 rows x 1 columns] \n",
            "\n"
          ]
        }
      ]
    },
    {
      "cell_type": "code",
      "source": [
        "# 데이터 전처리\n",
        "\n",
        "print(X_train.head(1).T)\n",
        "print('\\n')\n",
        "print(X_train.info())"
      ],
      "metadata": {
        "colab": {
          "base_uri": "https://localhost:8080/"
        },
        "id": "bcQmlvFZNI64",
        "outputId": "73e1480b-e933-4633-fce9-67bbc9df4afb"
      },
      "execution_count": 6,
      "outputs": [
        {
          "output_type": "stream",
          "name": "stdout",
          "text": [
            "                           0\n",
            "species               Adelie\n",
            "island             Torgersen\n",
            "sex                      NaN\n",
            "bill_length_mm          42.0\n",
            "bill_depth_mm           20.2\n",
            "flipper_length_mm      190.0\n",
            "\n",
            "\n",
            "<class 'pandas.core.frame.DataFrame'>\n",
            "RangeIndex: 240 entries, 0 to 239\n",
            "Data columns (total 6 columns):\n",
            " #   Column             Non-Null Count  Dtype  \n",
            "---  ------             --------------  -----  \n",
            " 0   species            240 non-null    object \n",
            " 1   island             240 non-null    object \n",
            " 2   sex                232 non-null    object \n",
            " 3   bill_length_mm     238 non-null    float64\n",
            " 4   bill_depth_mm      238 non-null    float64\n",
            " 5   flipper_length_mm  238 non-null    float64\n",
            "dtypes: float64(3), object(3)\n",
            "memory usage: 11.4+ KB\n",
            "None\n"
          ]
        }
      ]
    },
    {
      "cell_type": "code",
      "source": [
        "print(X_train.isnull().sum())"
      ],
      "metadata": {
        "colab": {
          "base_uri": "https://localhost:8080/"
        },
        "id": "XbizMZedNbyf",
        "outputId": "587f78ec-5b30-49af-91e9-d32272d8dba3"
      },
      "execution_count": 7,
      "outputs": [
        {
          "output_type": "stream",
          "name": "stdout",
          "text": [
            "species              0\n",
            "island               0\n",
            "sex                  8\n",
            "bill_length_mm       2\n",
            "bill_depth_mm        2\n",
            "flipper_length_mm    2\n",
            "dtype: int64\n"
          ]
        }
      ]
    },
    {
      "cell_type": "code",
      "source": [
        "print(X_test.isnull().sum())"
      ],
      "metadata": {
        "colab": {
          "base_uri": "https://localhost:8080/"
        },
        "id": "Umn2m17fNjsz",
        "outputId": "d7e5a77c-0708-45b8-f288-099227a744ab"
      },
      "execution_count": 8,
      "outputs": [
        {
          "output_type": "stream",
          "name": "stdout",
          "text": [
            "species              0\n",
            "island               0\n",
            "sex                  0\n",
            "bill_length_mm       0\n",
            "bill_depth_mm        0\n",
            "flipper_length_mm    0\n",
            "dtype: int64\n"
          ]
        }
      ]
    },
    {
      "cell_type": "code",
      "source": [
        "print(y_train.isnull().sum())"
      ],
      "metadata": {
        "colab": {
          "base_uri": "https://localhost:8080/"
        },
        "id": "JA9BB_DXNnDs",
        "outputId": "2acb7f50-a27c-40b9-815e-62708fcf3d41"
      },
      "execution_count": 9,
      "outputs": [
        {
          "output_type": "stream",
          "name": "stdout",
          "text": [
            "body_mass_g    2\n",
            "dtype: int64\n"
          ]
        }
      ]
    },
    {
      "cell_type": "code",
      "source": [
        "train = pd.concat([X_train, y_train], axis=1)\n",
        "\n",
        "print(train)"
      ],
      "metadata": {
        "colab": {
          "base_uri": "https://localhost:8080/"
        },
        "id": "mRdQHouMNqAH",
        "outputId": "e24454f2-c1fb-4944-871c-8c22f0088a35"
      },
      "execution_count": 10,
      "outputs": [
        {
          "output_type": "stream",
          "name": "stdout",
          "text": [
            "       species     island     sex  bill_length_mm  bill_depth_mm  flipper_length_mm  body_mass_g\n",
            "0       Adelie  Torgersen     NaN            42.0           20.2              190.0       4250.0\n",
            "1       Gentoo     Biscoe  FEMALE            43.5           15.2              213.0       4650.0\n",
            "2       Adelie  Torgersen    MALE            42.8           18.5              195.0       4250.0\n",
            "3    Chinstrap      Dream    MALE            53.5           19.9              205.0       4500.0\n",
            "4       Gentoo     Biscoe    MALE            50.2           14.3              218.0       5700.0\n",
            "..         ...        ...     ...             ...            ...                ...          ...\n",
            "235  Chinstrap      Dream  FEMALE            46.6           17.8              193.0       3800.0\n",
            "236     Gentoo     Biscoe    MALE            49.8           15.9              229.0       5950.0\n",
            "237     Adelie  Torgersen  FEMALE            34.6           17.2              189.0       3200.0\n",
            "238  Chinstrap      Dream  FEMALE            45.9           17.1              190.0       3575.0\n",
            "239     Gentoo     Biscoe  FEMALE            41.7           14.7              210.0       4700.0\n",
            "\n",
            "[240 rows x 7 columns]\n"
          ]
        }
      ]
    },
    {
      "cell_type": "code",
      "source": [
        "print(train[train['bill_length_mm'].isnull() | train['bill_depth_mm'].isnull()])"
      ],
      "metadata": {
        "colab": {
          "base_uri": "https://localhost:8080/"
        },
        "id": "8he97VmCN79c",
        "outputId": "f3a16c32-6373-40b5-8d0f-3549bffd9513"
      },
      "execution_count": 12,
      "outputs": [
        {
          "output_type": "stream",
          "name": "stdout",
          "text": [
            "    species     island  sex  bill_length_mm  bill_depth_mm  flipper_length_mm  body_mass_g\n",
            "43   Gentoo     Biscoe  NaN             NaN            NaN                NaN          NaN\n",
            "229  Adelie  Torgersen  NaN             NaN            NaN                NaN          NaN\n"
          ]
        }
      ]
    },
    {
      "cell_type": "code",
      "source": [
        "print(train[train.isnull().any(axis=1)])"
      ],
      "metadata": {
        "colab": {
          "base_uri": "https://localhost:8080/"
        },
        "id": "b6uDYLtsOGlW",
        "outputId": "3063c122-0e9d-4dde-9dcf-4bcece2fca84"
      },
      "execution_count": 13,
      "outputs": [
        {
          "output_type": "stream",
          "name": "stdout",
          "text": [
            "    species     island  sex  bill_length_mm  bill_depth_mm  flipper_length_mm  body_mass_g\n",
            "0    Adelie  Torgersen  NaN            42.0           20.2              190.0       4250.0\n",
            "6    Gentoo     Biscoe  NaN            44.5           14.3              216.0       4100.0\n",
            "43   Gentoo     Biscoe  NaN             NaN            NaN                NaN          NaN\n",
            "66   Adelie  Torgersen  NaN            37.8           17.3              180.0       3700.0\n",
            "88   Gentoo     Biscoe  NaN            47.3           13.8              216.0       4725.0\n",
            "89   Adelie  Torgersen  NaN            37.8           17.1              186.0       3300.0\n",
            "110  Gentoo     Biscoe  NaN            44.5           15.7              217.0       4875.0\n",
            "229  Adelie  Torgersen  NaN             NaN            NaN                NaN          NaN\n"
          ]
        }
      ]
    },
    {
      "cell_type": "code",
      "source": [
        "print(train.isnull())"
      ],
      "metadata": {
        "colab": {
          "base_uri": "https://localhost:8080/"
        },
        "id": "dWtRK8rPOahF",
        "outputId": "4eb3b82c-c27a-4ef6-e91b-ff27c02d8bfc"
      },
      "execution_count": 14,
      "outputs": [
        {
          "output_type": "stream",
          "name": "stdout",
          "text": [
            "     species  island    sex  bill_length_mm  bill_depth_mm  flipper_length_mm  body_mass_g\n",
            "0      False   False   True           False          False              False        False\n",
            "1      False   False  False           False          False              False        False\n",
            "2      False   False  False           False          False              False        False\n",
            "3      False   False  False           False          False              False        False\n",
            "4      False   False  False           False          False              False        False\n",
            "..       ...     ...    ...             ...            ...                ...          ...\n",
            "235    False   False  False           False          False              False        False\n",
            "236    False   False  False           False          False              False        False\n",
            "237    False   False  False           False          False              False        False\n",
            "238    False   False  False           False          False              False        False\n",
            "239    False   False  False           False          False              False        False\n",
            "\n",
            "[240 rows x 7 columns]\n"
          ]
        }
      ]
    },
    {
      "cell_type": "code",
      "source": [
        "print(train.isnull().any(axis=1))"
      ],
      "metadata": {
        "colab": {
          "base_uri": "https://localhost:8080/"
        },
        "id": "a8QFZ9xaOfyr",
        "outputId": "d9948c31-6f12-4835-806f-f5a8125519ba"
      },
      "execution_count": 16,
      "outputs": [
        {
          "output_type": "stream",
          "name": "stdout",
          "text": [
            "0       True\n",
            "1      False\n",
            "2      False\n",
            "3      False\n",
            "4      False\n",
            "       ...  \n",
            "235    False\n",
            "236    False\n",
            "237    False\n",
            "238    False\n",
            "239    False\n",
            "Length: 240, dtype: bool\n"
          ]
        }
      ]
    },
    {
      "cell_type": "code",
      "source": [
        "print(train.loc[train.isnull().any(axis=1)])"
      ],
      "metadata": {
        "colab": {
          "base_uri": "https://localhost:8080/"
        },
        "id": "uCShrhu4Olf8",
        "outputId": "75c9236e-6ba0-4236-842d-eca78224ac7e"
      },
      "execution_count": 18,
      "outputs": [
        {
          "output_type": "stream",
          "name": "stdout",
          "text": [
            "    species     island  sex  bill_length_mm  bill_depth_mm  flipper_length_mm  body_mass_g\n",
            "0    Adelie  Torgersen  NaN            42.0           20.2              190.0       4250.0\n",
            "6    Gentoo     Biscoe  NaN            44.5           14.3              216.0       4100.0\n",
            "43   Gentoo     Biscoe  NaN             NaN            NaN                NaN          NaN\n",
            "66   Adelie  Torgersen  NaN            37.8           17.3              180.0       3700.0\n",
            "88   Gentoo     Biscoe  NaN            47.3           13.8              216.0       4725.0\n",
            "89   Adelie  Torgersen  NaN            37.8           17.1              186.0       3300.0\n",
            "110  Gentoo     Biscoe  NaN            44.5           15.7              217.0       4875.0\n",
            "229  Adelie  Torgersen  NaN             NaN            NaN                NaN          NaN\n"
          ]
        }
      ]
    },
    {
      "cell_type": "code",
      "source": [
        "print(train.shape)\n",
        "train = train.dropna()\n",
        "print(train.shape)"
      ],
      "metadata": {
        "colab": {
          "base_uri": "https://localhost:8080/"
        },
        "id": "PM2BbLGNO5IM",
        "outputId": "095e8632-7bed-4acd-cc8e-fe14a5013949"
      },
      "execution_count": 19,
      "outputs": [
        {
          "output_type": "stream",
          "name": "stdout",
          "text": [
            "(240, 7)\n",
            "(232, 7)\n"
          ]
        }
      ]
    },
    {
      "cell_type": "code",
      "source": [
        "print(train.isnull().sum())"
      ],
      "metadata": {
        "colab": {
          "base_uri": "https://localhost:8080/"
        },
        "id": "xvv2IS66PQOj",
        "outputId": "882ae5ec-2ecc-4ca7-e83a-a759bce16b86"
      },
      "execution_count": 20,
      "outputs": [
        {
          "output_type": "stream",
          "name": "stdout",
          "text": [
            "species              0\n",
            "island               0\n",
            "sex                  0\n",
            "bill_length_mm       0\n",
            "bill_depth_mm        0\n",
            "flipper_length_mm    0\n",
            "body_mass_g          0\n",
            "dtype: int64\n"
          ]
        }
      ]
    },
    {
      "cell_type": "code",
      "source": [
        "train = train.reset_index(drop=True)"
      ],
      "metadata": {
        "id": "9j6S2d3APTET"
      },
      "execution_count": 22,
      "outputs": []
    },
    {
      "cell_type": "code",
      "source": [
        "train"
      ],
      "metadata": {
        "colab": {
          "base_uri": "https://localhost:8080/",
          "height": 424
        },
        "id": "-CiHwtUAPdZj",
        "outputId": "016c2cea-41ba-4677-e7bd-34cefef2f604"
      },
      "execution_count": 23,
      "outputs": [
        {
          "output_type": "execute_result",
          "data": {
            "text/plain": [
              "       species     island     sex  bill_length_mm  bill_depth_mm  flipper_length_mm  body_mass_g\n",
              "0       Gentoo     Biscoe  FEMALE            43.5           15.2              213.0       4650.0\n",
              "1       Adelie  Torgersen    MALE            42.8           18.5              195.0       4250.0\n",
              "2    Chinstrap      Dream    MALE            53.5           19.9              205.0       4500.0\n",
              "3       Gentoo     Biscoe    MALE            50.2           14.3              218.0       5700.0\n",
              "4       Adelie      Dream  FEMALE            36.5           18.0              182.0       3150.0\n",
              "..         ...        ...     ...             ...            ...                ...          ...\n",
              "227  Chinstrap      Dream  FEMALE            46.6           17.8              193.0       3800.0\n",
              "228     Gentoo     Biscoe    MALE            49.8           15.9              229.0       5950.0\n",
              "229     Adelie  Torgersen  FEMALE            34.6           17.2              189.0       3200.0\n",
              "230  Chinstrap      Dream  FEMALE            45.9           17.1              190.0       3575.0\n",
              "231     Gentoo     Biscoe  FEMALE            41.7           14.7              210.0       4700.0\n",
              "\n",
              "[232 rows x 7 columns]"
            ],
            "text/html": [
              "\n",
              "  <div id=\"df-583c5939-d841-4b73-bc2e-f53db0315ca1\">\n",
              "    <div class=\"colab-df-container\">\n",
              "      <div>\n",
              "<style scoped>\n",
              "    .dataframe tbody tr th:only-of-type {\n",
              "        vertical-align: middle;\n",
              "    }\n",
              "\n",
              "    .dataframe tbody tr th {\n",
              "        vertical-align: top;\n",
              "    }\n",
              "\n",
              "    .dataframe thead th {\n",
              "        text-align: right;\n",
              "    }\n",
              "</style>\n",
              "<table border=\"1\" class=\"dataframe\">\n",
              "  <thead>\n",
              "    <tr style=\"text-align: right;\">\n",
              "      <th></th>\n",
              "      <th>species</th>\n",
              "      <th>island</th>\n",
              "      <th>sex</th>\n",
              "      <th>bill_length_mm</th>\n",
              "      <th>bill_depth_mm</th>\n",
              "      <th>flipper_length_mm</th>\n",
              "      <th>body_mass_g</th>\n",
              "    </tr>\n",
              "  </thead>\n",
              "  <tbody>\n",
              "    <tr>\n",
              "      <th>0</th>\n",
              "      <td>Gentoo</td>\n",
              "      <td>Biscoe</td>\n",
              "      <td>FEMALE</td>\n",
              "      <td>43.5</td>\n",
              "      <td>15.2</td>\n",
              "      <td>213.0</td>\n",
              "      <td>4650.0</td>\n",
              "    </tr>\n",
              "    <tr>\n",
              "      <th>1</th>\n",
              "      <td>Adelie</td>\n",
              "      <td>Torgersen</td>\n",
              "      <td>MALE</td>\n",
              "      <td>42.8</td>\n",
              "      <td>18.5</td>\n",
              "      <td>195.0</td>\n",
              "      <td>4250.0</td>\n",
              "    </tr>\n",
              "    <tr>\n",
              "      <th>2</th>\n",
              "      <td>Chinstrap</td>\n",
              "      <td>Dream</td>\n",
              "      <td>MALE</td>\n",
              "      <td>53.5</td>\n",
              "      <td>19.9</td>\n",
              "      <td>205.0</td>\n",
              "      <td>4500.0</td>\n",
              "    </tr>\n",
              "    <tr>\n",
              "      <th>3</th>\n",
              "      <td>Gentoo</td>\n",
              "      <td>Biscoe</td>\n",
              "      <td>MALE</td>\n",
              "      <td>50.2</td>\n",
              "      <td>14.3</td>\n",
              "      <td>218.0</td>\n",
              "      <td>5700.0</td>\n",
              "    </tr>\n",
              "    <tr>\n",
              "      <th>4</th>\n",
              "      <td>Adelie</td>\n",
              "      <td>Dream</td>\n",
              "      <td>FEMALE</td>\n",
              "      <td>36.5</td>\n",
              "      <td>18.0</td>\n",
              "      <td>182.0</td>\n",
              "      <td>3150.0</td>\n",
              "    </tr>\n",
              "    <tr>\n",
              "      <th>...</th>\n",
              "      <td>...</td>\n",
              "      <td>...</td>\n",
              "      <td>...</td>\n",
              "      <td>...</td>\n",
              "      <td>...</td>\n",
              "      <td>...</td>\n",
              "      <td>...</td>\n",
              "    </tr>\n",
              "    <tr>\n",
              "      <th>227</th>\n",
              "      <td>Chinstrap</td>\n",
              "      <td>Dream</td>\n",
              "      <td>FEMALE</td>\n",
              "      <td>46.6</td>\n",
              "      <td>17.8</td>\n",
              "      <td>193.0</td>\n",
              "      <td>3800.0</td>\n",
              "    </tr>\n",
              "    <tr>\n",
              "      <th>228</th>\n",
              "      <td>Gentoo</td>\n",
              "      <td>Biscoe</td>\n",
              "      <td>MALE</td>\n",
              "      <td>49.8</td>\n",
              "      <td>15.9</td>\n",
              "      <td>229.0</td>\n",
              "      <td>5950.0</td>\n",
              "    </tr>\n",
              "    <tr>\n",
              "      <th>229</th>\n",
              "      <td>Adelie</td>\n",
              "      <td>Torgersen</td>\n",
              "      <td>FEMALE</td>\n",
              "      <td>34.6</td>\n",
              "      <td>17.2</td>\n",
              "      <td>189.0</td>\n",
              "      <td>3200.0</td>\n",
              "    </tr>\n",
              "    <tr>\n",
              "      <th>230</th>\n",
              "      <td>Chinstrap</td>\n",
              "      <td>Dream</td>\n",
              "      <td>FEMALE</td>\n",
              "      <td>45.9</td>\n",
              "      <td>17.1</td>\n",
              "      <td>190.0</td>\n",
              "      <td>3575.0</td>\n",
              "    </tr>\n",
              "    <tr>\n",
              "      <th>231</th>\n",
              "      <td>Gentoo</td>\n",
              "      <td>Biscoe</td>\n",
              "      <td>FEMALE</td>\n",
              "      <td>41.7</td>\n",
              "      <td>14.7</td>\n",
              "      <td>210.0</td>\n",
              "      <td>4700.0</td>\n",
              "    </tr>\n",
              "  </tbody>\n",
              "</table>\n",
              "<p>232 rows × 7 columns</p>\n",
              "</div>\n",
              "      <button class=\"colab-df-convert\" onclick=\"convertToInteractive('df-583c5939-d841-4b73-bc2e-f53db0315ca1')\"\n",
              "              title=\"Convert this dataframe to an interactive table.\"\n",
              "              style=\"display:none;\">\n",
              "        \n",
              "  <svg xmlns=\"http://www.w3.org/2000/svg\" height=\"24px\"viewBox=\"0 0 24 24\"\n",
              "       width=\"24px\">\n",
              "    <path d=\"M0 0h24v24H0V0z\" fill=\"none\"/>\n",
              "    <path d=\"M18.56 5.44l.94 2.06.94-2.06 2.06-.94-2.06-.94-.94-2.06-.94 2.06-2.06.94zm-11 1L8.5 8.5l.94-2.06 2.06-.94-2.06-.94L8.5 2.5l-.94 2.06-2.06.94zm10 10l.94 2.06.94-2.06 2.06-.94-2.06-.94-.94-2.06-.94 2.06-2.06.94z\"/><path d=\"M17.41 7.96l-1.37-1.37c-.4-.4-.92-.59-1.43-.59-.52 0-1.04.2-1.43.59L10.3 9.45l-7.72 7.72c-.78.78-.78 2.05 0 2.83L4 21.41c.39.39.9.59 1.41.59.51 0 1.02-.2 1.41-.59l7.78-7.78 2.81-2.81c.8-.78.8-2.07 0-2.86zM5.41 20L4 18.59l7.72-7.72 1.47 1.35L5.41 20z\"/>\n",
              "  </svg>\n",
              "      </button>\n",
              "      \n",
              "  <style>\n",
              "    .colab-df-container {\n",
              "      display:flex;\n",
              "      flex-wrap:wrap;\n",
              "      gap: 12px;\n",
              "    }\n",
              "\n",
              "    .colab-df-convert {\n",
              "      background-color: #E8F0FE;\n",
              "      border: none;\n",
              "      border-radius: 50%;\n",
              "      cursor: pointer;\n",
              "      display: none;\n",
              "      fill: #1967D2;\n",
              "      height: 32px;\n",
              "      padding: 0 0 0 0;\n",
              "      width: 32px;\n",
              "    }\n",
              "\n",
              "    .colab-df-convert:hover {\n",
              "      background-color: #E2EBFA;\n",
              "      box-shadow: 0px 1px 2px rgba(60, 64, 67, 0.3), 0px 1px 3px 1px rgba(60, 64, 67, 0.15);\n",
              "      fill: #174EA6;\n",
              "    }\n",
              "\n",
              "    [theme=dark] .colab-df-convert {\n",
              "      background-color: #3B4455;\n",
              "      fill: #D2E3FC;\n",
              "    }\n",
              "\n",
              "    [theme=dark] .colab-df-convert:hover {\n",
              "      background-color: #434B5C;\n",
              "      box-shadow: 0px 1px 3px 1px rgba(0, 0, 0, 0.15);\n",
              "      filter: drop-shadow(0px 1px 2px rgba(0, 0, 0, 0.3));\n",
              "      fill: #FFFFFF;\n",
              "    }\n",
              "  </style>\n",
              "\n",
              "      <script>\n",
              "        const buttonEl =\n",
              "          document.querySelector('#df-583c5939-d841-4b73-bc2e-f53db0315ca1 button.colab-df-convert');\n",
              "        buttonEl.style.display =\n",
              "          google.colab.kernel.accessAllowed ? 'block' : 'none';\n",
              "\n",
              "        async function convertToInteractive(key) {\n",
              "          const element = document.querySelector('#df-583c5939-d841-4b73-bc2e-f53db0315ca1');\n",
              "          const dataTable =\n",
              "            await google.colab.kernel.invokeFunction('convertToInteractive',\n",
              "                                                     [key], {});\n",
              "          if (!dataTable) return;\n",
              "\n",
              "          const docLinkHtml = 'Like what you see? Visit the ' +\n",
              "            '<a target=\"_blank\" href=https://colab.research.google.com/notebooks/data_table.ipynb>data table notebook</a>'\n",
              "            + ' to learn more about interactive tables.';\n",
              "          element.innerHTML = '';\n",
              "          dataTable['output_type'] = 'display_data';\n",
              "          await google.colab.output.renderOutput(dataTable, element);\n",
              "          const docLink = document.createElement('div');\n",
              "          docLink.innerHTML = docLinkHtml;\n",
              "          element.appendChild(docLink);\n",
              "        }\n",
              "      </script>\n",
              "    </div>\n",
              "  </div>\n",
              "  "
            ]
          },
          "metadata": {},
          "execution_count": 23
        }
      ]
    },
    {
      "cell_type": "code",
      "source": [
        "train.columns"
      ],
      "metadata": {
        "colab": {
          "base_uri": "https://localhost:8080/"
        },
        "id": "QYspXrTKPptr",
        "outputId": "24ee3809-b9b7-4f85-9ecd-4128ae4c86e3"
      },
      "execution_count": 24,
      "outputs": [
        {
          "output_type": "execute_result",
          "data": {
            "text/plain": [
              "Index(['species', 'island', 'sex', 'bill_length_mm', 'bill_depth_mm',\n",
              "       'flipper_length_mm', 'body_mass_g'],\n",
              "      dtype='object')"
            ]
          },
          "metadata": {},
          "execution_count": 24
        }
      ]
    },
    {
      "cell_type": "code",
      "source": [
        "X_train = train[['species', 'island', 'sex', 'bill_length_mm', 'bill_depth_mm','flipper_length_mm']].copy()\n",
        "y_train = train[[ 'body_mass_g']].copy()"
      ],
      "metadata": {
        "id": "2NbRnYUIPxcb"
      },
      "execution_count": 25,
      "outputs": []
    },
    {
      "cell_type": "code",
      "source": [
        "print(X_train.describe())"
      ],
      "metadata": {
        "colab": {
          "base_uri": "https://localhost:8080/"
        },
        "id": "FZWT3fANQB9L",
        "outputId": "52a345b1-eef7-4e05-c1a3-b92f65fad70e"
      },
      "execution_count": 26,
      "outputs": [
        {
          "output_type": "stream",
          "name": "stdout",
          "text": [
            "       bill_length_mm  bill_depth_mm  flipper_length_mm\n",
            "count      232.000000     232.000000         232.000000\n",
            "mean        43.990948      17.226293         200.681034\n",
            "std          5.509760       1.964677          14.064231\n",
            "min         32.100000      13.200000         172.000000\n",
            "25%         39.200000      15.700000         190.000000\n",
            "50%         44.950000      17.350000         197.000000\n",
            "75%         48.775000      18.725000         212.250000\n",
            "max         58.000000      21.500000         231.000000\n"
          ]
        }
      ]
    },
    {
      "cell_type": "code",
      "source": [
        "del_cols = []\n",
        "num_cols = ['bill_length_mm', 'bill_depth_mm','flipper_length_mm']\n",
        "cat_cols = ['species', 'island', 'sex']\n",
        "y_col = ['body_mass_g']"
      ],
      "metadata": {
        "id": "sToMC4H3QIi8"
      },
      "execution_count": 27,
      "outputs": []
    },
    {
      "cell_type": "code",
      "source": [
        "# 데이터 인코딩 (원핫인코딩)\n",
        "\n",
        "X = pd.concat([X_train, X_test])\n",
        "\n",
        "from sklearn.preprocessing import OneHotEncoder\n",
        "\n",
        "ohe = OneHotEncoder(handle_unknown='ignore')\n",
        "\n",
        "ohe.fit(X[cat_cols])\n",
        "\n",
        "X_train_res = ohe.transform(X_train[cat_cols])\n",
        "X_test_res = ohe.transform(X_test[cat_cols])"
      ],
      "metadata": {
        "id": "PU6iBfiIQYWl"
      },
      "execution_count": 29,
      "outputs": []
    },
    {
      "cell_type": "code",
      "source": [
        "X_train_ohe = pd.DataFrame(X_train_res.todense(), columns=ohe.get_feature_names())\n",
        "print(X_train_ohe)"
      ],
      "metadata": {
        "colab": {
          "base_uri": "https://localhost:8080/"
        },
        "id": "odbvyNP-SAj9",
        "outputId": "eb2bda63-4b1f-4ac3-a66d-fcb37b3d5eb4"
      },
      "execution_count": 32,
      "outputs": [
        {
          "output_type": "stream",
          "name": "stdout",
          "text": [
            "     x0_Adelie  x0_Chinstrap  x0_Gentoo  x1_Biscoe  x1_Dream  x1_Torgersen  x2_FEMALE  x2_MALE\n",
            "0          0.0           0.0        1.0        1.0       0.0           0.0        1.0      0.0\n",
            "1          1.0           0.0        0.0        0.0       0.0           1.0        0.0      1.0\n",
            "2          0.0           1.0        0.0        0.0       1.0           0.0        0.0      1.0\n",
            "3          0.0           0.0        1.0        1.0       0.0           0.0        0.0      1.0\n",
            "4          1.0           0.0        0.0        0.0       1.0           0.0        1.0      0.0\n",
            "..         ...           ...        ...        ...       ...           ...        ...      ...\n",
            "227        0.0           1.0        0.0        0.0       1.0           0.0        1.0      0.0\n",
            "228        0.0           0.0        1.0        1.0       0.0           0.0        0.0      1.0\n",
            "229        1.0           0.0        0.0        0.0       0.0           1.0        1.0      0.0\n",
            "230        0.0           1.0        0.0        0.0       1.0           0.0        1.0      0.0\n",
            "231        0.0           0.0        1.0        1.0       0.0           0.0        1.0      0.0\n",
            "\n",
            "[232 rows x 8 columns]\n"
          ]
        }
      ]
    },
    {
      "cell_type": "code",
      "source": [
        "X_test_ohe = pd.DataFrame(X_test_res.todense(), columns=ohe.get_feature_names())"
      ],
      "metadata": {
        "id": "2ijQ2NRORYjb"
      },
      "execution_count": 33,
      "outputs": []
    },
    {
      "cell_type": "code",
      "source": [
        "print(X_test_ohe)"
      ],
      "metadata": {
        "colab": {
          "base_uri": "https://localhost:8080/"
        },
        "id": "-8vxC3F2Smhc",
        "outputId": "09bc1a2c-51f5-4946-f3a9-acbdb6baea86"
      },
      "execution_count": 34,
      "outputs": [
        {
          "output_type": "stream",
          "name": "stdout",
          "text": [
            "     x0_Adelie  x0_Chinstrap  x0_Gentoo  x1_Biscoe  x1_Dream  x1_Torgersen  x2_FEMALE  x2_MALE\n",
            "0          1.0           0.0        0.0        0.0       0.0           1.0        0.0      1.0\n",
            "1          0.0           0.0        1.0        1.0       0.0           0.0        0.0      1.0\n",
            "2          1.0           0.0        0.0        1.0       0.0           0.0        0.0      1.0\n",
            "3          1.0           0.0        0.0        0.0       1.0           0.0        1.0      0.0\n",
            "4          0.0           0.0        1.0        1.0       0.0           0.0        1.0      0.0\n",
            "..         ...           ...        ...        ...       ...           ...        ...      ...\n",
            "96         0.0           0.0        1.0        1.0       0.0           0.0        0.0      1.0\n",
            "97         1.0           0.0        0.0        0.0       0.0           1.0        1.0      0.0\n",
            "98         0.0           0.0        1.0        1.0       0.0           0.0        1.0      0.0\n",
            "99         0.0           0.0        1.0        1.0       0.0           0.0        0.0      1.0\n",
            "100        1.0           0.0        0.0        0.0       0.0           1.0        1.0      0.0\n",
            "\n",
            "[101 rows x 8 columns]\n"
          ]
        }
      ]
    },
    {
      "cell_type": "code",
      "source": [
        "X_train_fin = pd.concat([X_train[num_cols], X_train_ohe], axis=1)\n",
        "X_test_fin = pd.concat([X_test[num_cols], X_test_ohe], axis=1)"
      ],
      "metadata": {
        "id": "KNLnsynjSou0"
      },
      "execution_count": 35,
      "outputs": []
    },
    {
      "cell_type": "code",
      "source": [
        "X_train_fin"
      ],
      "metadata": {
        "colab": {
          "base_uri": "https://localhost:8080/",
          "height": 424
        },
        "id": "3JCJmnjPS2_0",
        "outputId": "cbfd44b3-818d-47d7-ace0-c6110718d986"
      },
      "execution_count": 36,
      "outputs": [
        {
          "output_type": "execute_result",
          "data": {
            "text/plain": [
              "     bill_length_mm  bill_depth_mm  flipper_length_mm  x0_Adelie  x0_Chinstrap  x0_Gentoo  x1_Biscoe  x1_Dream  x1_Torgersen  x2_FEMALE  x2_MALE\n",
              "0              43.5           15.2              213.0        0.0           0.0        1.0        1.0       0.0           0.0        1.0      0.0\n",
              "1              42.8           18.5              195.0        1.0           0.0        0.0        0.0       0.0           1.0        0.0      1.0\n",
              "2              53.5           19.9              205.0        0.0           1.0        0.0        0.0       1.0           0.0        0.0      1.0\n",
              "3              50.2           14.3              218.0        0.0           0.0        1.0        1.0       0.0           0.0        0.0      1.0\n",
              "4              36.5           18.0              182.0        1.0           0.0        0.0        0.0       1.0           0.0        1.0      0.0\n",
              "..              ...            ...                ...        ...           ...        ...        ...       ...           ...        ...      ...\n",
              "227            46.6           17.8              193.0        0.0           1.0        0.0        0.0       1.0           0.0        1.0      0.0\n",
              "228            49.8           15.9              229.0        0.0           0.0        1.0        1.0       0.0           0.0        0.0      1.0\n",
              "229            34.6           17.2              189.0        1.0           0.0        0.0        0.0       0.0           1.0        1.0      0.0\n",
              "230            45.9           17.1              190.0        0.0           1.0        0.0        0.0       1.0           0.0        1.0      0.0\n",
              "231            41.7           14.7              210.0        0.0           0.0        1.0        1.0       0.0           0.0        1.0      0.0\n",
              "\n",
              "[232 rows x 11 columns]"
            ],
            "text/html": [
              "\n",
              "  <div id=\"df-90037caa-0191-419b-a9d1-52ca250d6f46\">\n",
              "    <div class=\"colab-df-container\">\n",
              "      <div>\n",
              "<style scoped>\n",
              "    .dataframe tbody tr th:only-of-type {\n",
              "        vertical-align: middle;\n",
              "    }\n",
              "\n",
              "    .dataframe tbody tr th {\n",
              "        vertical-align: top;\n",
              "    }\n",
              "\n",
              "    .dataframe thead th {\n",
              "        text-align: right;\n",
              "    }\n",
              "</style>\n",
              "<table border=\"1\" class=\"dataframe\">\n",
              "  <thead>\n",
              "    <tr style=\"text-align: right;\">\n",
              "      <th></th>\n",
              "      <th>bill_length_mm</th>\n",
              "      <th>bill_depth_mm</th>\n",
              "      <th>flipper_length_mm</th>\n",
              "      <th>x0_Adelie</th>\n",
              "      <th>x0_Chinstrap</th>\n",
              "      <th>x0_Gentoo</th>\n",
              "      <th>x1_Biscoe</th>\n",
              "      <th>x1_Dream</th>\n",
              "      <th>x1_Torgersen</th>\n",
              "      <th>x2_FEMALE</th>\n",
              "      <th>x2_MALE</th>\n",
              "    </tr>\n",
              "  </thead>\n",
              "  <tbody>\n",
              "    <tr>\n",
              "      <th>0</th>\n",
              "      <td>43.5</td>\n",
              "      <td>15.2</td>\n",
              "      <td>213.0</td>\n",
              "      <td>0.0</td>\n",
              "      <td>0.0</td>\n",
              "      <td>1.0</td>\n",
              "      <td>1.0</td>\n",
              "      <td>0.0</td>\n",
              "      <td>0.0</td>\n",
              "      <td>1.0</td>\n",
              "      <td>0.0</td>\n",
              "    </tr>\n",
              "    <tr>\n",
              "      <th>1</th>\n",
              "      <td>42.8</td>\n",
              "      <td>18.5</td>\n",
              "      <td>195.0</td>\n",
              "      <td>1.0</td>\n",
              "      <td>0.0</td>\n",
              "      <td>0.0</td>\n",
              "      <td>0.0</td>\n",
              "      <td>0.0</td>\n",
              "      <td>1.0</td>\n",
              "      <td>0.0</td>\n",
              "      <td>1.0</td>\n",
              "    </tr>\n",
              "    <tr>\n",
              "      <th>2</th>\n",
              "      <td>53.5</td>\n",
              "      <td>19.9</td>\n",
              "      <td>205.0</td>\n",
              "      <td>0.0</td>\n",
              "      <td>1.0</td>\n",
              "      <td>0.0</td>\n",
              "      <td>0.0</td>\n",
              "      <td>1.0</td>\n",
              "      <td>0.0</td>\n",
              "      <td>0.0</td>\n",
              "      <td>1.0</td>\n",
              "    </tr>\n",
              "    <tr>\n",
              "      <th>3</th>\n",
              "      <td>50.2</td>\n",
              "      <td>14.3</td>\n",
              "      <td>218.0</td>\n",
              "      <td>0.0</td>\n",
              "      <td>0.0</td>\n",
              "      <td>1.0</td>\n",
              "      <td>1.0</td>\n",
              "      <td>0.0</td>\n",
              "      <td>0.0</td>\n",
              "      <td>0.0</td>\n",
              "      <td>1.0</td>\n",
              "    </tr>\n",
              "    <tr>\n",
              "      <th>4</th>\n",
              "      <td>36.5</td>\n",
              "      <td>18.0</td>\n",
              "      <td>182.0</td>\n",
              "      <td>1.0</td>\n",
              "      <td>0.0</td>\n",
              "      <td>0.0</td>\n",
              "      <td>0.0</td>\n",
              "      <td>1.0</td>\n",
              "      <td>0.0</td>\n",
              "      <td>1.0</td>\n",
              "      <td>0.0</td>\n",
              "    </tr>\n",
              "    <tr>\n",
              "      <th>...</th>\n",
              "      <td>...</td>\n",
              "      <td>...</td>\n",
              "      <td>...</td>\n",
              "      <td>...</td>\n",
              "      <td>...</td>\n",
              "      <td>...</td>\n",
              "      <td>...</td>\n",
              "      <td>...</td>\n",
              "      <td>...</td>\n",
              "      <td>...</td>\n",
              "      <td>...</td>\n",
              "    </tr>\n",
              "    <tr>\n",
              "      <th>227</th>\n",
              "      <td>46.6</td>\n",
              "      <td>17.8</td>\n",
              "      <td>193.0</td>\n",
              "      <td>0.0</td>\n",
              "      <td>1.0</td>\n",
              "      <td>0.0</td>\n",
              "      <td>0.0</td>\n",
              "      <td>1.0</td>\n",
              "      <td>0.0</td>\n",
              "      <td>1.0</td>\n",
              "      <td>0.0</td>\n",
              "    </tr>\n",
              "    <tr>\n",
              "      <th>228</th>\n",
              "      <td>49.8</td>\n",
              "      <td>15.9</td>\n",
              "      <td>229.0</td>\n",
              "      <td>0.0</td>\n",
              "      <td>0.0</td>\n",
              "      <td>1.0</td>\n",
              "      <td>1.0</td>\n",
              "      <td>0.0</td>\n",
              "      <td>0.0</td>\n",
              "      <td>0.0</td>\n",
              "      <td>1.0</td>\n",
              "    </tr>\n",
              "    <tr>\n",
              "      <th>229</th>\n",
              "      <td>34.6</td>\n",
              "      <td>17.2</td>\n",
              "      <td>189.0</td>\n",
              "      <td>1.0</td>\n",
              "      <td>0.0</td>\n",
              "      <td>0.0</td>\n",
              "      <td>0.0</td>\n",
              "      <td>0.0</td>\n",
              "      <td>1.0</td>\n",
              "      <td>1.0</td>\n",
              "      <td>0.0</td>\n",
              "    </tr>\n",
              "    <tr>\n",
              "      <th>230</th>\n",
              "      <td>45.9</td>\n",
              "      <td>17.1</td>\n",
              "      <td>190.0</td>\n",
              "      <td>0.0</td>\n",
              "      <td>1.0</td>\n",
              "      <td>0.0</td>\n",
              "      <td>0.0</td>\n",
              "      <td>1.0</td>\n",
              "      <td>0.0</td>\n",
              "      <td>1.0</td>\n",
              "      <td>0.0</td>\n",
              "    </tr>\n",
              "    <tr>\n",
              "      <th>231</th>\n",
              "      <td>41.7</td>\n",
              "      <td>14.7</td>\n",
              "      <td>210.0</td>\n",
              "      <td>0.0</td>\n",
              "      <td>0.0</td>\n",
              "      <td>1.0</td>\n",
              "      <td>1.0</td>\n",
              "      <td>0.0</td>\n",
              "      <td>0.0</td>\n",
              "      <td>1.0</td>\n",
              "      <td>0.0</td>\n",
              "    </tr>\n",
              "  </tbody>\n",
              "</table>\n",
              "<p>232 rows × 11 columns</p>\n",
              "</div>\n",
              "      <button class=\"colab-df-convert\" onclick=\"convertToInteractive('df-90037caa-0191-419b-a9d1-52ca250d6f46')\"\n",
              "              title=\"Convert this dataframe to an interactive table.\"\n",
              "              style=\"display:none;\">\n",
              "        \n",
              "  <svg xmlns=\"http://www.w3.org/2000/svg\" height=\"24px\"viewBox=\"0 0 24 24\"\n",
              "       width=\"24px\">\n",
              "    <path d=\"M0 0h24v24H0V0z\" fill=\"none\"/>\n",
              "    <path d=\"M18.56 5.44l.94 2.06.94-2.06 2.06-.94-2.06-.94-.94-2.06-.94 2.06-2.06.94zm-11 1L8.5 8.5l.94-2.06 2.06-.94-2.06-.94L8.5 2.5l-.94 2.06-2.06.94zm10 10l.94 2.06.94-2.06 2.06-.94-2.06-.94-.94-2.06-.94 2.06-2.06.94z\"/><path d=\"M17.41 7.96l-1.37-1.37c-.4-.4-.92-.59-1.43-.59-.52 0-1.04.2-1.43.59L10.3 9.45l-7.72 7.72c-.78.78-.78 2.05 0 2.83L4 21.41c.39.39.9.59 1.41.59.51 0 1.02-.2 1.41-.59l7.78-7.78 2.81-2.81c.8-.78.8-2.07 0-2.86zM5.41 20L4 18.59l7.72-7.72 1.47 1.35L5.41 20z\"/>\n",
              "  </svg>\n",
              "      </button>\n",
              "      \n",
              "  <style>\n",
              "    .colab-df-container {\n",
              "      display:flex;\n",
              "      flex-wrap:wrap;\n",
              "      gap: 12px;\n",
              "    }\n",
              "\n",
              "    .colab-df-convert {\n",
              "      background-color: #E8F0FE;\n",
              "      border: none;\n",
              "      border-radius: 50%;\n",
              "      cursor: pointer;\n",
              "      display: none;\n",
              "      fill: #1967D2;\n",
              "      height: 32px;\n",
              "      padding: 0 0 0 0;\n",
              "      width: 32px;\n",
              "    }\n",
              "\n",
              "    .colab-df-convert:hover {\n",
              "      background-color: #E2EBFA;\n",
              "      box-shadow: 0px 1px 2px rgba(60, 64, 67, 0.3), 0px 1px 3px 1px rgba(60, 64, 67, 0.15);\n",
              "      fill: #174EA6;\n",
              "    }\n",
              "\n",
              "    [theme=dark] .colab-df-convert {\n",
              "      background-color: #3B4455;\n",
              "      fill: #D2E3FC;\n",
              "    }\n",
              "\n",
              "    [theme=dark] .colab-df-convert:hover {\n",
              "      background-color: #434B5C;\n",
              "      box-shadow: 0px 1px 3px 1px rgba(0, 0, 0, 0.15);\n",
              "      filter: drop-shadow(0px 1px 2px rgba(0, 0, 0, 0.3));\n",
              "      fill: #FFFFFF;\n",
              "    }\n",
              "  </style>\n",
              "\n",
              "      <script>\n",
              "        const buttonEl =\n",
              "          document.querySelector('#df-90037caa-0191-419b-a9d1-52ca250d6f46 button.colab-df-convert');\n",
              "        buttonEl.style.display =\n",
              "          google.colab.kernel.accessAllowed ? 'block' : 'none';\n",
              "\n",
              "        async function convertToInteractive(key) {\n",
              "          const element = document.querySelector('#df-90037caa-0191-419b-a9d1-52ca250d6f46');\n",
              "          const dataTable =\n",
              "            await google.colab.kernel.invokeFunction('convertToInteractive',\n",
              "                                                     [key], {});\n",
              "          if (!dataTable) return;\n",
              "\n",
              "          const docLinkHtml = 'Like what you see? Visit the ' +\n",
              "            '<a target=\"_blank\" href=https://colab.research.google.com/notebooks/data_table.ipynb>data table notebook</a>'\n",
              "            + ' to learn more about interactive tables.';\n",
              "          element.innerHTML = '';\n",
              "          dataTable['output_type'] = 'display_data';\n",
              "          await google.colab.output.renderOutput(dataTable, element);\n",
              "          const docLink = document.createElement('div');\n",
              "          docLink.innerHTML = docLinkHtml;\n",
              "          element.appendChild(docLink);\n",
              "        }\n",
              "      </script>\n",
              "    </div>\n",
              "  </div>\n",
              "  "
            ]
          },
          "metadata": {},
          "execution_count": 36
        }
      ]
    },
    {
      "cell_type": "code",
      "source": [
        "# 3. 데이터 모형 구축 \n",
        "\n",
        "from sklearn.model_selection import train_test_split \n",
        "\n",
        "X_tr, X_val, y_tr, y_val = train_test_split(X_train_fin, y_train, test_size=0.2, random_state=123)"
      ],
      "metadata": {
        "id": "ajY3nw0hS4KW"
      },
      "execution_count": 37,
      "outputs": []
    },
    {
      "cell_type": "code",
      "source": [
        "# 데이터 스케일링 \n",
        "\n",
        "from sklearn.preprocessing import MinMaxScaler\n",
        "\n",
        "sc = MinMaxScaler()\n",
        "sc.fit(X_tr[num_cols])\n",
        "\n",
        "X_tr[num_cols] = sc.transform(X_tr[num_cols])\n",
        "X_val[num_cols] = sc.transform(X_val[num_cols])\n",
        "X_test_fin[num_cols] = sc.transform(X_test_fin[num_cols])\n"
      ],
      "metadata": {
        "id": "qpZp5GpJTNOM"
      },
      "execution_count": 38,
      "outputs": []
    },
    {
      "cell_type": "code",
      "source": [
        "X_tr"
      ],
      "metadata": {
        "colab": {
          "base_uri": "https://localhost:8080/",
          "height": 424
        },
        "id": "kPDCQlLMTt3k",
        "outputId": "72c635db-2696-4e91-98a1-f9af110656ee"
      },
      "execution_count": 39,
      "outputs": [
        {
          "output_type": "execute_result",
          "data": {
            "text/plain": [
              "     bill_length_mm  bill_depth_mm  flipper_length_mm  x0_Adelie  x0_Chinstrap  x0_Gentoo  x1_Biscoe  x1_Dream  x1_Torgersen  x2_FEMALE  x2_MALE\n",
              "10         0.637066       0.337349           0.982456        0.0           0.0        1.0        1.0       0.0           0.0        0.0      1.0\n",
              "188        0.706564       0.253012           0.877193        0.0           0.0        1.0        1.0       0.0           0.0        0.0      1.0\n",
              "191        0.548263       0.313253           0.719298        0.0           0.0        1.0        1.0       0.0           0.0        0.0      1.0\n",
              "26         0.660232       0.602410           0.368421        0.0           1.0        0.0        0.0       1.0           0.0        0.0      1.0\n",
              "11         0.436293       0.144578           0.771930        0.0           0.0        1.0        1.0       0.0           0.0        1.0      0.0\n",
              "..              ...            ...                ...        ...           ...        ...        ...       ...           ...        ...      ...\n",
              "98         0.131274       0.518072           0.280702        1.0           0.0        0.0        0.0       0.0           1.0        1.0      0.0\n",
              "220        0.250965       0.963855           0.298246        1.0           0.0        0.0        0.0       0.0           1.0        0.0      1.0\n",
              "66         0.517375       0.084337           0.631579        0.0           0.0        1.0        1.0       0.0           0.0        1.0      0.0\n",
              "126        0.428571       0.698795           0.403509        1.0           0.0        0.0        1.0       0.0           0.0        0.0      1.0\n",
              "109        0.517375       0.060241           0.701754        0.0           0.0        1.0        1.0       0.0           0.0        1.0      0.0\n",
              "\n",
              "[185 rows x 11 columns]"
            ],
            "text/html": [
              "\n",
              "  <div id=\"df-fb93feaa-f894-4bb5-bdff-290ed8e4932d\">\n",
              "    <div class=\"colab-df-container\">\n",
              "      <div>\n",
              "<style scoped>\n",
              "    .dataframe tbody tr th:only-of-type {\n",
              "        vertical-align: middle;\n",
              "    }\n",
              "\n",
              "    .dataframe tbody tr th {\n",
              "        vertical-align: top;\n",
              "    }\n",
              "\n",
              "    .dataframe thead th {\n",
              "        text-align: right;\n",
              "    }\n",
              "</style>\n",
              "<table border=\"1\" class=\"dataframe\">\n",
              "  <thead>\n",
              "    <tr style=\"text-align: right;\">\n",
              "      <th></th>\n",
              "      <th>bill_length_mm</th>\n",
              "      <th>bill_depth_mm</th>\n",
              "      <th>flipper_length_mm</th>\n",
              "      <th>x0_Adelie</th>\n",
              "      <th>x0_Chinstrap</th>\n",
              "      <th>x0_Gentoo</th>\n",
              "      <th>x1_Biscoe</th>\n",
              "      <th>x1_Dream</th>\n",
              "      <th>x1_Torgersen</th>\n",
              "      <th>x2_FEMALE</th>\n",
              "      <th>x2_MALE</th>\n",
              "    </tr>\n",
              "  </thead>\n",
              "  <tbody>\n",
              "    <tr>\n",
              "      <th>10</th>\n",
              "      <td>0.637066</td>\n",
              "      <td>0.337349</td>\n",
              "      <td>0.982456</td>\n",
              "      <td>0.0</td>\n",
              "      <td>0.0</td>\n",
              "      <td>1.0</td>\n",
              "      <td>1.0</td>\n",
              "      <td>0.0</td>\n",
              "      <td>0.0</td>\n",
              "      <td>0.0</td>\n",
              "      <td>1.0</td>\n",
              "    </tr>\n",
              "    <tr>\n",
              "      <th>188</th>\n",
              "      <td>0.706564</td>\n",
              "      <td>0.253012</td>\n",
              "      <td>0.877193</td>\n",
              "      <td>0.0</td>\n",
              "      <td>0.0</td>\n",
              "      <td>1.0</td>\n",
              "      <td>1.0</td>\n",
              "      <td>0.0</td>\n",
              "      <td>0.0</td>\n",
              "      <td>0.0</td>\n",
              "      <td>1.0</td>\n",
              "    </tr>\n",
              "    <tr>\n",
              "      <th>191</th>\n",
              "      <td>0.548263</td>\n",
              "      <td>0.313253</td>\n",
              "      <td>0.719298</td>\n",
              "      <td>0.0</td>\n",
              "      <td>0.0</td>\n",
              "      <td>1.0</td>\n",
              "      <td>1.0</td>\n",
              "      <td>0.0</td>\n",
              "      <td>0.0</td>\n",
              "      <td>0.0</td>\n",
              "      <td>1.0</td>\n",
              "    </tr>\n",
              "    <tr>\n",
              "      <th>26</th>\n",
              "      <td>0.660232</td>\n",
              "      <td>0.602410</td>\n",
              "      <td>0.368421</td>\n",
              "      <td>0.0</td>\n",
              "      <td>1.0</td>\n",
              "      <td>0.0</td>\n",
              "      <td>0.0</td>\n",
              "      <td>1.0</td>\n",
              "      <td>0.0</td>\n",
              "      <td>0.0</td>\n",
              "      <td>1.0</td>\n",
              "    </tr>\n",
              "    <tr>\n",
              "      <th>11</th>\n",
              "      <td>0.436293</td>\n",
              "      <td>0.144578</td>\n",
              "      <td>0.771930</td>\n",
              "      <td>0.0</td>\n",
              "      <td>0.0</td>\n",
              "      <td>1.0</td>\n",
              "      <td>1.0</td>\n",
              "      <td>0.0</td>\n",
              "      <td>0.0</td>\n",
              "      <td>1.0</td>\n",
              "      <td>0.0</td>\n",
              "    </tr>\n",
              "    <tr>\n",
              "      <th>...</th>\n",
              "      <td>...</td>\n",
              "      <td>...</td>\n",
              "      <td>...</td>\n",
              "      <td>...</td>\n",
              "      <td>...</td>\n",
              "      <td>...</td>\n",
              "      <td>...</td>\n",
              "      <td>...</td>\n",
              "      <td>...</td>\n",
              "      <td>...</td>\n",
              "      <td>...</td>\n",
              "    </tr>\n",
              "    <tr>\n",
              "      <th>98</th>\n",
              "      <td>0.131274</td>\n",
              "      <td>0.518072</td>\n",
              "      <td>0.280702</td>\n",
              "      <td>1.0</td>\n",
              "      <td>0.0</td>\n",
              "      <td>0.0</td>\n",
              "      <td>0.0</td>\n",
              "      <td>0.0</td>\n",
              "      <td>1.0</td>\n",
              "      <td>1.0</td>\n",
              "      <td>0.0</td>\n",
              "    </tr>\n",
              "    <tr>\n",
              "      <th>220</th>\n",
              "      <td>0.250965</td>\n",
              "      <td>0.963855</td>\n",
              "      <td>0.298246</td>\n",
              "      <td>1.0</td>\n",
              "      <td>0.0</td>\n",
              "      <td>0.0</td>\n",
              "      <td>0.0</td>\n",
              "      <td>0.0</td>\n",
              "      <td>1.0</td>\n",
              "      <td>0.0</td>\n",
              "      <td>1.0</td>\n",
              "    </tr>\n",
              "    <tr>\n",
              "      <th>66</th>\n",
              "      <td>0.517375</td>\n",
              "      <td>0.084337</td>\n",
              "      <td>0.631579</td>\n",
              "      <td>0.0</td>\n",
              "      <td>0.0</td>\n",
              "      <td>1.0</td>\n",
              "      <td>1.0</td>\n",
              "      <td>0.0</td>\n",
              "      <td>0.0</td>\n",
              "      <td>1.0</td>\n",
              "      <td>0.0</td>\n",
              "    </tr>\n",
              "    <tr>\n",
              "      <th>126</th>\n",
              "      <td>0.428571</td>\n",
              "      <td>0.698795</td>\n",
              "      <td>0.403509</td>\n",
              "      <td>1.0</td>\n",
              "      <td>0.0</td>\n",
              "      <td>0.0</td>\n",
              "      <td>1.0</td>\n",
              "      <td>0.0</td>\n",
              "      <td>0.0</td>\n",
              "      <td>0.0</td>\n",
              "      <td>1.0</td>\n",
              "    </tr>\n",
              "    <tr>\n",
              "      <th>109</th>\n",
              "      <td>0.517375</td>\n",
              "      <td>0.060241</td>\n",
              "      <td>0.701754</td>\n",
              "      <td>0.0</td>\n",
              "      <td>0.0</td>\n",
              "      <td>1.0</td>\n",
              "      <td>1.0</td>\n",
              "      <td>0.0</td>\n",
              "      <td>0.0</td>\n",
              "      <td>1.0</td>\n",
              "      <td>0.0</td>\n",
              "    </tr>\n",
              "  </tbody>\n",
              "</table>\n",
              "<p>185 rows × 11 columns</p>\n",
              "</div>\n",
              "      <button class=\"colab-df-convert\" onclick=\"convertToInteractive('df-fb93feaa-f894-4bb5-bdff-290ed8e4932d')\"\n",
              "              title=\"Convert this dataframe to an interactive table.\"\n",
              "              style=\"display:none;\">\n",
              "        \n",
              "  <svg xmlns=\"http://www.w3.org/2000/svg\" height=\"24px\"viewBox=\"0 0 24 24\"\n",
              "       width=\"24px\">\n",
              "    <path d=\"M0 0h24v24H0V0z\" fill=\"none\"/>\n",
              "    <path d=\"M18.56 5.44l.94 2.06.94-2.06 2.06-.94-2.06-.94-.94-2.06-.94 2.06-2.06.94zm-11 1L8.5 8.5l.94-2.06 2.06-.94-2.06-.94L8.5 2.5l-.94 2.06-2.06.94zm10 10l.94 2.06.94-2.06 2.06-.94-2.06-.94-.94-2.06-.94 2.06-2.06.94z\"/><path d=\"M17.41 7.96l-1.37-1.37c-.4-.4-.92-.59-1.43-.59-.52 0-1.04.2-1.43.59L10.3 9.45l-7.72 7.72c-.78.78-.78 2.05 0 2.83L4 21.41c.39.39.9.59 1.41.59.51 0 1.02-.2 1.41-.59l7.78-7.78 2.81-2.81c.8-.78.8-2.07 0-2.86zM5.41 20L4 18.59l7.72-7.72 1.47 1.35L5.41 20z\"/>\n",
              "  </svg>\n",
              "      </button>\n",
              "      \n",
              "  <style>\n",
              "    .colab-df-container {\n",
              "      display:flex;\n",
              "      flex-wrap:wrap;\n",
              "      gap: 12px;\n",
              "    }\n",
              "\n",
              "    .colab-df-convert {\n",
              "      background-color: #E8F0FE;\n",
              "      border: none;\n",
              "      border-radius: 50%;\n",
              "      cursor: pointer;\n",
              "      display: none;\n",
              "      fill: #1967D2;\n",
              "      height: 32px;\n",
              "      padding: 0 0 0 0;\n",
              "      width: 32px;\n",
              "    }\n",
              "\n",
              "    .colab-df-convert:hover {\n",
              "      background-color: #E2EBFA;\n",
              "      box-shadow: 0px 1px 2px rgba(60, 64, 67, 0.3), 0px 1px 3px 1px rgba(60, 64, 67, 0.15);\n",
              "      fill: #174EA6;\n",
              "    }\n",
              "\n",
              "    [theme=dark] .colab-df-convert {\n",
              "      background-color: #3B4455;\n",
              "      fill: #D2E3FC;\n",
              "    }\n",
              "\n",
              "    [theme=dark] .colab-df-convert:hover {\n",
              "      background-color: #434B5C;\n",
              "      box-shadow: 0px 1px 3px 1px rgba(0, 0, 0, 0.15);\n",
              "      filter: drop-shadow(0px 1px 2px rgba(0, 0, 0, 0.3));\n",
              "      fill: #FFFFFF;\n",
              "    }\n",
              "  </style>\n",
              "\n",
              "      <script>\n",
              "        const buttonEl =\n",
              "          document.querySelector('#df-fb93feaa-f894-4bb5-bdff-290ed8e4932d button.colab-df-convert');\n",
              "        buttonEl.style.display =\n",
              "          google.colab.kernel.accessAllowed ? 'block' : 'none';\n",
              "\n",
              "        async function convertToInteractive(key) {\n",
              "          const element = document.querySelector('#df-fb93feaa-f894-4bb5-bdff-290ed8e4932d');\n",
              "          const dataTable =\n",
              "            await google.colab.kernel.invokeFunction('convertToInteractive',\n",
              "                                                     [key], {});\n",
              "          if (!dataTable) return;\n",
              "\n",
              "          const docLinkHtml = 'Like what you see? Visit the ' +\n",
              "            '<a target=\"_blank\" href=https://colab.research.google.com/notebooks/data_table.ipynb>data table notebook</a>'\n",
              "            + ' to learn more about interactive tables.';\n",
              "          element.innerHTML = '';\n",
              "          dataTable['output_type'] = 'display_data';\n",
              "          await google.colab.output.renderOutput(dataTable, element);\n",
              "          const docLink = document.createElement('div');\n",
              "          docLink.innerHTML = docLinkHtml;\n",
              "          element.appendChild(docLink);\n",
              "        }\n",
              "      </script>\n",
              "    </div>\n",
              "  </div>\n",
              "  "
            ]
          },
          "metadata": {},
          "execution_count": 39
        }
      ]
    },
    {
      "cell_type": "code",
      "source": [
        "# 선형 회귀 \n",
        "from sklearn.linear_model import LinearRegression \n",
        "lr = LinearRegression()\n",
        "lr.fit(X_tr, y_tr)\n",
        "y_tr_pred_lr = lr.predict(X_tr)\n",
        "y_val_pred_lr = lr.predict(X_val)"
      ],
      "metadata": {
        "id": "AitsARASTvW9"
      },
      "execution_count": 40,
      "outputs": []
    },
    {
      "cell_type": "code",
      "source": [
        "print(lr.intercept_)\n",
        "\n",
        "coef = pd.Series(data=lr.coef_[0], index=X_train_fin.columns)\n",
        "print(coef.sort_values())"
      ],
      "metadata": {
        "colab": {
          "base_uri": "https://localhost:8080/"
        },
        "id": "e_04qxH6UN6F",
        "outputId": "638d32fe-1e20-4f49-bc3e-1e5b25df4783"
      },
      "execution_count": 42,
      "outputs": [
        {
          "output_type": "stream",
          "name": "stdout",
          "text": [
            "[3161.24758634]\n",
            "x0_Chinstrap         -439.750287\n",
            "x2_FEMALE            -178.439473\n",
            "x0_Adelie            -173.383405\n",
            "x1_Dream              -57.449317\n",
            "x1_Torgersen            2.895853\n",
            "x1_Biscoe              54.553465\n",
            "x2_MALE               178.439473\n",
            "bill_depth_mm         472.222178\n",
            "x0_Gentoo             613.133692\n",
            "bill_length_mm        625.478659\n",
            "flipper_length_mm    1037.955017\n",
            "dtype: float64\n"
          ]
        }
      ]
    },
    {
      "cell_type": "code",
      "source": [
        "from sklearn.linear_model import Lasso\n",
        "\n",
        "ls = Lasso(alpha=0.3)\n",
        "ls.fit(X_tr, y_tr)\n",
        "\n",
        "y_tr_pred_ls = ls.predict(X_tr)\n",
        "y_val_pred_ls = ls.predict(X_val)"
      ],
      "metadata": {
        "id": "u7_TAPdpUUxU"
      },
      "execution_count": 43,
      "outputs": []
    },
    {
      "cell_type": "code",
      "source": [
        "# 4. 데이터 모형 평가\n",
        "\n",
        "from sklearn.metrics import mean_squared_error \n",
        "\n",
        "rmse_tr_lr = mean_squared_error(y_tr, y_tr_pred_lr, squared=False)\n",
        "rmse_val_lr = mean_squared_error(y_val, y_val_pred_lr, squared=False)\n",
        "\n",
        "rmse_tr_ls = mean_squared_error(y_tr, y_tr_pred_ls, squared=False)\n",
        "rmse_val_ls = mean_squared_error(y_val, y_val_pred_ls, squared=False)\n",
        "\n",
        "print(rmse_tr_lr, rmse_val_lr)\n",
        "print(rmse_tr_ls, rmse_val_ls)"
      ],
      "metadata": {
        "colab": {
          "base_uri": "https://localhost:8080/"
        },
        "id": "P49JTsKMU2F8",
        "outputId": "60144e5e-c884-438b-a947-9f98aed13b21"
      },
      "execution_count": 44,
      "outputs": [
        {
          "output_type": "stream",
          "name": "stdout",
          "text": [
            "278.6486347826682 317.5265354107975\n",
            "278.687788264753 316.8615989976468\n"
          ]
        }
      ]
    },
    {
      "cell_type": "code",
      "source": [
        "pred = lr.predict(X_test_fin)[:, 0]\n",
        "\n",
        "pd.DataFrame({'body_mass_g': pred}).to_csv('123456.csv', index=False)"
      ],
      "metadata": {
        "colab": {
          "base_uri": "https://localhost:8080/"
        },
        "id": "4HWd1CmUVt_r",
        "outputId": "a68e1705-ff9b-472f-ce0f-b81408b3d643"
      },
      "execution_count": 49,
      "outputs": [
        {
          "output_type": "execute_result",
          "data": {
            "text/plain": [
              "array([4128.77754528, 5271.03847272, 4090.72277869, 3447.3333956 ,\n",
              "       4639.32592191, 3996.04590733, 3388.88583488, 3781.3736552 ,\n",
              "       3527.99174436, 3515.46094312, 3366.21574496, 5465.61771424,\n",
              "       3649.52539012, 4032.79307637, 3778.63426445, 4066.13294383,\n",
              "       4391.25995214, 3509.30958308, 3621.87949347, 3375.638093  ,\n",
              "       5273.9681309 , 4193.23010162, 5907.43586889, 4642.69456613,\n",
              "       5337.89896005, 5479.41153742, 5492.43303917, 4243.1722661 ,\n",
              "       3402.22903576, 4009.03601045, 4169.07816613, 3404.91815054,\n",
              "       3528.56922429, 4579.76611388, 3338.59669997, 3510.40693226,\n",
              "       3291.14566572, 3425.68090306, 3860.63759992, 4961.63096217,\n",
              "       3495.45860325, 5582.66714492, 4973.448201  , 4652.22242399,\n",
              "       5781.6623004 , 3788.71306783, 4747.14739202, 3322.40830325,\n",
              "       5345.11953251, 4242.02730236, 4619.84971945, 4716.63653716,\n",
              "       4167.61935686, 3778.27248201, 3220.05456383, 4387.63945061,\n",
              "       4820.34462492, 4569.69217472, 3792.75419695, 4055.45090249,\n",
              "       3583.63880554, 4863.05535706, 3279.01334689, 4894.45003881,\n",
              "       4033.81599202, 4068.77230153, 5455.42522508, 3172.62237984,\n",
              "       4740.03450968, 3699.26720927, 4053.55152175, 3437.44593561,\n",
              "       4716.54938579, 3260.55115758, 4857.67932472, 4585.61898056,\n",
              "       5329.17218791, 3359.32205821, 3525.63770816, 4791.60846838,\n",
              "       3526.15725506, 5726.31270495, 3364.24056454, 4814.67955519,\n",
              "       4653.26969373, 3383.93515354, 5635.77225225, 4205.20433364,\n",
              "       3824.09613225, 4757.44052676, 4119.90127853, 4065.32922377,\n",
              "       4169.48575353, 4189.56782828, 5396.78064257, 4165.34960253,\n",
              "       5218.26025111, 3665.84537703, 4782.39400201, 5297.21352045,\n",
              "       3621.6348949 ])"
            ]
          },
          "metadata": {},
          "execution_count": 49
        }
      ]
    },
    {
      "cell_type": "code",
      "source": [
        "y_pred = ls.predict(X_test_fin)\n",
        "print(y_pred)"
      ],
      "metadata": {
        "colab": {
          "base_uri": "https://localhost:8080/"
        },
        "id": "xoSqQFL0VUr1",
        "outputId": "a4a999fc-1e83-4b16-d3a3-d8d503bb1b35"
      },
      "execution_count": 45,
      "outputs": [
        {
          "output_type": "stream",
          "name": "stdout",
          "text": [
            "[4128.15490523 5277.08275691 4091.82746244 3442.24701882 4638.82422323\n",
            " 3999.61191039 3395.69306543 3766.08204095 3525.55528226 3511.96445075\n",
            " 3362.48816531 5463.09239049 3645.97784746 4033.96380361 3784.20747079\n",
            " 4068.97069292 4383.11174499 3514.16192688 3619.16660628 3379.94744337\n",
            " 5274.53460928 4191.49789601 5888.52450624 4647.75570015 5336.61466603\n",
            " 5475.97032845 5487.99295845 4238.95823118 3404.07778557 4009.65333196\n",
            " 4160.54479684 3403.26250075 3524.66880659 4584.04513915 3334.75108096\n",
            " 3511.58561893 3296.66170482 3423.20593686 3863.47557918 4957.42340783\n",
            " 3488.59831954 5575.88581298 4963.22293188 4659.17931303 5767.14398725\n",
            " 3790.92957607 4747.78246407 3328.7920219  5347.64751889 4238.16547126\n",
            " 4626.76951531 4714.42926881 4168.07955889 3784.17304112 3224.30643713\n",
            " 4387.89242137 4821.79073748 4575.48921038 3803.49598815 4052.43060236\n",
            " 3590.89923802 4858.3151975  3282.68040055 4888.22488133 4034.41148551\n",
            " 4072.04166358 5452.72345453 3183.66825771 4738.6595961  3693.27821385\n",
            " 4056.79738333 3438.73462632 4714.59747007 3262.00878166 4856.58139178\n",
            " 4589.09431087 5331.96423226 3350.97646285 3524.26418791 4787.66234593\n",
            " 3517.58147187 5715.96863793 3370.24483049 4812.37152283 4655.49637681\n",
            " 3381.33291837 5630.63281914 4207.20346224 3830.76849188 4753.94955836\n",
            " 4107.82794307 4066.13417652 4170.04321295 4187.97924344 5396.48206746\n",
            " 4164.26541543 5221.85690114 3661.59858605 4779.79352385 5298.90738367\n",
            " 3621.31107814]\n"
          ]
        }
      ]
    },
    {
      "cell_type": "code",
      "source": [
        "\n",
        "pd.DataFrame({'body_mass_g': y_pred}) #.to_csv('123456.csv', index=False)"
      ],
      "metadata": {
        "colab": {
          "base_uri": "https://localhost:8080/",
          "height": 424
        },
        "id": "EkfB8PCDVpZP",
        "outputId": "b70c1578-84eb-4351-cbe2-e98109009405"
      },
      "execution_count": 51,
      "outputs": [
        {
          "output_type": "execute_result",
          "data": {
            "text/plain": [
              "     body_mass_g\n",
              "0    4128.154905\n",
              "1    5277.082757\n",
              "2    4091.827462\n",
              "3    3442.247019\n",
              "4    4638.824223\n",
              "..           ...\n",
              "96   5221.856901\n",
              "97   3661.598586\n",
              "98   4779.793524\n",
              "99   5298.907384\n",
              "100  3621.311078\n",
              "\n",
              "[101 rows x 1 columns]"
            ],
            "text/html": [
              "\n",
              "  <div id=\"df-43de27df-63fa-4b03-b3d6-245eb8958103\">\n",
              "    <div class=\"colab-df-container\">\n",
              "      <div>\n",
              "<style scoped>\n",
              "    .dataframe tbody tr th:only-of-type {\n",
              "        vertical-align: middle;\n",
              "    }\n",
              "\n",
              "    .dataframe tbody tr th {\n",
              "        vertical-align: top;\n",
              "    }\n",
              "\n",
              "    .dataframe thead th {\n",
              "        text-align: right;\n",
              "    }\n",
              "</style>\n",
              "<table border=\"1\" class=\"dataframe\">\n",
              "  <thead>\n",
              "    <tr style=\"text-align: right;\">\n",
              "      <th></th>\n",
              "      <th>body_mass_g</th>\n",
              "    </tr>\n",
              "  </thead>\n",
              "  <tbody>\n",
              "    <tr>\n",
              "      <th>0</th>\n",
              "      <td>4128.154905</td>\n",
              "    </tr>\n",
              "    <tr>\n",
              "      <th>1</th>\n",
              "      <td>5277.082757</td>\n",
              "    </tr>\n",
              "    <tr>\n",
              "      <th>2</th>\n",
              "      <td>4091.827462</td>\n",
              "    </tr>\n",
              "    <tr>\n",
              "      <th>3</th>\n",
              "      <td>3442.247019</td>\n",
              "    </tr>\n",
              "    <tr>\n",
              "      <th>4</th>\n",
              "      <td>4638.824223</td>\n",
              "    </tr>\n",
              "    <tr>\n",
              "      <th>...</th>\n",
              "      <td>...</td>\n",
              "    </tr>\n",
              "    <tr>\n",
              "      <th>96</th>\n",
              "      <td>5221.856901</td>\n",
              "    </tr>\n",
              "    <tr>\n",
              "      <th>97</th>\n",
              "      <td>3661.598586</td>\n",
              "    </tr>\n",
              "    <tr>\n",
              "      <th>98</th>\n",
              "      <td>4779.793524</td>\n",
              "    </tr>\n",
              "    <tr>\n",
              "      <th>99</th>\n",
              "      <td>5298.907384</td>\n",
              "    </tr>\n",
              "    <tr>\n",
              "      <th>100</th>\n",
              "      <td>3621.311078</td>\n",
              "    </tr>\n",
              "  </tbody>\n",
              "</table>\n",
              "<p>101 rows × 1 columns</p>\n",
              "</div>\n",
              "      <button class=\"colab-df-convert\" onclick=\"convertToInteractive('df-43de27df-63fa-4b03-b3d6-245eb8958103')\"\n",
              "              title=\"Convert this dataframe to an interactive table.\"\n",
              "              style=\"display:none;\">\n",
              "        \n",
              "  <svg xmlns=\"http://www.w3.org/2000/svg\" height=\"24px\"viewBox=\"0 0 24 24\"\n",
              "       width=\"24px\">\n",
              "    <path d=\"M0 0h24v24H0V0z\" fill=\"none\"/>\n",
              "    <path d=\"M18.56 5.44l.94 2.06.94-2.06 2.06-.94-2.06-.94-.94-2.06-.94 2.06-2.06.94zm-11 1L8.5 8.5l.94-2.06 2.06-.94-2.06-.94L8.5 2.5l-.94 2.06-2.06.94zm10 10l.94 2.06.94-2.06 2.06-.94-2.06-.94-.94-2.06-.94 2.06-2.06.94z\"/><path d=\"M17.41 7.96l-1.37-1.37c-.4-.4-.92-.59-1.43-.59-.52 0-1.04.2-1.43.59L10.3 9.45l-7.72 7.72c-.78.78-.78 2.05 0 2.83L4 21.41c.39.39.9.59 1.41.59.51 0 1.02-.2 1.41-.59l7.78-7.78 2.81-2.81c.8-.78.8-2.07 0-2.86zM5.41 20L4 18.59l7.72-7.72 1.47 1.35L5.41 20z\"/>\n",
              "  </svg>\n",
              "      </button>\n",
              "      \n",
              "  <style>\n",
              "    .colab-df-container {\n",
              "      display:flex;\n",
              "      flex-wrap:wrap;\n",
              "      gap: 12px;\n",
              "    }\n",
              "\n",
              "    .colab-df-convert {\n",
              "      background-color: #E8F0FE;\n",
              "      border: none;\n",
              "      border-radius: 50%;\n",
              "      cursor: pointer;\n",
              "      display: none;\n",
              "      fill: #1967D2;\n",
              "      height: 32px;\n",
              "      padding: 0 0 0 0;\n",
              "      width: 32px;\n",
              "    }\n",
              "\n",
              "    .colab-df-convert:hover {\n",
              "      background-color: #E2EBFA;\n",
              "      box-shadow: 0px 1px 2px rgba(60, 64, 67, 0.3), 0px 1px 3px 1px rgba(60, 64, 67, 0.15);\n",
              "      fill: #174EA6;\n",
              "    }\n",
              "\n",
              "    [theme=dark] .colab-df-convert {\n",
              "      background-color: #3B4455;\n",
              "      fill: #D2E3FC;\n",
              "    }\n",
              "\n",
              "    [theme=dark] .colab-df-convert:hover {\n",
              "      background-color: #434B5C;\n",
              "      box-shadow: 0px 1px 3px 1px rgba(0, 0, 0, 0.15);\n",
              "      filter: drop-shadow(0px 1px 2px rgba(0, 0, 0, 0.3));\n",
              "      fill: #FFFFFF;\n",
              "    }\n",
              "  </style>\n",
              "\n",
              "      <script>\n",
              "        const buttonEl =\n",
              "          document.querySelector('#df-43de27df-63fa-4b03-b3d6-245eb8958103 button.colab-df-convert');\n",
              "        buttonEl.style.display =\n",
              "          google.colab.kernel.accessAllowed ? 'block' : 'none';\n",
              "\n",
              "        async function convertToInteractive(key) {\n",
              "          const element = document.querySelector('#df-43de27df-63fa-4b03-b3d6-245eb8958103');\n",
              "          const dataTable =\n",
              "            await google.colab.kernel.invokeFunction('convertToInteractive',\n",
              "                                                     [key], {});\n",
              "          if (!dataTable) return;\n",
              "\n",
              "          const docLinkHtml = 'Like what you see? Visit the ' +\n",
              "            '<a target=\"_blank\" href=https://colab.research.google.com/notebooks/data_table.ipynb>data table notebook</a>'\n",
              "            + ' to learn more about interactive tables.';\n",
              "          element.innerHTML = '';\n",
              "          dataTable['output_type'] = 'display_data';\n",
              "          await google.colab.output.renderOutput(dataTable, element);\n",
              "          const docLink = document.createElement('div');\n",
              "          docLink.innerHTML = docLinkHtml;\n",
              "          element.appendChild(docLink);\n",
              "        }\n",
              "      </script>\n",
              "    </div>\n",
              "  </div>\n",
              "  "
            ]
          },
          "metadata": {},
          "execution_count": 51
        }
      ]
    },
    {
      "cell_type": "code",
      "source": [
        "X_test.shape"
      ],
      "metadata": {
        "colab": {
          "base_uri": "https://localhost:8080/"
        },
        "id": "ABTh6PZ8WORM",
        "outputId": "b66e7536-aed1-4ed9-a4a6-42f8946d10fb"
      },
      "execution_count": 52,
      "outputs": [
        {
          "output_type": "execute_result",
          "data": {
            "text/plain": [
              "(101, 6)"
            ]
          },
          "metadata": {},
          "execution_count": 52
        }
      ]
    },
    {
      "cell_type": "code",
      "source": [
        ""
      ],
      "metadata": {
        "id": "CDZ-Gd5mWWD1"
      },
      "execution_count": null,
      "outputs": []
    }
  ]
}