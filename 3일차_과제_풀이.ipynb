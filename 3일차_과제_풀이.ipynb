{
  "cells": [
    {
      "cell_type": "markdown",
      "id": "b80a736d",
      "metadata": {
        "id": "b80a736d"
      },
      "source": [
        "# 3일차 과제 \n",
        "\n",
        "- 아래 문제는 3일차 수업에 사용한 데이터를 활용하여 시험 문제와 유사한 형태로 문제를 만든 것입니다.\n",
        "- 수업 내용과 교재를 참고하여 실제 시험을 보는 것처럼 한 셀 안에 코드를 작성해보세요.\n",
        "- 제출 방법: 6/1(수)까지 코드를 작성한 .ipynb 파일을 yi.kyeongsuk@gmail.com로 제출 (***단, 코드 실행 시 정답 csv 파일이 생성되어야 합니다.***)\n"
      ]
    },
    {
      "cell_type": "code",
      "source": [
        "# 이 셀을 먼저 실행한 후 문제를 풀어주세요.\n",
        "!git clone https://github.com/kyeongsuk-yi/data_analyst/"
      ],
      "metadata": {
        "id": "9IgmayvwtBQS",
        "colab": {
          "base_uri": "https://localhost:8080/"
        },
        "outputId": "be2cc4c6-ee6f-4466-eaf6-d2c46d1f839a"
      },
      "id": "9IgmayvwtBQS",
      "execution_count": 1,
      "outputs": [
        {
          "output_type": "stream",
          "name": "stdout",
          "text": [
            "Cloning into 'data_analyst'...\n",
            "remote: Enumerating objects: 26, done.\u001b[K\n",
            "remote: Counting objects: 100% (26/26), done.\u001b[K\n",
            "remote: Compressing objects: 100% (23/23), done.\u001b[K\n",
            "remote: Total 26 (delta 5), reused 0 (delta 0), pack-reused 0\u001b[K\n",
            "Unpacking objects: 100% (26/26), done.\n"
          ]
        }
      ]
    },
    {
      "cell_type": "markdown",
      "source": [
        "### 문제\n",
        "아래는 boston housing 데이터 세트를 변형시킨 데이터이다.   \n",
        "\n",
        "1) 제공 데이터 목록    \n",
        "*   housing_y_train.csv : 주택 고가 여부 데이터(학습용), csv 형식의 파일\n",
        "*   housing_X_train.csv, housing_X_test.csv : 주택 정보(학습 및 평가용), csv 형식의 파일\n",
        "\n",
        "2) 주어진 학습용 데이터 (housing_X_train.csv, housing_y_train.csv)를 활용하여 해당 주택이 고가인지 아닌지를 예측하는 모형을 만든 후, 이를 평가용 데이터(housing_X_test.csv)에 적용하여 얻는 주택 고가 여부(고가일 경우 1, 아니면 0)를 다음과 같은 형식의 csv 파일로 생성하시오. (제출한 모델의 성능은 ROC-AUC 평가 지표에 따라 채점).\n",
        "\n",
        "|isHighValue|\n",
        "|---|\n",
        "|0|\n",
        "|0|\n",
        "|1|\n",
        "|1|\n",
        "|0|\n",
        "|...|\n",
        "\n",
        "3) 유의사항\n",
        "- 성능이 우수한 예측모형을 구축하기 위해서는 적절한 데이터 전처리, feature engineering, 분류 알고리즘 사용, 초매개변수 최적화, 모형 앙상블 등이 수반되어야 한다. \n",
        "- 이름.csv (예: 홍길동.csv) 파일이 만들어지도록 코드를 제출한다.\n",
        "- 제출한 모델의 성능은 ROC-AUC 평가 지표에 따라 채점한다. "
      ],
      "metadata": {
        "id": "OMHtnJ15tAN5"
      },
      "id": "OMHtnJ15tAN5"
    },
    {
      "cell_type": "code",
      "source": [
        "# 출력을 원하실 경우 print() 함수 활용\n",
        "# 예시) print(df.head())\n",
        "\n",
        "# getcwd(), chdir() 등 작업 폴더 설정 불필요\n",
        "# 파일 경로 상 내부 드라이브 경로(C: 등) 접근 불가\n",
        "\n",
        "# 데이터 파일 읽기 예제\n",
        "# import pandas as pd\n",
        "# X_test = pd.read_csv(\"./data_analyst/data/housing_X_test.csv\")\n",
        "# X_train = pd.read_csv(\"./data_analyst/data/housing_X_train.csv\")\n",
        "# y_train = pd.read_csv(\"./data_analyst/data/housing_y_train.csv\")\n",
        "\n",
        "\n",
        "######### 여기에 코드를 작성해 주세요. #########\n",
        "# import packages\n",
        "\n",
        "import pandas as pd\n",
        "import numpy as np \n",
        "\n",
        "import warnings \n",
        "warnings.filterwarnings('ignore')\n",
        "\n",
        "pd.set_option('expand_frame_repr', False)\n",
        "\n",
        "X_test = pd.read_csv(\"./data_analyst/data/housing_X_test.csv\")\n",
        "X_train = pd.read_csv(\"./data_analyst/data/housing_X_train.csv\")\n",
        "y_train = pd.read_csv(\"./data_analyst/data/housing_y_train.csv\")\n",
        "\n",
        "# print(X_test.shape, X_train.shape, y_train.shape, '\\n')\n",
        "# print(X_test)\n",
        "# print(X_train)\n",
        "# print(y_train)\n",
        "\n",
        "# print(X_test.isnull().sum(), '\\n')\n",
        "# print(X_train.isnull().sum()/len(X_train), '\\n')\n",
        "# print(y_train.isnull().sum(), '\\n')\n",
        "\n",
        "# print(X_train.head(1).T)\n",
        "# print('\\n')\n",
        "# print(X_train.info())\n",
        "\n",
        "del_cols = ['CHAS', 'TAX']\n",
        "num_cols = ['CRIM', 'ZN', 'INDUS', 'NOX', 'RM', 'AGE', 'DIS', 'RAD', 'PTRATIO', 'B', 'LSTAT']\n",
        "cat_cols = []\n",
        "y_col = ['isHighValue']\n",
        "\n",
        "# LSTAT 변수 결측치 처리 \n",
        "# 1) 결측이 존재하는 행 삭제 -> 이 때는 y_train 도 같이 지워야 한다 (X_test는 건들면 x)\n",
        "# 2) sklearn.impute - SimpleImputer\n",
        "# 3) fillna\n",
        "\n",
        "med = X_train['LSTAT'].median()\n",
        "X_train['LSTAT'] = X_train['LSTAT'].fillna(med)\n",
        "# print(X_train.isnull().sum())\n",
        "\n",
        "X_train.drop(del_cols, axis=1, inplace=True)\n",
        "X_test.drop(del_cols, axis=1, inplace=True)\n",
        "\n",
        "# 다중공선성체크 -> 보통 독립변수끼리 서로 상관관계가 0.8~0.9 이상 되면 처리를 해줍니다. (0.7은 조금 애매)\n",
        "# print(X_train.describe())\n",
        "# corr_df = X_train.corr()\n",
        "# print(corr_df[corr_df>0.8])\n",
        "\n",
        "# 3. 데이터 모형 구축\n",
        "# - 데이터 분할\n",
        "from sklearn.model_selection import train_test_split\n",
        "\n",
        "X_tr, X_val, y_tr, y_val = train_test_split(X_train, y_train, test_size=0.2, stratify=y_train, random_state=123)\n",
        "\n",
        "from sklearn.preprocessing import StandardScaler\n",
        "\n",
        "sc = StandardScaler()\n",
        "sc.fit(X_tr[num_cols])\n",
        "X_tr[num_cols] = sc.transform(X_tr[num_cols])\n",
        "X_val[num_cols] = sc.transform(X_val[num_cols])\n",
        "X_test[num_cols] = sc.transform(X_test[num_cols])\n",
        "\n",
        "from sklearn.ensemble import RandomForestClassifier\n",
        "from xgboost import XGBClassifier \n",
        "\n",
        "rf = RandomForestClassifier(max_depth=20, min_samples_leaf=2, random_state=123)\n",
        "xgb1 = XGBClassifier(n_estimators=100, max_depth=10)\n",
        "xgb2 = XGBClassifier(n_estimators=150, max_depth=10, min_child_weight=2)\n",
        "\n",
        "rf.fit(X_tr, y_tr)\n",
        "xgb1.fit(X_tr, y_tr)\n",
        "xgb2.fit(X_tr, y_tr)\n",
        "\n",
        "# 4. 모형 평가 \n",
        "from sklearn.metrics import roc_auc_score \n",
        "pred_rf_tr = rf.predict_proba(X_tr)[:, 1]\n",
        "pred_rf_val = rf.predict_proba(X_val)[:, 1]\n",
        "pred_xgb1_tr = xgb1.predict_proba(X_tr)[:, 1]\n",
        "pred_xgb1_val = xgb1.predict_proba(X_val)[:, 1]\n",
        "pred_xgb2_tr = xgb2.predict_proba(X_tr)[:, 1]\n",
        "pred_xgb2_val = xgb2.predict_proba(X_val)[:, 1]\n",
        "\n",
        "score_rf_tr = roc_auc_score(y_tr, pred_rf_tr)\n",
        "score_rf_val = roc_auc_score(y_val, pred_rf_val)\n",
        "score_xgb1_tr = roc_auc_score(y_tr, pred_xgb1_tr)\n",
        "score_xgb1_val = roc_auc_score(y_val, pred_xgb1_val)\n",
        "score_xgb2_tr = roc_auc_score(y_tr, pred_xgb2_tr)\n",
        "score_xgb2_val = roc_auc_score(y_val, pred_xgb2_val)\n",
        "\n",
        "# print('rf: ', score_rf_tr, ' / ', score_rf_val)\n",
        "# print('xgb1: ', score_xgb1_tr, ' / ', score_xgb1_val)\n",
        "# print('xgb2: ', score_xgb2_tr, ' / ', score_xgb2_val)\n",
        "\n",
        "pred = xgb1.predict_proba(X_test)[:, 1]\n",
        "pd.DataFrame({'isHighValue': pred}).to_csv('1234567.csv', index=False)\n",
        "\n",
        "################################################\n",
        "\n",
        "\n",
        "# 답안 제출 참고\n",
        "# 아래 코드 예측변수와 이름을 개인별로 변경하여 활용\n",
        "# pd.DataFrame({'cust_id': X_test.cust_id, 'gender': pred}).to_csv('홍길동.csv', index=False)"
      ],
      "metadata": {
        "id": "HKcXH0AEoemB"
      },
      "id": "HKcXH0AEoemB",
      "execution_count": 21,
      "outputs": []
    },
    {
      "cell_type": "code",
      "source": [
        ""
      ],
      "metadata": {
        "id": "skS_aZ84MvTC"
      },
      "id": "skS_aZ84MvTC",
      "execution_count": null,
      "outputs": []
    }
  ],
  "metadata": {
    "kernelspec": {
      "display_name": "Python 3",
      "language": "python",
      "name": "python3"
    },
    "language_info": {
      "codemirror_mode": {
        "name": "ipython",
        "version": 3
      },
      "file_extension": ".py",
      "mimetype": "text/x-python",
      "name": "python",
      "nbconvert_exporter": "python",
      "pygments_lexer": "ipython3",
      "version": "3.8.8"
    },
    "colab": {
      "name": "3일차_과제_풀이.ipynb",
      "provenance": [],
      "collapsed_sections": []
    }
  },
  "nbformat": 4,
  "nbformat_minor": 5
}