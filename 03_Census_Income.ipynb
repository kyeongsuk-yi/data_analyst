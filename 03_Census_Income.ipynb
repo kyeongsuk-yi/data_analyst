{
  "nbformat": 4,
  "nbformat_minor": 0,
  "metadata": {
    "colab": {
      "name": "03. Census Income.ipynb",
      "provenance": [],
      "collapsed_sections": []
    },
    "kernelspec": {
      "name": "python3",
      "display_name": "Python 3"
    },
    "language_info": {
      "name": "python"
    }
  },
  "cells": [
    {
      "cell_type": "code",
      "execution_count": 1,
      "metadata": {
        "colab": {
          "base_uri": "https://localhost:8080/"
        },
        "id": "3DNTc4YmL5S7",
        "outputId": "83dde6cf-14bd-4330-f4c8-10b75860ce81"
      },
      "outputs": [
        {
          "output_type": "stream",
          "name": "stdout",
          "text": [
            "Cloning into 'yemoonsaBigdata'...\n",
            "remote: Enumerating objects: 471, done.\u001b[K\n",
            "remote: Counting objects: 100% (108/108), done.\u001b[K\n",
            "remote: Compressing objects: 100% (65/65), done.\u001b[K\n",
            "remote: Total 471 (delta 63), reused 43 (delta 43), pack-reused 363\u001b[K\n",
            "Receiving objects: 100% (471/471), 8.55 MiB | 17.82 MiB/s, done.\n",
            "Resolving deltas: 100% (248/248), done.\n"
          ]
        }
      ],
      "source": [
        "!git clone https://github.com/AnalyticsKnight/yemoonsaBigdata/"
      ]
    },
    {
      "cell_type": "code",
      "source": [
        "# 출력을 원하실 경우 print() 함수 활용\n",
        "# 예시) print(df.head())\n",
        "\n",
        "# getcwd(), chdir() 등 작업 폴더 설정 불필요\n",
        "# 파일 경로 상 내부 드라이브 경로(C: 등) 접근 불가\n",
        "\n",
        "# 데이터 파일 읽기 예제\n",
        "import pandas as pd\n",
        "X_test = pd.read_csv(\"./yemoonsaBigdata/datasets/Part2/census_X_test.csv\")\n",
        "X_train = pd.read_csv(\"./yemoonsaBigdata/datasets/Part2/census_X_train.csv\")\n",
        "y_train = pd.read_csv(\"./yemoonsaBigdata/datasets/Part2/census_y_train.csv\")\n",
        "\n",
        "# 사용자 코딩\n",
        "\n",
        "# 답안 제출 참고\n",
        "# 아래 코드 예측변수와 수험번호를 개인별로 변경하여 활용\n",
        "# pd.DataFrame({'cust_id': X_test.cust_id, 'gender': pred}).to_csv('003000000.csv', index=False)"
      ],
      "metadata": {
        "id": "ZS7zBXXcMDaI"
      },
      "execution_count": 44,
      "outputs": []
    },
    {
      "cell_type": "code",
      "source": [
        "import pandas as pd\n",
        "import numpy as np\n",
        "\n",
        "import warnings \n",
        "\n",
        "warnings.filterwarnings('ignore')\n",
        "pd.set_option('expand_frame_repr', False)\n",
        "pd.set_option('display.float_format', '{:.2f}'.format)"
      ],
      "metadata": {
        "id": "2Tm1ICoiwk5G"
      },
      "execution_count": 45,
      "outputs": []
    },
    {
      "cell_type": "code",
      "source": [
        "X_test = pd.read_csv(\"./yemoonsaBigdata/datasets/Part2/census_X_test.csv\")\n",
        "X_train = pd.read_csv(\"./yemoonsaBigdata/datasets/Part2/census_X_train.csv\")\n",
        "y_train = pd.read_csv(\"./yemoonsaBigdata/datasets/Part2/census_y_train.csv\")"
      ],
      "metadata": {
        "id": "Enzei-WKw8I_"
      },
      "execution_count": 46,
      "outputs": []
    },
    {
      "cell_type": "code",
      "source": [
        "print(X_test.shape, X_train.shape, y_train.shape, '\\n')\n",
        "print(X_test, '\\n')\n",
        "print(X_train, '\\n')\n",
        "print(y_train, '\\n')"
      ],
      "metadata": {
        "colab": {
          "base_uri": "https://localhost:8080/"
        },
        "id": "SV8bzGEww8vL",
        "outputId": "6ed80f5a-9a0b-4795-be32-9748c673400f"
      },
      "execution_count": 47,
      "outputs": [
        {
          "output_type": "stream",
          "name": "stdout",
          "text": [
            "(15060, 14) (30162, 14) (30162, 1) \n",
            "\n",
            "       age     workclass  fnlwgt      education  education_num      marital_status         occupation   relationship                race     sex  capital_gain  capital_loss  hours_per_week native_country\n",
            "0       25       Private  226802           11th              7       Never-married  Machine-op-inspct      Own-child               Black    Male             0             0              40  United-States\n",
            "1       38       Private   89814        HS-grad              9  Married-civ-spouse    Farming-fishing        Husband               White    Male             0             0              50  United-States\n",
            "2       28     Local-gov  336951     Assoc-acdm             12  Married-civ-spouse    Protective-serv        Husband               White    Male             0             0              40  United-States\n",
            "3       44       Private  160323   Some-college             10  Married-civ-spouse  Machine-op-inspct        Husband               Black    Male          7688             0              40  United-States\n",
            "4       34       Private  198693           10th              6       Never-married      Other-service  Not-in-family               White    Male             0             0              30  United-States\n",
            "...    ...           ...     ...            ...            ...                 ...                ...            ...                 ...     ...           ...           ...             ...            ...\n",
            "15055   33       Private  245211      Bachelors             13       Never-married     Prof-specialty      Own-child               White    Male             0             0              40  United-States\n",
            "15056   39       Private  215419      Bachelors             13            Divorced     Prof-specialty  Not-in-family               White  Female             0             0              36  United-States\n",
            "15057   38       Private  374983      Bachelors             13  Married-civ-spouse     Prof-specialty        Husband               White    Male             0             0              50  United-States\n",
            "15058   44       Private   83891      Bachelors             13            Divorced       Adm-clerical      Own-child  Asian-Pac-Islander    Male          5455             0              40  United-States\n",
            "15059   35  Self-emp-inc  182148      Bachelors             13  Married-civ-spouse    Exec-managerial        Husband               White    Male             0             0              60  United-States\n",
            "\n",
            "[15060 rows x 14 columns] \n",
            "\n",
            "       age         workclass  fnlwgt    education  education_num      marital_status         occupation   relationship   race     sex  capital_gain  capital_loss  hours_per_week native_country\n",
            "0       39         State-gov   77516    Bachelors             13       Never-married       Adm-clerical  Not-in-family  White    Male          2174             0              40  United-States\n",
            "1       50  Self-emp-not-inc   83311    Bachelors             13  Married-civ-spouse    Exec-managerial        Husband  White    Male             0             0              13  United-States\n",
            "2       38           Private  215646      HS-grad              9            Divorced  Handlers-cleaners  Not-in-family  White    Male             0             0              40  United-States\n",
            "3       53           Private  234721         11th              7  Married-civ-spouse  Handlers-cleaners        Husband  Black    Male             0             0              40  United-States\n",
            "4       28           Private  338409    Bachelors             13  Married-civ-spouse     Prof-specialty           Wife  Black  Female             0             0              40           Cuba\n",
            "...    ...               ...     ...          ...            ...                 ...                ...            ...    ...     ...           ...           ...             ...            ...\n",
            "30157   27           Private  257302   Assoc-acdm             12  Married-civ-spouse       Tech-support           Wife  White  Female             0             0              38  United-States\n",
            "30158   40           Private  154374      HS-grad              9  Married-civ-spouse  Machine-op-inspct        Husband  White    Male             0             0              40  United-States\n",
            "30159   58           Private  151910      HS-grad              9             Widowed       Adm-clerical      Unmarried  White  Female             0             0              40  United-States\n",
            "30160   22           Private  201490      HS-grad              9       Never-married       Adm-clerical      Own-child  White    Male             0             0              20  United-States\n",
            "30161   52      Self-emp-inc  287927      HS-grad              9  Married-civ-spouse    Exec-managerial           Wife  White  Female         15024             0              40  United-States\n",
            "\n",
            "[30162 rows x 14 columns] \n",
            "\n",
            "       target\n",
            "0           0\n",
            "1           0\n",
            "2           0\n",
            "3           0\n",
            "4           0\n",
            "...       ...\n",
            "30157       0\n",
            "30158       1\n",
            "30159       0\n",
            "30160       0\n",
            "30161       1\n",
            "\n",
            "[30162 rows x 1 columns] \n",
            "\n"
          ]
        }
      ]
    },
    {
      "cell_type": "code",
      "source": [
        "# 2. 데이터 전처리 \n",
        "\n",
        "print(X_train.head(1).T)\n",
        "print('\\n')\n",
        "print(X_train.info())\n",
        "print('\\n')\n",
        "print(X_test.info())"
      ],
      "metadata": {
        "colab": {
          "base_uri": "https://localhost:8080/"
        },
        "id": "GlzfUE_oxI8t",
        "outputId": "8e18eeb1-9d2b-4462-c1ae-708bceea7c45"
      },
      "execution_count": 48,
      "outputs": [
        {
          "output_type": "stream",
          "name": "stdout",
          "text": [
            "                            0\n",
            "age                        39\n",
            "workclass           State-gov\n",
            "fnlwgt                  77516\n",
            "education           Bachelors\n",
            "education_num              13\n",
            "marital_status  Never-married\n",
            "occupation       Adm-clerical\n",
            "relationship    Not-in-family\n",
            "race                    White\n",
            "sex                      Male\n",
            "capital_gain             2174\n",
            "capital_loss                0\n",
            "hours_per_week             40\n",
            "native_country  United-States\n",
            "\n",
            "\n",
            "<class 'pandas.core.frame.DataFrame'>\n",
            "RangeIndex: 30162 entries, 0 to 30161\n",
            "Data columns (total 14 columns):\n",
            " #   Column          Non-Null Count  Dtype \n",
            "---  ------          --------------  ----- \n",
            " 0   age             30162 non-null  int64 \n",
            " 1   workclass       30162 non-null  object\n",
            " 2   fnlwgt          30162 non-null  int64 \n",
            " 3   education       30162 non-null  object\n",
            " 4   education_num   30162 non-null  int64 \n",
            " 5   marital_status  30162 non-null  object\n",
            " 6   occupation      30162 non-null  object\n",
            " 7   relationship    30162 non-null  object\n",
            " 8   race            30162 non-null  object\n",
            " 9   sex             30162 non-null  object\n",
            " 10  capital_gain    30162 non-null  int64 \n",
            " 11  capital_loss    30162 non-null  int64 \n",
            " 12  hours_per_week  30162 non-null  int64 \n",
            " 13  native_country  30162 non-null  object\n",
            "dtypes: int64(6), object(8)\n",
            "memory usage: 3.2+ MB\n",
            "None\n",
            "\n",
            "\n",
            "<class 'pandas.core.frame.DataFrame'>\n",
            "RangeIndex: 15060 entries, 0 to 15059\n",
            "Data columns (total 14 columns):\n",
            " #   Column          Non-Null Count  Dtype \n",
            "---  ------          --------------  ----- \n",
            " 0   age             15060 non-null  int64 \n",
            " 1   workclass       15060 non-null  object\n",
            " 2   fnlwgt          15060 non-null  int64 \n",
            " 3   education       15060 non-null  object\n",
            " 4   education_num   15060 non-null  int64 \n",
            " 5   marital_status  15060 non-null  object\n",
            " 6   occupation      15060 non-null  object\n",
            " 7   relationship    15060 non-null  object\n",
            " 8   race            15060 non-null  object\n",
            " 9   sex             15060 non-null  object\n",
            " 10  capital_gain    15060 non-null  int64 \n",
            " 11  capital_loss    15060 non-null  int64 \n",
            " 12  hours_per_week  15060 non-null  int64 \n",
            " 13  native_country  15060 non-null  object\n",
            "dtypes: int64(6), object(8)\n",
            "memory usage: 1.6+ MB\n",
            "None\n"
          ]
        }
      ]
    },
    {
      "cell_type": "code",
      "source": [
        "print(X_train.isnull().sum(), '\\n')\n",
        "print(X_test.isnull().sum())"
      ],
      "metadata": {
        "colab": {
          "base_uri": "https://localhost:8080/"
        },
        "id": "46Q2_xgnxbz1",
        "outputId": "f4085d68-390f-48a8-b50f-472d753c7095"
      },
      "execution_count": 49,
      "outputs": [
        {
          "output_type": "stream",
          "name": "stdout",
          "text": [
            "age               0\n",
            "workclass         0\n",
            "fnlwgt            0\n",
            "education         0\n",
            "education_num     0\n",
            "marital_status    0\n",
            "occupation        0\n",
            "relationship      0\n",
            "race              0\n",
            "sex               0\n",
            "capital_gain      0\n",
            "capital_loss      0\n",
            "hours_per_week    0\n",
            "native_country    0\n",
            "dtype: int64 \n",
            "\n",
            "age               0\n",
            "workclass         0\n",
            "fnlwgt            0\n",
            "education         0\n",
            "education_num     0\n",
            "marital_status    0\n",
            "occupation        0\n",
            "relationship      0\n",
            "race              0\n",
            "sex               0\n",
            "capital_gain      0\n",
            "capital_loss      0\n",
            "hours_per_week    0\n",
            "native_country    0\n",
            "dtype: int64\n"
          ]
        }
      ]
    },
    {
      "cell_type": "code",
      "source": [
        "print(y_train.isnull().sum())"
      ],
      "metadata": {
        "colab": {
          "base_uri": "https://localhost:8080/"
        },
        "id": "u_xxtTqRxp70",
        "outputId": "ce71ef66-50c7-4ef2-fb68-effab1efc616"
      },
      "execution_count": 9,
      "outputs": [
        {
          "output_type": "stream",
          "name": "stdout",
          "text": [
            "target    0\n",
            "dtype: int64\n"
          ]
        }
      ]
    },
    {
      "cell_type": "code",
      "source": [
        "print(X_train.describe())"
      ],
      "metadata": {
        "colab": {
          "base_uri": "https://localhost:8080/"
        },
        "id": "FdMbZz7zxxnM",
        "outputId": "b0a9f23e-96f8-455d-9e95-2e0ca0705877"
      },
      "execution_count": 10,
      "outputs": [
        {
          "output_type": "stream",
          "name": "stdout",
          "text": [
            "           age     fnlwgt  education_num  capital_gain  capital_loss  hours_per_week\n",
            "count 30162.00   30162.00       30162.00      30162.00      30162.00        30162.00\n",
            "mean     38.44  189793.83          10.12       1092.01         88.37           40.93\n",
            "std      13.13  105652.97           2.55       7406.35        404.30           11.98\n",
            "min      17.00   13769.00           1.00          0.00          0.00            1.00\n",
            "25%      28.00  117627.25           9.00          0.00          0.00           40.00\n",
            "50%      37.00  178425.00          10.00          0.00          0.00           40.00\n",
            "75%      47.00  237628.50          13.00          0.00          0.00           45.00\n",
            "max      90.00 1484705.00          16.00      99999.00       4356.00           99.00\n"
          ]
        }
      ]
    },
    {
      "cell_type": "code",
      "source": [
        "[q/20 for q in range(15, 21)]"
      ],
      "metadata": {
        "colab": {
          "base_uri": "https://localhost:8080/"
        },
        "id": "g18Wi3EFyTr-",
        "outputId": "dc591e75-3126-47e3-bb9b-0fb6ecffb276"
      },
      "execution_count": 11,
      "outputs": [
        {
          "output_type": "execute_result",
          "data": {
            "text/plain": [
              "[0.75, 0.8, 0.85, 0.9, 0.95, 1.0]"
            ]
          },
          "metadata": {},
          "execution_count": 11
        }
      ]
    },
    {
      "cell_type": "code",
      "source": [
        ""
      ],
      "metadata": {
        "id": "DyGmyQYdyS7P"
      },
      "execution_count": null,
      "outputs": []
    },
    {
      "cell_type": "code",
      "source": [
        "print(X_train['capital_gain'].quantile([q/20 for q in range(15, 21)]))"
      ],
      "metadata": {
        "colab": {
          "base_uri": "https://localhost:8080/"
        },
        "id": "7JQvDMb-x36D",
        "outputId": "e4a37500-50d1-4c88-a4f0-cdd41cfbeb33"
      },
      "execution_count": 12,
      "outputs": [
        {
          "output_type": "stream",
          "name": "stdout",
          "text": [
            "0.75       0.00\n",
            "0.80       0.00\n",
            "0.85       0.00\n",
            "0.90       0.00\n",
            "0.95    5013.00\n",
            "1.00   99999.00\n",
            "Name: capital_gain, dtype: float64\n"
          ]
        }
      ]
    },
    {
      "cell_type": "code",
      "source": [
        "print(X_train['capital_loss'].quantile([q/20 for q in range(15, 21)]))"
      ],
      "metadata": {
        "colab": {
          "base_uri": "https://localhost:8080/"
        },
        "id": "jMlZQsUdyfPi",
        "outputId": "537d07ac-b492-45e1-8306-cf79787999f0"
      },
      "execution_count": 13,
      "outputs": [
        {
          "output_type": "stream",
          "name": "stdout",
          "text": [
            "0.75      0.00\n",
            "0.80      0.00\n",
            "0.85      0.00\n",
            "0.90      0.00\n",
            "0.95      0.00\n",
            "1.00   4356.00\n",
            "Name: capital_loss, dtype: float64\n"
          ]
        }
      ]
    },
    {
      "cell_type": "code",
      "source": [
        "X_train['capital_gain_yn'] = np.where(X_train['capital_gain']>0, 1, 0) \n",
        "X_train['capital_loss_yn'] = np.where(X_train['capital_loss']>0, 1, 0) \n",
        "\n",
        "X_test['capital_gain_yn'] = np.where(X_test['capital_gain']>0, 1, 0) \n",
        "X_test['capital_loss_yn'] = np.where(X_test['capital_loss']>0, 1, 0) "
      ],
      "metadata": {
        "id": "jAmYtA3yzF4O"
      },
      "execution_count": 50,
      "outputs": []
    },
    {
      "cell_type": "code",
      "source": [
        "print(X_train.groupby('capital_gain_yn')['capital_gain'].agg(['min', 'max']))"
      ],
      "metadata": {
        "colab": {
          "base_uri": "https://localhost:8080/"
        },
        "id": "-umxfx5Yyltr",
        "outputId": "d6908463-2664-4a53-c7f6-36098864f5b2"
      },
      "execution_count": 51,
      "outputs": [
        {
          "output_type": "stream",
          "name": "stdout",
          "text": [
            "                 min    max\n",
            "capital_gain_yn            \n",
            "0                  0      0\n",
            "1                114  99999\n"
          ]
        }
      ]
    },
    {
      "cell_type": "code",
      "source": [
        "print(X_train.groupby('capital_loss_yn')['capital_loss'].agg(['min', 'max']))"
      ],
      "metadata": {
        "colab": {
          "base_uri": "https://localhost:8080/"
        },
        "id": "67cY6MEszm_y",
        "outputId": "ee661296-3269-4e23-f55e-1cd154da790c"
      },
      "execution_count": 52,
      "outputs": [
        {
          "output_type": "stream",
          "name": "stdout",
          "text": [
            "                 min   max\n",
            "capital_loss_yn           \n",
            "0                  0     0\n",
            "1                155  4356\n"
          ]
        }
      ]
    },
    {
      "cell_type": "code",
      "source": [
        "# quantile (백분위수)\n",
        "# numpy - where (if-else)\n",
        "# groupby ~ agg (집계)"
      ],
      "metadata": {
        "id": "IP-KYLHXz3_L"
      },
      "execution_count": null,
      "outputs": []
    },
    {
      "cell_type": "code",
      "source": [
        "X_train.columns"
      ],
      "metadata": {
        "colab": {
          "base_uri": "https://localhost:8080/"
        },
        "id": "S9HDS_JK0eL3",
        "outputId": "3e6f2ea8-3479-4820-e7a6-ee958a36eb6f"
      },
      "execution_count": 19,
      "outputs": [
        {
          "output_type": "execute_result",
          "data": {
            "text/plain": [
              "Index(['age', 'workclass', 'fnlwgt', 'education', 'education_num',\n",
              "       'marital_status', 'occupation', 'relationship', 'race', 'sex',\n",
              "       'capital_gain', 'capital_loss', 'hours_per_week', 'native_country',\n",
              "       'capital_gain_yn', 'capital_loss_yn'],\n",
              "      dtype='object')"
            ]
          },
          "metadata": {},
          "execution_count": 19
        }
      ]
    },
    {
      "cell_type": "code",
      "source": [
        "del_cols = []\n",
        "num_cols = ['age', 'education_num', 'hours_per_week', 'capital_gain', 'capital_loss']\n",
        "cat_cols = ['workclass', 'marital_status', 'occupation', 'relationship', 'race', 'sex', 'native_country', 'education', 'capital_gain_yn', 'capital_loss_yn']\n",
        "y_col = ['target']"
      ],
      "metadata": {
        "id": "wxcShnYG0L-6"
      },
      "execution_count": 53,
      "outputs": []
    },
    {
      "cell_type": "code",
      "source": [
        "train = pd.concat([X_train, y_train], axis=1)"
      ],
      "metadata": {
        "id": "kAo2W_y40tJv"
      },
      "execution_count": 54,
      "outputs": []
    },
    {
      "cell_type": "code",
      "source": [
        "print(train.groupby(y_col)[num_cols].mean().T)"
      ],
      "metadata": {
        "colab": {
          "base_uri": "https://localhost:8080/"
        },
        "id": "ChPYKHUH02nz",
        "outputId": "804f0785-7ccd-492b-f1a4-3cfd52ea0b0e"
      },
      "execution_count": 25,
      "outputs": [
        {
          "output_type": "stream",
          "name": "stdout",
          "text": [
            "target              0       1\n",
            "age             36.61   43.96\n",
            "education_num    9.63   11.61\n",
            "hours_per_week  39.35   45.71\n",
            "capital_gain   148.89 3937.68\n",
            "capital_loss    53.45  193.75\n"
          ]
        }
      ]
    },
    {
      "cell_type": "code",
      "source": [
        "for _col in num_cols:\n",
        "  print('-'*80)\n",
        "  print(_col)\n",
        "  print(train.groupby(y_col)[_col].describe())\n",
        "  print('\\n')"
      ],
      "metadata": {
        "colab": {
          "base_uri": "https://localhost:8080/"
        },
        "id": "0J7dVYGQ06U9",
        "outputId": "f3a46ff7-738d-489a-9715-bddd9231ba2f"
      },
      "execution_count": 26,
      "outputs": [
        {
          "output_type": "stream",
          "name": "stdout",
          "text": [
            "--------------------------------------------------------------------------------\n",
            "age\n",
            "          count  mean   std   min   25%   50%   75%   max\n",
            "target                                                   \n",
            "0      22654.00 36.61 13.46 17.00 26.00 34.00 45.00 90.00\n",
            "1       7508.00 43.96 10.27 19.00 36.00 43.00 51.00 90.00\n",
            "\n",
            "\n",
            "--------------------------------------------------------------------------------\n",
            "education_num\n",
            "          count  mean  std  min   25%   50%   75%   max\n",
            "target                                                 \n",
            "0      22654.00  9.63 2.41 1.00  9.00  9.00 10.00 16.00\n",
            "1       7508.00 11.61 2.37 2.00 10.00 12.00 13.00 16.00\n",
            "\n",
            "\n",
            "--------------------------------------------------------------------------------\n",
            "hours_per_week\n",
            "          count  mean   std  min   25%   50%   75%   max\n",
            "target                                                  \n",
            "0      22654.00 39.35 11.95 1.00 38.00 40.00 40.00 99.00\n",
            "1       7508.00 45.71 10.74 1.00 40.00 40.00 50.00 99.00\n",
            "\n",
            "\n",
            "--------------------------------------------------------------------------------\n",
            "capital_gain\n",
            "          count    mean      std  min  25%  50%  75%      max\n",
            "target                                                       \n",
            "0      22654.00  148.89   936.39 0.00 0.00 0.00 0.00 41310.00\n",
            "1       7508.00 3937.68 14386.06 0.00 0.00 0.00 0.00 99999.00\n",
            "\n",
            "\n",
            "--------------------------------------------------------------------------------\n",
            "capital_loss\n",
            "          count   mean    std  min  25%  50%  75%     max\n",
            "target                                                   \n",
            "0      22654.00  53.45 310.27 0.00 0.00 0.00 0.00 4356.00\n",
            "1       7508.00 193.75 592.83 0.00 0.00 0.00 0.00 3683.00\n",
            "\n",
            "\n"
          ]
        }
      ]
    },
    {
      "cell_type": "code",
      "source": [
        "for _col in cat_cols:\n",
        "  print(train.groupby(_col, as_index=False)[y_col].mean().sort_values(by=y_col, ascending=False))\n",
        "  print('\\n')"
      ],
      "metadata": {
        "colab": {
          "base_uri": "https://localhost:8080/"
        },
        "id": "jgkBlu7O1her",
        "outputId": "f189a37d-f732-4120-9f21-7ada10a30be8"
      },
      "execution_count": 27,
      "outputs": [
        {
          "output_type": "stream",
          "name": "stdout",
          "text": [
            "          workclass  target\n",
            "3      Self-emp-inc    0.56\n",
            "0       Federal-gov    0.39\n",
            "1         Local-gov    0.29\n",
            "4  Self-emp-not-inc    0.29\n",
            "5         State-gov    0.27\n",
            "2           Private    0.22\n",
            "6       Without-pay    0.00\n",
            "\n",
            "\n",
            "          marital_status  target\n",
            "1      Married-AF-spouse    0.48\n",
            "2     Married-civ-spouse    0.45\n",
            "0               Divorced    0.11\n",
            "6                Widowed    0.10\n",
            "3  Married-spouse-absent    0.08\n",
            "5              Separated    0.07\n",
            "4          Never-married    0.05\n",
            "\n",
            "\n",
            "           occupation  target\n",
            "3     Exec-managerial    0.49\n",
            "9      Prof-specialty    0.45\n",
            "10    Protective-serv    0.33\n",
            "12       Tech-support    0.30\n",
            "11              Sales    0.27\n",
            "2        Craft-repair    0.23\n",
            "13   Transport-moving    0.20\n",
            "0        Adm-clerical    0.13\n",
            "6   Machine-op-inspct    0.12\n",
            "4     Farming-fishing    0.12\n",
            "1        Armed-Forces    0.11\n",
            "5   Handlers-cleaners    0.06\n",
            "7       Other-service    0.04\n",
            "8     Priv-house-serv    0.01\n",
            "\n",
            "\n",
            "     relationship  target\n",
            "5            Wife    0.49\n",
            "0         Husband    0.46\n",
            "1   Not-in-family    0.11\n",
            "4       Unmarried    0.07\n",
            "2  Other-relative    0.04\n",
            "3       Own-child    0.01\n",
            "\n",
            "\n",
            "                 race  target\n",
            "1  Asian-Pac-Islander    0.28\n",
            "4               White    0.26\n",
            "2               Black    0.13\n",
            "0  Amer-Indian-Eskimo    0.12\n",
            "3               Other    0.09\n",
            "\n",
            "\n",
            "      sex  target\n",
            "1    Male    0.31\n",
            "0  Female    0.11\n",
            "\n",
            "\n",
            "                native_country  target\n",
            "35                      Taiwan    0.45\n",
            "9                       France    0.44\n",
            "19                        Iran    0.43\n",
            "18                       India    0.40\n",
            "23                       Japan    0.39\n",
            "0                     Cambodia    0.39\n",
            "40                  Yugoslavia    0.38\n",
            "21                       Italy    0.35\n",
            "8                      England    0.35\n",
            "10                     Germany    0.34\n",
            "1                       Canada    0.34\n",
            "29                 Philippines    0.32\n",
            "16                        Hong    0.32\n",
            "2                        China    0.29\n",
            "11                      Greece    0.28\n",
            "4                         Cuba    0.27\n",
            "38               United-States    0.25\n",
            "17                     Hungary    0.23\n",
            "20                     Ireland    0.21\n",
            "34                       South    0.20\n",
            "30                      Poland    0.20\n",
            "33                    Scotland    0.18\n",
            "36                    Thailand    0.18\n",
            "6                      Ecuador    0.15\n",
            "22                     Jamaica    0.12\n",
            "31                    Portugal    0.12\n",
            "24                        Laos    0.12\n",
            "37             Trinadad&Tobago    0.11\n",
            "32                 Puerto-Rico    0.11\n",
            "13                       Haiti    0.10\n",
            "7                  El-Salvador    0.09\n",
            "15                    Honduras    0.08\n",
            "39                     Vietnam    0.08\n",
            "28                        Peru    0.07\n",
            "26                   Nicaragua    0.06\n",
            "25                      Mexico    0.05\n",
            "12                   Guatemala    0.05\n",
            "3                     Columbia    0.04\n",
            "5           Dominican-Republic    0.03\n",
            "27  Outlying-US(Guam-USVI-etc)    0.00\n",
            "14          Holand-Netherlands    0.00\n",
            "\n",
            "\n",
            "        education  target\n",
            "14    Prof-school    0.75\n",
            "10      Doctorate    0.75\n",
            "12        Masters    0.56\n",
            "9       Bachelors    0.42\n",
            "8       Assoc-voc    0.26\n",
            "7      Assoc-acdm    0.25\n",
            "15   Some-college    0.20\n",
            "11        HS-grad    0.16\n",
            "2            12th    0.08\n",
            "0            10th    0.07\n",
            "5         7th-8th    0.06\n",
            "1            11th    0.06\n",
            "6             9th    0.05\n",
            "4         5th-6th    0.04\n",
            "3         1st-4th    0.04\n",
            "13      Preschool    0.00\n",
            "\n",
            "\n",
            "   capital_gain_yn  target\n",
            "1                1    0.63\n",
            "0                0    0.21\n",
            "\n",
            "\n",
            "   capital_loss_yn  target\n",
            "1                1    0.52\n",
            "0                0    0.24\n",
            "\n",
            "\n"
          ]
        }
      ]
    },
    {
      "cell_type": "code",
      "source": [
        "# cardinality 카디널리티 "
      ],
      "metadata": {
        "id": "bYetwK6h11dT"
      },
      "execution_count": null,
      "outputs": []
    },
    {
      "cell_type": "code",
      "source": [
        "# X_train['race']"
      ],
      "metadata": {
        "colab": {
          "base_uri": "https://localhost:8080/"
        },
        "id": "SoXRePgG7ycb",
        "outputId": "1bc1c77c-fdf5-4042-b324-8dc5d6f5a1ab"
      },
      "execution_count": 37,
      "outputs": [
        {
          "output_type": "execute_result",
          "data": {
            "text/plain": [
              "0        White\n",
              "1        White\n",
              "2        White\n",
              "3        Black\n",
              "4        Black\n",
              "         ...  \n",
              "30157    White\n",
              "30158    White\n",
              "30159    White\n",
              "30160    White\n",
              "30161    White\n",
              "Name: race, Length: 30162, dtype: object"
            ]
          },
          "metadata": {},
          "execution_count": 37
        }
      ]
    },
    {
      "cell_type": "code",
      "source": [
        "# from sklearn.preprocessing import LabelEncoder\n",
        "# le = LabelEncoder()\n",
        "# le.fit(X_train['race'])"
      ],
      "metadata": {
        "colab": {
          "base_uri": "https://localhost:8080/"
        },
        "id": "Wo5egBmV73V1",
        "outputId": "7da94396-e849-4868-d929-56852f205e3f"
      },
      "execution_count": 38,
      "outputs": [
        {
          "output_type": "execute_result",
          "data": {
            "text/plain": [
              "LabelEncoder()"
            ]
          },
          "metadata": {},
          "execution_count": 38
        }
      ]
    },
    {
      "cell_type": "code",
      "source": [
        "# le.classes_"
      ],
      "metadata": {
        "colab": {
          "base_uri": "https://localhost:8080/"
        },
        "id": "n5db1BZb78Re",
        "outputId": "28d05437-a2d7-4a9b-e4ee-38cbe7dbfaf1"
      },
      "execution_count": 39,
      "outputs": [
        {
          "output_type": "execute_result",
          "data": {
            "text/plain": [
              "array(['Amer-Indian-Eskimo', 'Asian-Pac-Islander', 'Black', 'Other',\n",
              "       'White'], dtype=object)"
            ]
          },
          "metadata": {},
          "execution_count": 39
        }
      ]
    },
    {
      "cell_type": "code",
      "source": [
        "# trans = le.transform(X_train['race'])\n",
        "# le.inverse_transform(trans)"
      ],
      "metadata": {
        "colab": {
          "base_uri": "https://localhost:8080/"
        },
        "id": "IlADBucZ8DL6",
        "outputId": "efd3d483-c6e3-4481-ce21-d0b69db1764b"
      },
      "execution_count": 42,
      "outputs": [
        {
          "output_type": "execute_result",
          "data": {
            "text/plain": [
              "array(['White', 'White', 'White', ..., 'White', 'White', 'White'],\n",
              "      dtype=object)"
            ]
          },
          "metadata": {},
          "execution_count": 42
        }
      ]
    },
    {
      "cell_type": "code",
      "source": [
        ""
      ],
      "metadata": {
        "id": "SmWDyTxf8L6P"
      },
      "execution_count": null,
      "outputs": []
    },
    {
      "cell_type": "code",
      "source": [
        "# 레이블 인코딩\n",
        "from sklearn.preprocessing import LabelEncoder\n",
        "\n",
        "X = pd.concat([X_train, X_test])\n",
        "le = LabelEncoder()\n",
        "\n",
        "for _col in cat_cols:\n",
        "  le.fit(X[_col])\n",
        "  X_train[_col] = le.transform(X_train[_col])\n",
        "  X_test[_col] = le.transform(X_test[_col])\n",
        "  # print(le.classes_) # 각 컬럼의 인코더 클래스 확인"
      ],
      "metadata": {
        "id": "LRgCKCFk20BI"
      },
      "execution_count": 56,
      "outputs": []
    },
    {
      "cell_type": "code",
      "source": [
        "X_train[cat_cols]"
      ],
      "metadata": {
        "colab": {
          "base_uri": "https://localhost:8080/",
          "height": 424
        },
        "id": "LtBfyFuq3cpl",
        "outputId": "341adac6-118c-4485-fcdd-0814f60ce323"
      },
      "execution_count": 57,
      "outputs": [
        {
          "output_type": "execute_result",
          "data": {
            "text/plain": [
              "       workclass  marital_status  occupation  relationship  race  sex  native_country  education  capital_gain_yn  capital_loss_yn\n",
              "0              5               4           0             1     4    1              38          9                1                0\n",
              "1              4               2           3             0     4    1              38          9                0                0\n",
              "2              2               0           5             1     4    1              38         11                0                0\n",
              "3              2               2           5             0     2    1              38          1                0                0\n",
              "4              2               2           9             5     2    0               4          9                0                0\n",
              "...          ...             ...         ...           ...   ...  ...             ...        ...              ...              ...\n",
              "30157          2               2          12             5     4    0              38          7                0                0\n",
              "30158          2               2           6             0     4    1              38         11                0                0\n",
              "30159          2               6           0             4     4    0              38         11                0                0\n",
              "30160          2               4           0             3     4    1              38         11                0                0\n",
              "30161          3               2           3             5     4    0              38         11                1                0\n",
              "\n",
              "[30162 rows x 10 columns]"
            ],
            "text/html": [
              "\n",
              "  <div id=\"df-58d30213-7fd1-411d-ae15-f619cb4cdabc\">\n",
              "    <div class=\"colab-df-container\">\n",
              "      <div>\n",
              "<style scoped>\n",
              "    .dataframe tbody tr th:only-of-type {\n",
              "        vertical-align: middle;\n",
              "    }\n",
              "\n",
              "    .dataframe tbody tr th {\n",
              "        vertical-align: top;\n",
              "    }\n",
              "\n",
              "    .dataframe thead th {\n",
              "        text-align: right;\n",
              "    }\n",
              "</style>\n",
              "<table border=\"1\" class=\"dataframe\">\n",
              "  <thead>\n",
              "    <tr style=\"text-align: right;\">\n",
              "      <th></th>\n",
              "      <th>workclass</th>\n",
              "      <th>marital_status</th>\n",
              "      <th>occupation</th>\n",
              "      <th>relationship</th>\n",
              "      <th>race</th>\n",
              "      <th>sex</th>\n",
              "      <th>native_country</th>\n",
              "      <th>education</th>\n",
              "      <th>capital_gain_yn</th>\n",
              "      <th>capital_loss_yn</th>\n",
              "    </tr>\n",
              "  </thead>\n",
              "  <tbody>\n",
              "    <tr>\n",
              "      <th>0</th>\n",
              "      <td>5</td>\n",
              "      <td>4</td>\n",
              "      <td>0</td>\n",
              "      <td>1</td>\n",
              "      <td>4</td>\n",
              "      <td>1</td>\n",
              "      <td>38</td>\n",
              "      <td>9</td>\n",
              "      <td>1</td>\n",
              "      <td>0</td>\n",
              "    </tr>\n",
              "    <tr>\n",
              "      <th>1</th>\n",
              "      <td>4</td>\n",
              "      <td>2</td>\n",
              "      <td>3</td>\n",
              "      <td>0</td>\n",
              "      <td>4</td>\n",
              "      <td>1</td>\n",
              "      <td>38</td>\n",
              "      <td>9</td>\n",
              "      <td>0</td>\n",
              "      <td>0</td>\n",
              "    </tr>\n",
              "    <tr>\n",
              "      <th>2</th>\n",
              "      <td>2</td>\n",
              "      <td>0</td>\n",
              "      <td>5</td>\n",
              "      <td>1</td>\n",
              "      <td>4</td>\n",
              "      <td>1</td>\n",
              "      <td>38</td>\n",
              "      <td>11</td>\n",
              "      <td>0</td>\n",
              "      <td>0</td>\n",
              "    </tr>\n",
              "    <tr>\n",
              "      <th>3</th>\n",
              "      <td>2</td>\n",
              "      <td>2</td>\n",
              "      <td>5</td>\n",
              "      <td>0</td>\n",
              "      <td>2</td>\n",
              "      <td>1</td>\n",
              "      <td>38</td>\n",
              "      <td>1</td>\n",
              "      <td>0</td>\n",
              "      <td>0</td>\n",
              "    </tr>\n",
              "    <tr>\n",
              "      <th>4</th>\n",
              "      <td>2</td>\n",
              "      <td>2</td>\n",
              "      <td>9</td>\n",
              "      <td>5</td>\n",
              "      <td>2</td>\n",
              "      <td>0</td>\n",
              "      <td>4</td>\n",
              "      <td>9</td>\n",
              "      <td>0</td>\n",
              "      <td>0</td>\n",
              "    </tr>\n",
              "    <tr>\n",
              "      <th>...</th>\n",
              "      <td>...</td>\n",
              "      <td>...</td>\n",
              "      <td>...</td>\n",
              "      <td>...</td>\n",
              "      <td>...</td>\n",
              "      <td>...</td>\n",
              "      <td>...</td>\n",
              "      <td>...</td>\n",
              "      <td>...</td>\n",
              "      <td>...</td>\n",
              "    </tr>\n",
              "    <tr>\n",
              "      <th>30157</th>\n",
              "      <td>2</td>\n",
              "      <td>2</td>\n",
              "      <td>12</td>\n",
              "      <td>5</td>\n",
              "      <td>4</td>\n",
              "      <td>0</td>\n",
              "      <td>38</td>\n",
              "      <td>7</td>\n",
              "      <td>0</td>\n",
              "      <td>0</td>\n",
              "    </tr>\n",
              "    <tr>\n",
              "      <th>30158</th>\n",
              "      <td>2</td>\n",
              "      <td>2</td>\n",
              "      <td>6</td>\n",
              "      <td>0</td>\n",
              "      <td>4</td>\n",
              "      <td>1</td>\n",
              "      <td>38</td>\n",
              "      <td>11</td>\n",
              "      <td>0</td>\n",
              "      <td>0</td>\n",
              "    </tr>\n",
              "    <tr>\n",
              "      <th>30159</th>\n",
              "      <td>2</td>\n",
              "      <td>6</td>\n",
              "      <td>0</td>\n",
              "      <td>4</td>\n",
              "      <td>4</td>\n",
              "      <td>0</td>\n",
              "      <td>38</td>\n",
              "      <td>11</td>\n",
              "      <td>0</td>\n",
              "      <td>0</td>\n",
              "    </tr>\n",
              "    <tr>\n",
              "      <th>30160</th>\n",
              "      <td>2</td>\n",
              "      <td>4</td>\n",
              "      <td>0</td>\n",
              "      <td>3</td>\n",
              "      <td>4</td>\n",
              "      <td>1</td>\n",
              "      <td>38</td>\n",
              "      <td>11</td>\n",
              "      <td>0</td>\n",
              "      <td>0</td>\n",
              "    </tr>\n",
              "    <tr>\n",
              "      <th>30161</th>\n",
              "      <td>3</td>\n",
              "      <td>2</td>\n",
              "      <td>3</td>\n",
              "      <td>5</td>\n",
              "      <td>4</td>\n",
              "      <td>0</td>\n",
              "      <td>38</td>\n",
              "      <td>11</td>\n",
              "      <td>1</td>\n",
              "      <td>0</td>\n",
              "    </tr>\n",
              "  </tbody>\n",
              "</table>\n",
              "<p>30162 rows × 10 columns</p>\n",
              "</div>\n",
              "      <button class=\"colab-df-convert\" onclick=\"convertToInteractive('df-58d30213-7fd1-411d-ae15-f619cb4cdabc')\"\n",
              "              title=\"Convert this dataframe to an interactive table.\"\n",
              "              style=\"display:none;\">\n",
              "        \n",
              "  <svg xmlns=\"http://www.w3.org/2000/svg\" height=\"24px\"viewBox=\"0 0 24 24\"\n",
              "       width=\"24px\">\n",
              "    <path d=\"M0 0h24v24H0V0z\" fill=\"none\"/>\n",
              "    <path d=\"M18.56 5.44l.94 2.06.94-2.06 2.06-.94-2.06-.94-.94-2.06-.94 2.06-2.06.94zm-11 1L8.5 8.5l.94-2.06 2.06-.94-2.06-.94L8.5 2.5l-.94 2.06-2.06.94zm10 10l.94 2.06.94-2.06 2.06-.94-2.06-.94-.94-2.06-.94 2.06-2.06.94z\"/><path d=\"M17.41 7.96l-1.37-1.37c-.4-.4-.92-.59-1.43-.59-.52 0-1.04.2-1.43.59L10.3 9.45l-7.72 7.72c-.78.78-.78 2.05 0 2.83L4 21.41c.39.39.9.59 1.41.59.51 0 1.02-.2 1.41-.59l7.78-7.78 2.81-2.81c.8-.78.8-2.07 0-2.86zM5.41 20L4 18.59l7.72-7.72 1.47 1.35L5.41 20z\"/>\n",
              "  </svg>\n",
              "      </button>\n",
              "      \n",
              "  <style>\n",
              "    .colab-df-container {\n",
              "      display:flex;\n",
              "      flex-wrap:wrap;\n",
              "      gap: 12px;\n",
              "    }\n",
              "\n",
              "    .colab-df-convert {\n",
              "      background-color: #E8F0FE;\n",
              "      border: none;\n",
              "      border-radius: 50%;\n",
              "      cursor: pointer;\n",
              "      display: none;\n",
              "      fill: #1967D2;\n",
              "      height: 32px;\n",
              "      padding: 0 0 0 0;\n",
              "      width: 32px;\n",
              "    }\n",
              "\n",
              "    .colab-df-convert:hover {\n",
              "      background-color: #E2EBFA;\n",
              "      box-shadow: 0px 1px 2px rgba(60, 64, 67, 0.3), 0px 1px 3px 1px rgba(60, 64, 67, 0.15);\n",
              "      fill: #174EA6;\n",
              "    }\n",
              "\n",
              "    [theme=dark] .colab-df-convert {\n",
              "      background-color: #3B4455;\n",
              "      fill: #D2E3FC;\n",
              "    }\n",
              "\n",
              "    [theme=dark] .colab-df-convert:hover {\n",
              "      background-color: #434B5C;\n",
              "      box-shadow: 0px 1px 3px 1px rgba(0, 0, 0, 0.15);\n",
              "      filter: drop-shadow(0px 1px 2px rgba(0, 0, 0, 0.3));\n",
              "      fill: #FFFFFF;\n",
              "    }\n",
              "  </style>\n",
              "\n",
              "      <script>\n",
              "        const buttonEl =\n",
              "          document.querySelector('#df-58d30213-7fd1-411d-ae15-f619cb4cdabc button.colab-df-convert');\n",
              "        buttonEl.style.display =\n",
              "          google.colab.kernel.accessAllowed ? 'block' : 'none';\n",
              "\n",
              "        async function convertToInteractive(key) {\n",
              "          const element = document.querySelector('#df-58d30213-7fd1-411d-ae15-f619cb4cdabc');\n",
              "          const dataTable =\n",
              "            await google.colab.kernel.invokeFunction('convertToInteractive',\n",
              "                                                     [key], {});\n",
              "          if (!dataTable) return;\n",
              "\n",
              "          const docLinkHtml = 'Like what you see? Visit the ' +\n",
              "            '<a target=\"_blank\" href=https://colab.research.google.com/notebooks/data_table.ipynb>data table notebook</a>'\n",
              "            + ' to learn more about interactive tables.';\n",
              "          element.innerHTML = '';\n",
              "          dataTable['output_type'] = 'display_data';\n",
              "          await google.colab.output.renderOutput(dataTable, element);\n",
              "          const docLink = document.createElement('div');\n",
              "          docLink.innerHTML = docLinkHtml;\n",
              "          element.appendChild(docLink);\n",
              "        }\n",
              "      </script>\n",
              "    </div>\n",
              "  </div>\n",
              "  "
            ]
          },
          "metadata": {},
          "execution_count": 57
        }
      ]
    },
    {
      "cell_type": "code",
      "source": [
        "# 3. 데이터 모형 구축 \n",
        "\n",
        "from sklearn.model_selection import train_test_split\n",
        "\n",
        "X_tr, X_val, y_tr, y_val = train_test_split(X_train, y_train, test_size=0.3, stratify=y_train, random_state=123)"
      ],
      "metadata": {
        "id": "xMtIVyyh3g2Y"
      },
      "execution_count": 58,
      "outputs": []
    },
    {
      "cell_type": "code",
      "source": [
        "from sklearn.preprocessing import StandardScaler\n",
        "\n",
        "sc = StandardScaler()\n",
        "sc.fit(X_tr[num_cols])\n",
        "\n",
        "X_tr[num_cols] = sc.transform(X_tr[num_cols])\n",
        "X_val[num_cols] = sc.transform(X_val[num_cols])\n",
        "X_test[num_cols] = sc.transform(X_test[num_cols])"
      ],
      "metadata": {
        "id": "b2D-HyWV4cp3"
      },
      "execution_count": 59,
      "outputs": []
    },
    {
      "cell_type": "code",
      "source": [
        "X_tr[num_cols]"
      ],
      "metadata": {
        "colab": {
          "base_uri": "https://localhost:8080/",
          "height": 424
        },
        "id": "Cc14XRI-4uM0",
        "outputId": "520a0166-04ad-44ab-dc95-3aafb37bc0aa"
      },
      "execution_count": 60,
      "outputs": [
        {
          "output_type": "execute_result",
          "data": {
            "text/plain": [
              "        age  education_num  hours_per_week  capital_gain  capital_loss\n",
              "12878 -0.11          -0.44            0.75         -0.14         -0.22\n",
              "22094 -0.03           0.74           -0.08         -0.14         -0.22\n",
              "17703 -0.26           0.34           -0.08         -0.14         -0.22\n",
              "14887 -0.72          -0.44           -2.09         -0.14         -0.22\n",
              "12912 -1.02          -0.05            1.26         -0.14         -0.22\n",
              "...     ...            ...             ...           ...           ...\n",
              "29143  1.26           1.52           -0.08         -0.14         -0.22\n",
              "5490  -0.03           1.13            0.75         -0.14         -0.22\n",
              "20806  0.12          -0.44            0.34          0.82         -0.22\n",
              "21724 -0.79          -0.44            0.34         -0.14         -0.22\n",
              "13838  1.49          -2.00            1.59         -0.14         -0.22\n",
              "\n",
              "[21113 rows x 5 columns]"
            ],
            "text/html": [
              "\n",
              "  <div id=\"df-a0b1884c-6e12-43cc-be95-08a062ecb216\">\n",
              "    <div class=\"colab-df-container\">\n",
              "      <div>\n",
              "<style scoped>\n",
              "    .dataframe tbody tr th:only-of-type {\n",
              "        vertical-align: middle;\n",
              "    }\n",
              "\n",
              "    .dataframe tbody tr th {\n",
              "        vertical-align: top;\n",
              "    }\n",
              "\n",
              "    .dataframe thead th {\n",
              "        text-align: right;\n",
              "    }\n",
              "</style>\n",
              "<table border=\"1\" class=\"dataframe\">\n",
              "  <thead>\n",
              "    <tr style=\"text-align: right;\">\n",
              "      <th></th>\n",
              "      <th>age</th>\n",
              "      <th>education_num</th>\n",
              "      <th>hours_per_week</th>\n",
              "      <th>capital_gain</th>\n",
              "      <th>capital_loss</th>\n",
              "    </tr>\n",
              "  </thead>\n",
              "  <tbody>\n",
              "    <tr>\n",
              "      <th>12878</th>\n",
              "      <td>-0.11</td>\n",
              "      <td>-0.44</td>\n",
              "      <td>0.75</td>\n",
              "      <td>-0.14</td>\n",
              "      <td>-0.22</td>\n",
              "    </tr>\n",
              "    <tr>\n",
              "      <th>22094</th>\n",
              "      <td>-0.03</td>\n",
              "      <td>0.74</td>\n",
              "      <td>-0.08</td>\n",
              "      <td>-0.14</td>\n",
              "      <td>-0.22</td>\n",
              "    </tr>\n",
              "    <tr>\n",
              "      <th>17703</th>\n",
              "      <td>-0.26</td>\n",
              "      <td>0.34</td>\n",
              "      <td>-0.08</td>\n",
              "      <td>-0.14</td>\n",
              "      <td>-0.22</td>\n",
              "    </tr>\n",
              "    <tr>\n",
              "      <th>14887</th>\n",
              "      <td>-0.72</td>\n",
              "      <td>-0.44</td>\n",
              "      <td>-2.09</td>\n",
              "      <td>-0.14</td>\n",
              "      <td>-0.22</td>\n",
              "    </tr>\n",
              "    <tr>\n",
              "      <th>12912</th>\n",
              "      <td>-1.02</td>\n",
              "      <td>-0.05</td>\n",
              "      <td>1.26</td>\n",
              "      <td>-0.14</td>\n",
              "      <td>-0.22</td>\n",
              "    </tr>\n",
              "    <tr>\n",
              "      <th>...</th>\n",
              "      <td>...</td>\n",
              "      <td>...</td>\n",
              "      <td>...</td>\n",
              "      <td>...</td>\n",
              "      <td>...</td>\n",
              "    </tr>\n",
              "    <tr>\n",
              "      <th>29143</th>\n",
              "      <td>1.26</td>\n",
              "      <td>1.52</td>\n",
              "      <td>-0.08</td>\n",
              "      <td>-0.14</td>\n",
              "      <td>-0.22</td>\n",
              "    </tr>\n",
              "    <tr>\n",
              "      <th>5490</th>\n",
              "      <td>-0.03</td>\n",
              "      <td>1.13</td>\n",
              "      <td>0.75</td>\n",
              "      <td>-0.14</td>\n",
              "      <td>-0.22</td>\n",
              "    </tr>\n",
              "    <tr>\n",
              "      <th>20806</th>\n",
              "      <td>0.12</td>\n",
              "      <td>-0.44</td>\n",
              "      <td>0.34</td>\n",
              "      <td>0.82</td>\n",
              "      <td>-0.22</td>\n",
              "    </tr>\n",
              "    <tr>\n",
              "      <th>21724</th>\n",
              "      <td>-0.79</td>\n",
              "      <td>-0.44</td>\n",
              "      <td>0.34</td>\n",
              "      <td>-0.14</td>\n",
              "      <td>-0.22</td>\n",
              "    </tr>\n",
              "    <tr>\n",
              "      <th>13838</th>\n",
              "      <td>1.49</td>\n",
              "      <td>-2.00</td>\n",
              "      <td>1.59</td>\n",
              "      <td>-0.14</td>\n",
              "      <td>-0.22</td>\n",
              "    </tr>\n",
              "  </tbody>\n",
              "</table>\n",
              "<p>21113 rows × 5 columns</p>\n",
              "</div>\n",
              "      <button class=\"colab-df-convert\" onclick=\"convertToInteractive('df-a0b1884c-6e12-43cc-be95-08a062ecb216')\"\n",
              "              title=\"Convert this dataframe to an interactive table.\"\n",
              "              style=\"display:none;\">\n",
              "        \n",
              "  <svg xmlns=\"http://www.w3.org/2000/svg\" height=\"24px\"viewBox=\"0 0 24 24\"\n",
              "       width=\"24px\">\n",
              "    <path d=\"M0 0h24v24H0V0z\" fill=\"none\"/>\n",
              "    <path d=\"M18.56 5.44l.94 2.06.94-2.06 2.06-.94-2.06-.94-.94-2.06-.94 2.06-2.06.94zm-11 1L8.5 8.5l.94-2.06 2.06-.94-2.06-.94L8.5 2.5l-.94 2.06-2.06.94zm10 10l.94 2.06.94-2.06 2.06-.94-2.06-.94-.94-2.06-.94 2.06-2.06.94z\"/><path d=\"M17.41 7.96l-1.37-1.37c-.4-.4-.92-.59-1.43-.59-.52 0-1.04.2-1.43.59L10.3 9.45l-7.72 7.72c-.78.78-.78 2.05 0 2.83L4 21.41c.39.39.9.59 1.41.59.51 0 1.02-.2 1.41-.59l7.78-7.78 2.81-2.81c.8-.78.8-2.07 0-2.86zM5.41 20L4 18.59l7.72-7.72 1.47 1.35L5.41 20z\"/>\n",
              "  </svg>\n",
              "      </button>\n",
              "      \n",
              "  <style>\n",
              "    .colab-df-container {\n",
              "      display:flex;\n",
              "      flex-wrap:wrap;\n",
              "      gap: 12px;\n",
              "    }\n",
              "\n",
              "    .colab-df-convert {\n",
              "      background-color: #E8F0FE;\n",
              "      border: none;\n",
              "      border-radius: 50%;\n",
              "      cursor: pointer;\n",
              "      display: none;\n",
              "      fill: #1967D2;\n",
              "      height: 32px;\n",
              "      padding: 0 0 0 0;\n",
              "      width: 32px;\n",
              "    }\n",
              "\n",
              "    .colab-df-convert:hover {\n",
              "      background-color: #E2EBFA;\n",
              "      box-shadow: 0px 1px 2px rgba(60, 64, 67, 0.3), 0px 1px 3px 1px rgba(60, 64, 67, 0.15);\n",
              "      fill: #174EA6;\n",
              "    }\n",
              "\n",
              "    [theme=dark] .colab-df-convert {\n",
              "      background-color: #3B4455;\n",
              "      fill: #D2E3FC;\n",
              "    }\n",
              "\n",
              "    [theme=dark] .colab-df-convert:hover {\n",
              "      background-color: #434B5C;\n",
              "      box-shadow: 0px 1px 3px 1px rgba(0, 0, 0, 0.15);\n",
              "      filter: drop-shadow(0px 1px 2px rgba(0, 0, 0, 0.3));\n",
              "      fill: #FFFFFF;\n",
              "    }\n",
              "  </style>\n",
              "\n",
              "      <script>\n",
              "        const buttonEl =\n",
              "          document.querySelector('#df-a0b1884c-6e12-43cc-be95-08a062ecb216 button.colab-df-convert');\n",
              "        buttonEl.style.display =\n",
              "          google.colab.kernel.accessAllowed ? 'block' : 'none';\n",
              "\n",
              "        async function convertToInteractive(key) {\n",
              "          const element = document.querySelector('#df-a0b1884c-6e12-43cc-be95-08a062ecb216');\n",
              "          const dataTable =\n",
              "            await google.colab.kernel.invokeFunction('convertToInteractive',\n",
              "                                                     [key], {});\n",
              "          if (!dataTable) return;\n",
              "\n",
              "          const docLinkHtml = 'Like what you see? Visit the ' +\n",
              "            '<a target=\"_blank\" href=https://colab.research.google.com/notebooks/data_table.ipynb>data table notebook</a>'\n",
              "            + ' to learn more about interactive tables.';\n",
              "          element.innerHTML = '';\n",
              "          dataTable['output_type'] = 'display_data';\n",
              "          await google.colab.output.renderOutput(dataTable, element);\n",
              "          const docLink = document.createElement('div');\n",
              "          docLink.innerHTML = docLinkHtml;\n",
              "          element.appendChild(docLink);\n",
              "        }\n",
              "      </script>\n",
              "    </div>\n",
              "  </div>\n",
              "  "
            ]
          },
          "metadata": {},
          "execution_count": 60
        }
      ]
    },
    {
      "cell_type": "code",
      "source": [
        "from sklearn.ensemble import RandomForestClassifier \n",
        "\n",
        "rf = RandomForestClassifier()\n",
        "rf.fit(X_tr, y_tr)\n",
        "\n",
        "from xgboost import XGBClassifier\n",
        "\n",
        "xgb1 = XGBClassifier()\n",
        "xgb1.fit(X_tr, y_tr)"
      ],
      "metadata": {
        "colab": {
          "base_uri": "https://localhost:8080/"
        },
        "id": "frFsq1WY4vx3",
        "outputId": "cf3d5a6d-6cae-42de-b2bd-e006d29936e0"
      },
      "execution_count": 61,
      "outputs": [
        {
          "output_type": "execute_result",
          "data": {
            "text/plain": [
              "XGBClassifier()"
            ]
          },
          "metadata": {},
          "execution_count": 61
        }
      ]
    },
    {
      "cell_type": "code",
      "source": [
        "import time \n",
        "start = time.time()\n",
        "xgb2 = XGBClassifier(n_estimators=1000, learning_rate=0.1, max_depth=10)\n",
        "\n",
        "xgb2.fit(X_tr, y_tr, eval_set=[(X_val, y_val)], eval_metric='auc', early_stopping_rounds=30)\n",
        "\n",
        "print('수행 시간: ', (time.time()-start), ' 초')"
      ],
      "metadata": {
        "colab": {
          "base_uri": "https://localhost:8080/"
        },
        "id": "qtBkwIOh5Di-",
        "outputId": "7c5ed335-5c66-42c0-ee4e-5447144bdf7c"
      },
      "execution_count": 62,
      "outputs": [
        {
          "output_type": "stream",
          "name": "stdout",
          "text": [
            "[0]\tvalidation_0-auc:0.903522\n",
            "Will train until validation_0-auc hasn't improved in 30 rounds.\n",
            "[1]\tvalidation_0-auc:0.90574\n",
            "[2]\tvalidation_0-auc:0.906739\n",
            "[3]\tvalidation_0-auc:0.907942\n",
            "[4]\tvalidation_0-auc:0.907892\n",
            "[5]\tvalidation_0-auc:0.908778\n",
            "[6]\tvalidation_0-auc:0.909434\n",
            "[7]\tvalidation_0-auc:0.910013\n",
            "[8]\tvalidation_0-auc:0.910496\n",
            "[9]\tvalidation_0-auc:0.91095\n",
            "[10]\tvalidation_0-auc:0.911627\n",
            "[11]\tvalidation_0-auc:0.912384\n",
            "[12]\tvalidation_0-auc:0.91307\n",
            "[13]\tvalidation_0-auc:0.913706\n",
            "[14]\tvalidation_0-auc:0.91506\n",
            "[15]\tvalidation_0-auc:0.915885\n",
            "[16]\tvalidation_0-auc:0.916068\n",
            "[17]\tvalidation_0-auc:0.91656\n",
            "[18]\tvalidation_0-auc:0.917004\n",
            "[19]\tvalidation_0-auc:0.917307\n",
            "[20]\tvalidation_0-auc:0.917638\n",
            "[21]\tvalidation_0-auc:0.918164\n",
            "[22]\tvalidation_0-auc:0.918643\n",
            "[23]\tvalidation_0-auc:0.919116\n",
            "[24]\tvalidation_0-auc:0.919783\n",
            "[25]\tvalidation_0-auc:0.919823\n",
            "[26]\tvalidation_0-auc:0.919914\n",
            "[27]\tvalidation_0-auc:0.9204\n",
            "[28]\tvalidation_0-auc:0.920482\n",
            "[29]\tvalidation_0-auc:0.920981\n",
            "[30]\tvalidation_0-auc:0.92102\n",
            "[31]\tvalidation_0-auc:0.921116\n",
            "[32]\tvalidation_0-auc:0.921355\n",
            "[33]\tvalidation_0-auc:0.921771\n",
            "[34]\tvalidation_0-auc:0.921819\n",
            "[35]\tvalidation_0-auc:0.921895\n",
            "[36]\tvalidation_0-auc:0.922214\n",
            "[37]\tvalidation_0-auc:0.922346\n",
            "[38]\tvalidation_0-auc:0.9225\n",
            "[39]\tvalidation_0-auc:0.922746\n",
            "[40]\tvalidation_0-auc:0.922826\n",
            "[41]\tvalidation_0-auc:0.922854\n",
            "[42]\tvalidation_0-auc:0.923201\n",
            "[43]\tvalidation_0-auc:0.923277\n",
            "[44]\tvalidation_0-auc:0.923573\n",
            "[45]\tvalidation_0-auc:0.923881\n",
            "[46]\tvalidation_0-auc:0.924087\n",
            "[47]\tvalidation_0-auc:0.924343\n",
            "[48]\tvalidation_0-auc:0.924529\n",
            "[49]\tvalidation_0-auc:0.924676\n",
            "[50]\tvalidation_0-auc:0.924842\n",
            "[51]\tvalidation_0-auc:0.925005\n",
            "[52]\tvalidation_0-auc:0.925004\n",
            "[53]\tvalidation_0-auc:0.925063\n",
            "[54]\tvalidation_0-auc:0.925399\n",
            "[55]\tvalidation_0-auc:0.925467\n",
            "[56]\tvalidation_0-auc:0.925363\n",
            "[57]\tvalidation_0-auc:0.925419\n",
            "[58]\tvalidation_0-auc:0.92565\n",
            "[59]\tvalidation_0-auc:0.925657\n",
            "[60]\tvalidation_0-auc:0.92573\n",
            "[61]\tvalidation_0-auc:0.925755\n",
            "[62]\tvalidation_0-auc:0.925923\n",
            "[63]\tvalidation_0-auc:0.926\n",
            "[64]\tvalidation_0-auc:0.925995\n",
            "[65]\tvalidation_0-auc:0.926159\n",
            "[66]\tvalidation_0-auc:0.926223\n",
            "[67]\tvalidation_0-auc:0.926178\n",
            "[68]\tvalidation_0-auc:0.926043\n",
            "[69]\tvalidation_0-auc:0.926167\n",
            "[70]\tvalidation_0-auc:0.92603\n",
            "[71]\tvalidation_0-auc:0.925989\n",
            "[72]\tvalidation_0-auc:0.926007\n",
            "[73]\tvalidation_0-auc:0.926119\n",
            "[74]\tvalidation_0-auc:0.926137\n",
            "[75]\tvalidation_0-auc:0.926234\n",
            "[76]\tvalidation_0-auc:0.926334\n",
            "[77]\tvalidation_0-auc:0.926317\n",
            "[78]\tvalidation_0-auc:0.926383\n",
            "[79]\tvalidation_0-auc:0.926365\n",
            "[80]\tvalidation_0-auc:0.926382\n",
            "[81]\tvalidation_0-auc:0.926468\n",
            "[82]\tvalidation_0-auc:0.926528\n",
            "[83]\tvalidation_0-auc:0.926538\n",
            "[84]\tvalidation_0-auc:0.926558\n",
            "[85]\tvalidation_0-auc:0.926638\n",
            "[86]\tvalidation_0-auc:0.926651\n",
            "[87]\tvalidation_0-auc:0.926622\n",
            "[88]\tvalidation_0-auc:0.926697\n",
            "[89]\tvalidation_0-auc:0.926674\n",
            "[90]\tvalidation_0-auc:0.926483\n",
            "[91]\tvalidation_0-auc:0.926411\n",
            "[92]\tvalidation_0-auc:0.926445\n",
            "[93]\tvalidation_0-auc:0.92644\n",
            "[94]\tvalidation_0-auc:0.926477\n",
            "[95]\tvalidation_0-auc:0.926447\n",
            "[96]\tvalidation_0-auc:0.926474\n",
            "[97]\tvalidation_0-auc:0.926482\n",
            "[98]\tvalidation_0-auc:0.92639\n",
            "[99]\tvalidation_0-auc:0.926417\n",
            "[100]\tvalidation_0-auc:0.926433\n",
            "[101]\tvalidation_0-auc:0.926408\n",
            "[102]\tvalidation_0-auc:0.926458\n",
            "[103]\tvalidation_0-auc:0.92649\n",
            "[104]\tvalidation_0-auc:0.926403\n",
            "[105]\tvalidation_0-auc:0.926544\n",
            "[106]\tvalidation_0-auc:0.926582\n",
            "[107]\tvalidation_0-auc:0.926514\n",
            "[108]\tvalidation_0-auc:0.926533\n",
            "[109]\tvalidation_0-auc:0.926541\n",
            "[110]\tvalidation_0-auc:0.92652\n",
            "[111]\tvalidation_0-auc:0.926509\n",
            "[112]\tvalidation_0-auc:0.926552\n",
            "[113]\tvalidation_0-auc:0.926444\n",
            "[114]\tvalidation_0-auc:0.926458\n",
            "[115]\tvalidation_0-auc:0.926519\n",
            "[116]\tvalidation_0-auc:0.926466\n",
            "[117]\tvalidation_0-auc:0.926523\n",
            "[118]\tvalidation_0-auc:0.926584\n",
            "Stopping. Best iteration:\n",
            "[88]\tvalidation_0-auc:0.926697\n",
            "\n",
            "수행 시간:  8.817858695983887  초\n"
          ]
        }
      ]
    },
    {
      "cell_type": "code",
      "source": [
        "# 4. 데이터 모형 평가 \n",
        "\n",
        "from sklearn.metrics import roc_auc_score\n",
        "\n",
        "y_pred_rf = rf.predict_proba(X_val)[:, 1]\n",
        "y_pred_xgb1 = xgb1.predict_proba(X_val)[:, 1]"
      ],
      "metadata": {
        "id": "zv5RHtw651yL"
      },
      "execution_count": 63,
      "outputs": []
    },
    {
      "cell_type": "code",
      "source": [
        "score_rf = roc_auc_score(y_val, y_pred_rf)\n",
        "score_xgb1 = roc_auc_score(y_val, y_pred_xgb1)\n",
        "print(score_rf, score_xgb1)"
      ],
      "metadata": {
        "colab": {
          "base_uri": "https://localhost:8080/"
        },
        "id": "1GCLxo-9-4YG",
        "outputId": "037cc8f1-c15a-4fdb-c545-d22b72b523d2"
      },
      "execution_count": 64,
      "outputs": [
        {
          "output_type": "stream",
          "name": "stdout",
          "text": [
            "0.9074608390860976 0.9214516722062366\n"
          ]
        }
      ]
    },
    {
      "cell_type": "code",
      "source": [
        "pd.DataFrame({'feature': X_tr.columns, 'rf_impr': rf.feature_importances_, 'xgb_impr': xgb1.feature_importances_})"
      ],
      "metadata": {
        "colab": {
          "base_uri": "https://localhost:8080/",
          "height": 551
        },
        "id": "ofNb8LBI_Bji",
        "outputId": "8a152d15-9ae2-403b-9d96-3c8ce43afd0a"
      },
      "execution_count": 67,
      "outputs": [
        {
          "output_type": "execute_result",
          "data": {
            "text/plain": [
              "            feature  rf_impr  xgb_impr\n",
              "0               age     0.14      0.07\n",
              "1         workclass     0.04      0.02\n",
              "2            fnlwgt     0.17      0.01\n",
              "3         education     0.03      0.01\n",
              "4     education_num     0.10      0.13\n",
              "5    marital_status     0.07      0.12\n",
              "6        occupation     0.07      0.04\n",
              "7      relationship     0.12      0.35\n",
              "8              race     0.01      0.01\n",
              "9               sex     0.01      0.04\n",
              "10     capital_gain     0.09      0.11\n",
              "11     capital_loss     0.03      0.04\n",
              "12   hours_per_week     0.08      0.05\n",
              "13   native_country     0.02      0.01\n",
              "14  capital_gain_yn     0.02      0.00\n",
              "15  capital_loss_yn     0.01      0.00"
            ],
            "text/html": [
              "\n",
              "  <div id=\"df-8de4d05b-b8c5-493c-84e7-eb6e8b569adc\">\n",
              "    <div class=\"colab-df-container\">\n",
              "      <div>\n",
              "<style scoped>\n",
              "    .dataframe tbody tr th:only-of-type {\n",
              "        vertical-align: middle;\n",
              "    }\n",
              "\n",
              "    .dataframe tbody tr th {\n",
              "        vertical-align: top;\n",
              "    }\n",
              "\n",
              "    .dataframe thead th {\n",
              "        text-align: right;\n",
              "    }\n",
              "</style>\n",
              "<table border=\"1\" class=\"dataframe\">\n",
              "  <thead>\n",
              "    <tr style=\"text-align: right;\">\n",
              "      <th></th>\n",
              "      <th>feature</th>\n",
              "      <th>rf_impr</th>\n",
              "      <th>xgb_impr</th>\n",
              "    </tr>\n",
              "  </thead>\n",
              "  <tbody>\n",
              "    <tr>\n",
              "      <th>0</th>\n",
              "      <td>age</td>\n",
              "      <td>0.14</td>\n",
              "      <td>0.07</td>\n",
              "    </tr>\n",
              "    <tr>\n",
              "      <th>1</th>\n",
              "      <td>workclass</td>\n",
              "      <td>0.04</td>\n",
              "      <td>0.02</td>\n",
              "    </tr>\n",
              "    <tr>\n",
              "      <th>2</th>\n",
              "      <td>fnlwgt</td>\n",
              "      <td>0.17</td>\n",
              "      <td>0.01</td>\n",
              "    </tr>\n",
              "    <tr>\n",
              "      <th>3</th>\n",
              "      <td>education</td>\n",
              "      <td>0.03</td>\n",
              "      <td>0.01</td>\n",
              "    </tr>\n",
              "    <tr>\n",
              "      <th>4</th>\n",
              "      <td>education_num</td>\n",
              "      <td>0.10</td>\n",
              "      <td>0.13</td>\n",
              "    </tr>\n",
              "    <tr>\n",
              "      <th>5</th>\n",
              "      <td>marital_status</td>\n",
              "      <td>0.07</td>\n",
              "      <td>0.12</td>\n",
              "    </tr>\n",
              "    <tr>\n",
              "      <th>6</th>\n",
              "      <td>occupation</td>\n",
              "      <td>0.07</td>\n",
              "      <td>0.04</td>\n",
              "    </tr>\n",
              "    <tr>\n",
              "      <th>7</th>\n",
              "      <td>relationship</td>\n",
              "      <td>0.12</td>\n",
              "      <td>0.35</td>\n",
              "    </tr>\n",
              "    <tr>\n",
              "      <th>8</th>\n",
              "      <td>race</td>\n",
              "      <td>0.01</td>\n",
              "      <td>0.01</td>\n",
              "    </tr>\n",
              "    <tr>\n",
              "      <th>9</th>\n",
              "      <td>sex</td>\n",
              "      <td>0.01</td>\n",
              "      <td>0.04</td>\n",
              "    </tr>\n",
              "    <tr>\n",
              "      <th>10</th>\n",
              "      <td>capital_gain</td>\n",
              "      <td>0.09</td>\n",
              "      <td>0.11</td>\n",
              "    </tr>\n",
              "    <tr>\n",
              "      <th>11</th>\n",
              "      <td>capital_loss</td>\n",
              "      <td>0.03</td>\n",
              "      <td>0.04</td>\n",
              "    </tr>\n",
              "    <tr>\n",
              "      <th>12</th>\n",
              "      <td>hours_per_week</td>\n",
              "      <td>0.08</td>\n",
              "      <td>0.05</td>\n",
              "    </tr>\n",
              "    <tr>\n",
              "      <th>13</th>\n",
              "      <td>native_country</td>\n",
              "      <td>0.02</td>\n",
              "      <td>0.01</td>\n",
              "    </tr>\n",
              "    <tr>\n",
              "      <th>14</th>\n",
              "      <td>capital_gain_yn</td>\n",
              "      <td>0.02</td>\n",
              "      <td>0.00</td>\n",
              "    </tr>\n",
              "    <tr>\n",
              "      <th>15</th>\n",
              "      <td>capital_loss_yn</td>\n",
              "      <td>0.01</td>\n",
              "      <td>0.00</td>\n",
              "    </tr>\n",
              "  </tbody>\n",
              "</table>\n",
              "</div>\n",
              "      <button class=\"colab-df-convert\" onclick=\"convertToInteractive('df-8de4d05b-b8c5-493c-84e7-eb6e8b569adc')\"\n",
              "              title=\"Convert this dataframe to an interactive table.\"\n",
              "              style=\"display:none;\">\n",
              "        \n",
              "  <svg xmlns=\"http://www.w3.org/2000/svg\" height=\"24px\"viewBox=\"0 0 24 24\"\n",
              "       width=\"24px\">\n",
              "    <path d=\"M0 0h24v24H0V0z\" fill=\"none\"/>\n",
              "    <path d=\"M18.56 5.44l.94 2.06.94-2.06 2.06-.94-2.06-.94-.94-2.06-.94 2.06-2.06.94zm-11 1L8.5 8.5l.94-2.06 2.06-.94-2.06-.94L8.5 2.5l-.94 2.06-2.06.94zm10 10l.94 2.06.94-2.06 2.06-.94-2.06-.94-.94-2.06-.94 2.06-2.06.94z\"/><path d=\"M17.41 7.96l-1.37-1.37c-.4-.4-.92-.59-1.43-.59-.52 0-1.04.2-1.43.59L10.3 9.45l-7.72 7.72c-.78.78-.78 2.05 0 2.83L4 21.41c.39.39.9.59 1.41.59.51 0 1.02-.2 1.41-.59l7.78-7.78 2.81-2.81c.8-.78.8-2.07 0-2.86zM5.41 20L4 18.59l7.72-7.72 1.47 1.35L5.41 20z\"/>\n",
              "  </svg>\n",
              "      </button>\n",
              "      \n",
              "  <style>\n",
              "    .colab-df-container {\n",
              "      display:flex;\n",
              "      flex-wrap:wrap;\n",
              "      gap: 12px;\n",
              "    }\n",
              "\n",
              "    .colab-df-convert {\n",
              "      background-color: #E8F0FE;\n",
              "      border: none;\n",
              "      border-radius: 50%;\n",
              "      cursor: pointer;\n",
              "      display: none;\n",
              "      fill: #1967D2;\n",
              "      height: 32px;\n",
              "      padding: 0 0 0 0;\n",
              "      width: 32px;\n",
              "    }\n",
              "\n",
              "    .colab-df-convert:hover {\n",
              "      background-color: #E2EBFA;\n",
              "      box-shadow: 0px 1px 2px rgba(60, 64, 67, 0.3), 0px 1px 3px 1px rgba(60, 64, 67, 0.15);\n",
              "      fill: #174EA6;\n",
              "    }\n",
              "\n",
              "    [theme=dark] .colab-df-convert {\n",
              "      background-color: #3B4455;\n",
              "      fill: #D2E3FC;\n",
              "    }\n",
              "\n",
              "    [theme=dark] .colab-df-convert:hover {\n",
              "      background-color: #434B5C;\n",
              "      box-shadow: 0px 1px 3px 1px rgba(0, 0, 0, 0.15);\n",
              "      filter: drop-shadow(0px 1px 2px rgba(0, 0, 0, 0.3));\n",
              "      fill: #FFFFFF;\n",
              "    }\n",
              "  </style>\n",
              "\n",
              "      <script>\n",
              "        const buttonEl =\n",
              "          document.querySelector('#df-8de4d05b-b8c5-493c-84e7-eb6e8b569adc button.colab-df-convert');\n",
              "        buttonEl.style.display =\n",
              "          google.colab.kernel.accessAllowed ? 'block' : 'none';\n",
              "\n",
              "        async function convertToInteractive(key) {\n",
              "          const element = document.querySelector('#df-8de4d05b-b8c5-493c-84e7-eb6e8b569adc');\n",
              "          const dataTable =\n",
              "            await google.colab.kernel.invokeFunction('convertToInteractive',\n",
              "                                                     [key], {});\n",
              "          if (!dataTable) return;\n",
              "\n",
              "          const docLinkHtml = 'Like what you see? Visit the ' +\n",
              "            '<a target=\"_blank\" href=https://colab.research.google.com/notebooks/data_table.ipynb>data table notebook</a>'\n",
              "            + ' to learn more about interactive tables.';\n",
              "          element.innerHTML = '';\n",
              "          dataTable['output_type'] = 'display_data';\n",
              "          await google.colab.output.renderOutput(dataTable, element);\n",
              "          const docLink = document.createElement('div');\n",
              "          docLink.innerHTML = docLinkHtml;\n",
              "          element.appendChild(docLink);\n",
              "        }\n",
              "      </script>\n",
              "    </div>\n",
              "  </div>\n",
              "  "
            ]
          },
          "metadata": {},
          "execution_count": 67
        }
      ]
    },
    {
      "cell_type": "code",
      "source": [
        "del_cols = ['capital_gain_yn', 'capital_loss_yn', 'native_country']\n",
        "\n",
        "X_tr = X_tr.drop(del_cols, axis=1)\n",
        "X_val = X_val.drop(del_cols, axis=1)\n",
        "X_train = X_train.drop(del_cols, axis=1)\n",
        "X_test = X_test.drop(del_cols, axis=1)"
      ],
      "metadata": {
        "id": "kH8AGNpf_IE2"
      },
      "execution_count": 68,
      "outputs": []
    },
    {
      "cell_type": "code",
      "source": [
        "from sklearn.ensemble import RandomForestClassifier \n",
        "\n",
        "rf = RandomForestClassifier()\n",
        "rf.fit(X_tr, y_tr)\n",
        "\n",
        "from xgboost import XGBClassifier\n",
        "\n",
        "xgb1 = XGBClassifier()\n",
        "xgb1.fit(X_tr, y_tr)"
      ],
      "metadata": {
        "colab": {
          "base_uri": "https://localhost:8080/"
        },
        "id": "Qew0nKM3AExB",
        "outputId": "4951288b-be2d-466d-ef65-9877cc750c07"
      },
      "execution_count": 69,
      "outputs": [
        {
          "output_type": "execute_result",
          "data": {
            "text/plain": [
              "XGBClassifier()"
            ]
          },
          "metadata": {},
          "execution_count": 69
        }
      ]
    },
    {
      "cell_type": "code",
      "source": [
        "y_pred_rf = rf.predict_proba(X_val)[:, 1]\n",
        "y_pred_xgb1 = xgb1.predict_proba(X_val)[:, 1]\n",
        "score_rf = roc_auc_score(y_val, y_pred_rf)\n",
        "score_xgb1 = roc_auc_score(y_val, y_pred_xgb1)\n",
        "print(score_rf, score_xgb1)"
      ],
      "metadata": {
        "colab": {
          "base_uri": "https://localhost:8080/"
        },
        "id": "iGxQxgj4AKDO",
        "outputId": "408eeeee-d99b-4d24-cb16-f593e43d2cd1"
      },
      "execution_count": 70,
      "outputs": [
        {
          "output_type": "stream",
          "name": "stdout",
          "text": [
            "0.907480928139073 0.9218393745960957\n"
          ]
        }
      ]
    },
    {
      "cell_type": "markdown",
      "source": [
        "랜덤포레스트 주요 하이퍼파라미터는 다음과 같습니다.\n",
        "- n_estimators 결정 트리 개수 (100)\n",
        "- max_depth: 트리 깊이의 최댓값 (None)\n",
        "- min_samples_split: 노드 분리에 필요한 최소 샘플 수 (2)\n",
        "- min_samples_leaf: 리프 노드에 필요한 최소 샘플 수 (1)\n",
        "- 특히 min_samples_split, min_samples_leaf 는 과적합 방지를 위해 사용되는 파라미터입니다."
      ],
      "metadata": {
        "id": "umnTpigWAiax"
      }
    },
    {
      "cell_type": "code",
      "source": [
        "start = time.time()\n",
        "from sklearn.model_selection import GridSearchCV \n",
        "\n",
        "grid_params = {\n",
        "    'n_estimators': [50, 100],\n",
        "    'max_depth': [5, 10, 15],\n",
        "    'min_samples_split': [2, 5, 10],\n",
        "    'min_samples_leaf': [1, 2, 4]\n",
        "}\n",
        "\n",
        "rf_cv = GridSearchCV(estimator=rf, param_grid=grid_params, cv=5, scoring='roc_auc')\n",
        "rf_cv.fit(X_train, y_train)\n",
        "print('elapsed: ', time.time()-start)"
      ],
      "metadata": {
        "id": "-hfsm8uLAPeG"
      },
      "execution_count": null,
      "outputs": []
    },
    {
      "cell_type": "code",
      "source": [
        "print(rf_cv.best_params_)\n",
        "# {'max_depth': 15, 'min_samples_leaf': 2, 'min_samples_split': 5, 'n_estimators': 100}\n"
      ],
      "metadata": {
        "id": "kLuLHRKhBvmt"
      },
      "execution_count": null,
      "outputs": []
    },
    {
      "cell_type": "markdown",
      "source": [
        "# n_estimators: 부스팅 iteration 수 100~1000개 사이 (100)\n",
        "# max_depth: 트리 깊이의 최댓값, 일반적으로 3~10 사이 (3)\n",
        "# learning_rate: 학습률, 일반적으로 0.01~0.2 (0.1)\n",
        "# min_child_weight: 자식 노드에 필요한 가중치 합의 최솟값, min_child_leaf와 유사 (1)\n",
        "# subsample: 각 트리에 사용할 데이터 샘플 비율, 일반적으로 0.5~1 사이의 값을 가짐 (1)\n",
        "# colsample_bytree: 각 트리에 사용할 변수 비율, 일반적으로 0.5~1 사이의 값을 가짐 (1)\n",
        "# lambda: L2 규제 값 (1)\n",
        "# alpha: L1 규제 값 (0)\n",
        "\n",
        "# max_depth 값이 너무 작으면 과소적합, 너무 크면 과대적합의 위험이 있다.\n",
        "# min_child_weight 값을 통해 과대적합을 방지할 수 있다. "
      ],
      "metadata": {
        "id": "JN1pUX8BCjKg"
      }
    },
    {
      "cell_type": "code",
      "source": [
        "rf2 = RandomForestClassifier(n_estimators=100, max_depth=15, min_samples_leaf=2, min_samples_split=5)\n",
        "rf2.fit(X_tr, y_tr)"
      ],
      "metadata": {
        "colab": {
          "base_uri": "https://localhost:8080/"
        },
        "id": "lc8a593dCoLX",
        "outputId": "f6aafeef-c7a5-4495-c47d-9f0bf38e6bfa"
      },
      "execution_count": 74,
      "outputs": [
        {
          "output_type": "execute_result",
          "data": {
            "text/plain": [
              "RandomForestClassifier(max_depth=15, min_samples_leaf=2, min_samples_split=5)"
            ]
          },
          "metadata": {},
          "execution_count": 74
        }
      ]
    },
    {
      "cell_type": "code",
      "source": [
        "y_pred_rf2 = rf2.predict_proba(X_val)[:, 1]\n",
        "score_rf2 = roc_auc_score(y_val, y_pred_rf2)\n",
        "print(score_rf2)"
      ],
      "metadata": {
        "colab": {
          "base_uri": "https://localhost:8080/"
        },
        "id": "ReC7YstbDtVH",
        "outputId": "811a0f4d-06ba-4070-aa1e-e40de2c4b107"
      },
      "execution_count": 75,
      "outputs": [
        {
          "output_type": "stream",
          "name": "stdout",
          "text": [
            "0.918374061955554\n"
          ]
        }
      ]
    },
    {
      "cell_type": "code",
      "source": [
        "print(score_rf, score_xgb1)"
      ],
      "metadata": {
        "colab": {
          "base_uri": "https://localhost:8080/"
        },
        "id": "JY6dxljhEAZr",
        "outputId": "418e7265-5608-405a-b5d1-c47e876fe510"
      },
      "execution_count": 76,
      "outputs": [
        {
          "output_type": "stream",
          "name": "stdout",
          "text": [
            "0.907480928139073 0.9218393745960957\n"
          ]
        }
      ]
    },
    {
      "cell_type": "code",
      "source": [
        "y_pred_rf_tr = rf.predict_proba(X_tr)[:, 1]\n",
        "score_rf_tr = roc_auc_score(y_tr, y_pred_rf_tr)\n",
        "\n",
        "y_pred_rf2_tr = rf2.predict_proba(X_tr)[:, 1]\n",
        "score_rf2_tr = roc_auc_score(y_tr, y_pred_rf2_tr)\n",
        "\n",
        "y_pred_xgb1_tr = xgb1.predict_proba(X_tr)[:, 1]\n",
        "score_xgb1_tr = roc_auc_score(y_tr, y_pred_xgb1_tr)\n",
        "\n"
      ],
      "metadata": {
        "colab": {
          "base_uri": "https://localhost:8080/"
        },
        "id": "Klb6nFGkED1-",
        "outputId": "921a5cb8-52f5-45b5-f5d1-3a2844742559"
      },
      "execution_count": 77,
      "outputs": [
        {
          "output_type": "stream",
          "name": "stdout",
          "text": [
            "\n"
          ]
        }
      ]
    },
    {
      "cell_type": "code",
      "source": [
        "print('처음 랜덤포레스트 모델')\n",
        "print(score_rf_tr, ' / ', score_rf)\n",
        "print('튜닝 랜덤포레스트 모델')\n",
        "print(score_rf2_tr, ' / ', score_rf2)\n",
        "print('처음 xgboost 모델')\n",
        "print(score_xgb1_tr, ' / ', score_xgb1)"
      ],
      "metadata": {
        "colab": {
          "base_uri": "https://localhost:8080/"
        },
        "id": "Z0NW86lfEf0v",
        "outputId": "455a83b6-ff7d-4a1e-c0d8-3ab7f85a25ac"
      },
      "execution_count": 79,
      "outputs": [
        {
          "output_type": "stream",
          "name": "stdout",
          "text": [
            "처음 랜덤포레스트 모델\n",
            "1.0  /  0.907480928139073\n",
            "튜닝 랜덤포레스트 모델\n",
            "0.9631695915425239  /  0.918374061955554\n",
            "처음 xgboost 모델\n",
            "0.923370848994855  /  0.9218393745960957\n"
          ]
        }
      ]
    },
    {
      "cell_type": "code",
      "source": [
        "pred = rf2.predict_proba(X_test)[:, 1]\n",
        "pred"
      ],
      "metadata": {
        "colab": {
          "base_uri": "https://localhost:8080/"
        },
        "id": "ZGDI9tE9E0Of",
        "outputId": "3b8a95e0-7743-41b7-b6ef-7c8dc9385dbb"
      },
      "execution_count": 80,
      "outputs": [
        {
          "output_type": "execute_result",
          "data": {
            "text/plain": [
              "array([1.96998403e-04, 3.38735417e-01, 4.42337547e-01, ...,\n",
              "       7.14177610e-01, 2.69614520e-01, 7.22176071e-01])"
            ]
          },
          "metadata": {},
          "execution_count": 80
        }
      ]
    },
    {
      "cell_type": "code",
      "source": [
        " pd.DataFrame({'target': pred}).to_csv('1234567.csv', index=False)"
      ],
      "metadata": {
        "id": "r1F7Bl4jFVbx"
      },
      "execution_count": 82,
      "outputs": []
    },
    {
      "cell_type": "code",
      "source": [
        ""
      ],
      "metadata": {
        "id": "RCdXlhB4Fg1X"
      },
      "execution_count": null,
      "outputs": []
    }
  ]
}