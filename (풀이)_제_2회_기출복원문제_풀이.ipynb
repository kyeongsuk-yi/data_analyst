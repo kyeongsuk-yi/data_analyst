{
  "nbformat": 4,
  "nbformat_minor": 0,
  "metadata": {
    "colab": {
      "name": "(문제) 제 2회 기출복원문제 풀이.ipynb",
      "provenance": [],
      "collapsed_sections": []
    },
    "kernelspec": {
      "name": "python3",
      "display_name": "Python 3"
    },
    "language_info": {
      "name": "python"
    }
  },
  "cells": [
    {
      "cell_type": "code",
      "source": [
        "!git clone https://github.com/AnalyticsKnight/yemoonsaBigdata/"
      ],
      "metadata": {
        "colab": {
          "base_uri": "https://localhost:8080/"
        },
        "id": "2RA_qOhWIlxK",
        "outputId": "e26d3ea6-7011-4aa3-8f6f-da9338b1ac28"
      },
      "execution_count": 1,
      "outputs": [
        {
          "output_type": "stream",
          "name": "stdout",
          "text": [
            "Cloning into 'yemoonsaBigdata'...\n",
            "remote: Enumerating objects: 471, done.\u001b[K\n",
            "remote: Counting objects: 100% (108/108), done.\u001b[K\n",
            "remote: Compressing objects: 100% (65/65), done.\u001b[K\n",
            "remote: Total 471 (delta 63), reused 43 (delta 43), pack-reused 363\u001b[K\n",
            "Receiving objects: 100% (471/471), 8.55 MiB | 22.91 MiB/s, done.\n",
            "Resolving deltas: 100% (248/248), done.\n"
          ]
        }
      ]
    },
    {
      "cell_type": "markdown",
      "source": [
        "# 제 2회 기출복원문제"
      ],
      "metadata": {
        "id": "zrA14Lj6FpRC"
      }
    },
    {
      "cell_type": "markdown",
      "source": [
        "## 2. 작업형 제 1 유형"
      ],
      "metadata": {
        "id": "d5fsCWZpFuyk"
      }
    },
    {
      "cell_type": "markdown",
      "source": [
        "### 문제"
      ],
      "metadata": {
        "id": "9W3_os71JASd"
      }
    },
    {
      "cell_type": "markdown",
      "source": [
        "1) 다음은 Boston Housing 데이터 세트이다. 범죄율 컬럼인 Crim 항목의 상위에서 10번째 값(즉, 범죄율을 큰 순서로 오름차순 정렬했을 때 10번째에 위치한 값)으로 상위 10개의 값을 변환한 후, age가 80 이상인 데이터를 추출하여 crim의 평균값을 계산하시오.\n",
        "\n",
        "\n",
        "- CRIM: 도시별 1인당 범죄율\n",
        "- ZN: 25,000 평방피트 이상의 부지로 구획된 주거용 토지의 비율\n",
        "- INDUS: 도시당 비소매업에이커 비율\n",
        "- CHAS: 강의 경계 위치 여부 (강의 경계에 위치한 경우는 1, 아니면 0)\n",
        "- NOX: 산회질소 농도 (1천만분의 1)\n",
        "- RM: 가구당 평균 방의 개수\n",
        "- AGE: 1940년 이전에 건축된 소유주택의 비율\n",
        "- DIS: 5개의 보스턴 고용센터까지의 가중 거리\n",
        "- RAD: 방사형 고속도로 접근성 지수\n",
        "- TAX: USD 10,000당 재산세율\n",
        "- PTRATIO: 도시별 학생 – 교사 비율\n",
        "- B: 도시별 흑인 비율\n",
        "- LSTAT: 모집단의 하위계층의 비율\n"
      ],
      "metadata": {
        "id": "Il880414G-Nt"
      }
    },
    {
      "cell_type": "markdown",
      "source": [
        "### 답 "
      ],
      "metadata": {
        "id": "_0HdNw9VJEhA"
      }
    },
    {
      "cell_type": "code",
      "source": [
        "# 출력을 원할 경우 print() 함수 활용\n",
        "# 예시) print(df.head())\n",
        "\n",
        "# getcwd(), chdir() 등 작업 폴더 설정 불필요\n",
        "# 파일 경로 상 내부 드라이브 경로(C: 등) 접근 불가\n",
        "\n",
        "import pandas as pd\n",
        "boston = pd.read_csv('yemoonsaBigdata/datasets/Part3/201_boston.csv')\n",
        "\n",
        "# 정렬 - sort_values  \n",
        "boston_sort = boston.sort_values(by='CRIM', ascending=False) # 내림차순 / True: 오름차순\n",
        "boston_sort = boston_sort.reset_index(drop=True)\n",
        "\n",
        "# 상위 10번째 값\n",
        "crim_val = boston_sort.loc[9, 'CRIM']\n",
        "\n",
        "# 상위 10행의 값 변환\n",
        "boston_sort.loc[:9, 'CRIM'] = crim_val\n",
        "\n",
        "answer = boston_sort.loc[boston_sort['AGE']>=80, 'CRIM'].mean()\n",
        "print(answer)\n",
        "\n",
        "\n",
        "# print(boston_sort.head(15))\n",
        "\n",
        "# print(crim_val)\n",
        "# print(boston_sort.head(10))\n",
        "# crim_val = boston_sort.iloc[9, 0] # loc\n",
        "# loc: location, 행 이름(인덱스), 열 이름으로 불러오는 것 \n",
        "# iloc: N번째 행, N번째 열\n",
        "\n",
        "\n",
        "# 답안 제출 예시\n",
        "# print(평균변수값)\n"
      ],
      "metadata": {
        "id": "BSGYkbONHMp1",
        "colab": {
          "base_uri": "https://localhost:8080/"
        },
        "outputId": "20094f70-9c1d-4148-e523-abeee512e017"
      },
      "execution_count": 8,
      "outputs": [
        {
          "output_type": "stream",
          "name": "stdout",
          "text": [
            "5.759386624999999\n"
          ]
        }
      ]
    },
    {
      "cell_type": "markdown",
      "source": [
        "### 문제"
      ],
      "metadata": {
        "id": "zFVtGjNeJ8nG"
      }
    },
    {
      "cell_type": "markdown",
      "source": [
        "2) 다음은 California Housing 데이터 세트이다. 주어진 데이터의 첫 번째 행부터 순서대로 80% 까지의 데이터를 훈련 데이터로 추출 후, 전체 방 개수 컬럼을 의미하는 ‘total bedrooms’ 변수의 결측치를 ‘total_bedrooms’변수의 중앙값으로 대체한 데이터 세트를 구성한다. 결측치 대체 전의 ‘total_bedrooms’ 변수 표준편차 값과 결측치 대체 후의 ‘total_bedrooms’ 변수 표준편차 값의 차이에 대한 절대값을 계산하시오.\n",
        "\n",
        "- longitute: 경도\n",
        "- latitude: 위도\n",
        "- housing_median_age: 주택 나이의 중앙값\n",
        "- total_rooms: 전체 방 개수\n",
        "- total_bedrooms: 전체 침실 개수\n",
        "- population: 인구\n",
        "- households: 세대수\n",
        "- median_income: 소득의 중앙값\n",
        "- median_house_value: 주택가치\n",
        "- ocean_proximty: 바다근접도\n"
      ],
      "metadata": {
        "id": "eweEi_FoJ_yL"
      }
    },
    {
      "cell_type": "markdown",
      "source": [
        "### 답"
      ],
      "metadata": {
        "id": "wXjJx3nMK-kK"
      }
    },
    {
      "cell_type": "code",
      "source": [
        "# 출력을 원할 경우 print() 함수 활용\n",
        "# 예시) print(df.head())\n",
        "\n",
        "# getcwd(), chdir() 등 작업 폴더 설정 불필요\n",
        "# 파일 경로 상 내부 드라이브 경로(C: 등) 접근 불가\n",
        "\n",
        "# 데이터 파일 읽기 예제\n",
        "import pandas as pd\n",
        "housing = pd.read_csv('yemoonsaBigdata/datasets/Part3/202_housing.csv')\n",
        "\n",
        "row_num = int(len(housing)*0.8) # housing.shape[0]\n",
        "train = housing.loc[:row_num-1].copy()  # loc, iloc 조심\n",
        "\n",
        "# 결측치 대체 전의 표준편차 값\n",
        "std1 = train['total_bedrooms'].std()\n",
        "\n",
        "# 결측치 대체 \n",
        "med_val = train['total_bedrooms'].median()\n",
        "train['total_bedrooms'] = train['total_bedrooms'].fillna(med_val)\n",
        "\n",
        "# 결측치 대체 후의 표준편차 값\n",
        "std2 = train['total_bedrooms'].std()\n",
        "# print(std1, std2)\n",
        "\n",
        "answer = abs(std1-std2) # 절대값: abs\n",
        "print(answer)\n",
        "\n",
        "# 답안 제출 예시\n",
        "# print(평균변수값)\n"
      ],
      "metadata": {
        "id": "Lu-Gx5zOKX4l",
        "colab": {
          "base_uri": "https://localhost:8080/"
        },
        "outputId": "4f8d8cc6-9f7f-4b2e-f1aa-a55805a51640"
      },
      "execution_count": 13,
      "outputs": [
        {
          "output_type": "stream",
          "name": "stdout",
          "text": [
            "1.975147291645726\n"
          ]
        }
      ]
    },
    {
      "cell_type": "markdown",
      "source": [
        "### 문제"
      ],
      "metadata": {
        "id": "ugwXCB2oLQi6"
      }
    },
    {
      "cell_type": "markdown",
      "source": [
        "3) 2번 문항에서 활용한 California Housing 데이터 세트를 그대로 활용한다. 인구 컬럼인 population 항목의 이상값의 합계를 계산하시오.  \n",
        "(※ 이상값은 평균에서 1.5×표준편차를 초과하거나 미만인 값의 범위로 정한다.)\n"
      ],
      "metadata": {
        "id": "Xv0_TOqKLTTm"
      }
    },
    {
      "cell_type": "markdown",
      "source": [
        "### 답"
      ],
      "metadata": {
        "id": "cjrbStgMKyul"
      }
    },
    {
      "cell_type": "code",
      "source": [
        "# 출력을 원할 경우 print() 함수 활용\n",
        "# 예시) print(df.head())\n",
        "\n",
        "# getcwd(), chdir() 등 작업 폴더 설정 불필요\n",
        "# 파일 경로 상 내부 드라이브 경로(C: 등) 접근 불가\n",
        "\n",
        "# 데이터 파일 읽기 예제\n",
        "import pandas as pd\n",
        "housing = pd.read_csv('yemoonsaBigdata/datasets/Part3/203_housing.csv')\n",
        "\n",
        "# 이상값 도출을 위한 기준치 계산\n",
        "mean_val = housing['population'].mean() # 평균\n",
        "std_val = housing['population'].std() # 표준편차\n",
        "\n",
        "# 이상값 도출 기준 \n",
        "lower = mean_val - 1.5*std_val \n",
        "upper = mean_val + 1.5*std_val\n",
        "# print(lower, upper)\n",
        "\n",
        "# 이상값 도출\n",
        "outliers = housing.loc[(housing['population']<lower) | (housing['population']>upper), 'population']\n",
        "\n",
        "answer = outliers.sum()\n",
        "print(answer)\n",
        "\n",
        "\n",
        "# 답안 제출 예시\n",
        "# print(평균변수값)"
      ],
      "metadata": {
        "id": "yYlsjFtGKzpK",
        "colab": {
          "base_uri": "https://localhost:8080/"
        },
        "outputId": "e2368a1e-2161-46d0-cc99-3ae18e463160"
      },
      "execution_count": 17,
      "outputs": [
        {
          "output_type": "stream",
          "name": "stdout",
          "text": [
            "5607295.0\n"
          ]
        }
      ]
    },
    {
      "cell_type": "markdown",
      "source": [
        "## 3. 작업형 제 2 유형"
      ],
      "metadata": {
        "id": "4prDUdlJLvrA"
      }
    },
    {
      "cell_type": "markdown",
      "source": [
        "### 문제"
      ],
      "metadata": {
        "id": "i7YUth5sLxIz"
      }
    },
    {
      "cell_type": "markdown",
      "source": [
        "1) 다음은 E-commerce Shipping 데이터 세트이다. 주어진 훈련 데이터 세트를 활용하여 고객이 주문한 물품의 정시 도착 여부를 예측하고 해당 예측 결과를 csv 파일로 제출하시오.  \n",
        "※ 결과 제출 양식 : 제출한 예측값의 ROC_AUC 점수 결과를 통해 영역별 배점에 따라 최종 점수가 반영될 예정\n",
        "\n",
        "\n",
        "- ID: 고객 ID 번호\n",
        "- Warehouse_block: 창고의 블록 단위 구역 (A, B, C, D, F)\n",
        "- Mode_of_Shipment: 제품 배송 방법\n",
        "- Customer_care_calls: 문의 전화 수\n",
        "- Customer_rating: 고객의 등급 (1 : 가장 낮음, 5 : 가장 높음)\n",
        "- Cost_of_the_Product: 제품의 비용 (달러 기준)\n",
        "- Prior_purchases: 사전 구매 수량\n",
        "- Product_importance: 제품의 중요도\n",
        "- Gender: 성별 (F : 여성, M : 남성)\n",
        "- Discount_offered: 할인혜택\n",
        "- Weight_in_gas: 그램 단위 무게\n",
        "- Reached.on.Time_Y.N: 정시 도착 여부 (1 : 도착하지 않음, 0 : 정시 도착)\n"
      ],
      "metadata": {
        "id": "fy8JA3FhL00f"
      }
    },
    {
      "cell_type": "markdown",
      "source": [
        "### 답"
      ],
      "metadata": {
        "id": "CDuwVAsAL6QW"
      }
    },
    {
      "cell_type": "code",
      "source": [
        "# 출력을 원하실 경우 print() 함수 활용\n",
        "# 예시) print(df.head())\n",
        "\n",
        "# getcwd(), chdir() 등 작업 폴더 설정 불필요\n",
        "# 파일 경로 상 내부 드라이브 경로(C: 등) 접근 불가\n",
        "\n",
        "# 패키지 불러오기 \n",
        "import pandas as pd\n",
        "import numpy as np \n",
        "\n",
        "from sklearn.preprocessing import LabelEncoder\n",
        "from sklearn.preprocessing import MinMaxScaler\n",
        "from sklearn.model_selection import train_test_split \n",
        "\n",
        "from sklearn.linear_model import LogisticRegression\n",
        "from sklearn.ensemble import RandomForestClassifier\n",
        "from xgboost import XGBClassifier \n",
        "\n",
        "from sklearn.metrics import roc_auc_score \n",
        "\n",
        "\n",
        "X_test = pd.read_csv(\"yemoonsaBigdata/datasets/Part3/204_x_test.csv\")\n",
        "X_train = pd.read_csv(\"yemoonsaBigdata/datasets/Part3/204_x_train.csv\")\n",
        "y_train = pd.read_csv(\"yemoonsaBigdata/datasets/Part3/204_y_train.csv\")\n",
        "\n",
        "# print(X_test, '\\n')\n",
        "# print(X_train, '\\n')\n",
        "# print(y_train)\n",
        "\n",
        "# print(X_train['ID'].nunique(), len(X_train))\n",
        "\n",
        "# print(X_test.isnull().sum(), '\\n')\n",
        "# print(X_train.isnull().sum(), '\\n')\n",
        "# print(y_train.isnull().sum())\n",
        "# -> 결측치 없음\n",
        "\n",
        "# print(X_train.describe(), '\\n')\n",
        "# print(X_test.describe())\n",
        "# -> 이상치 없음\n",
        "\n",
        "del_cols = ['ID']\n",
        "num_cols = ['Customer_care_calls',  'Customer_rating', 'Cost_of_the_Product',  'Prior_purchases',  'Discount_offered',  'Weight_in_gms']\n",
        "cat_cols = ['Warehouse_block', 'Mode_of_Shipment', 'Product_importance', 'Gender']\n",
        "X_cols = num_cols+cat_cols\n",
        "y_col = ['Reached.on.Time_Y.N']\n",
        "\n",
        "# 인코딩 \n",
        "X = pd.concat([X_train, X_test])\n",
        "\n",
        "le = LabelEncoder()\n",
        "\n",
        "for _col in cat_cols:\n",
        "  le.fit(X[_col])\n",
        "  X_train[_col] = le.transform(X_train[_col])\n",
        "  X_test[_col] = le.transform(X_test[_col])\n",
        "\n",
        "# 3. 데이터 모형 구축\n",
        "# 데이터 분할\n",
        "X_tr, X_val, y_tr, y_val = train_test_split(X_train[X_cols], y_train[y_col], test_size=0.3, stratify=y_train[y_col], random_state=123)\n",
        "\n",
        "# 데이터 스케일링\n",
        "sc = MinMaxScaler()\n",
        "sc.fit(X_tr[num_cols])\n",
        "X_tr[num_cols] = sc.transform(X_tr[num_cols])\n",
        "X_val[num_cols] = sc.transform(X_val[num_cols])\n",
        "X_test[num_cols] = sc.transform(X_test[num_cols])\n",
        "\n",
        "\n",
        "# roc_auc_score 계산 함수 \n",
        "def get_scores(model, X_tr, X_val, y_tr, y_val):\n",
        "\n",
        "  y_tr_pred = model.predict_proba(X_tr)[:, 1]\n",
        "  y_val_pred = model.predict_proba(X_val)[:, 1]\n",
        "  score_tr = roc_auc_score(y_tr, y_tr_pred)\n",
        "  score_val = roc_auc_score(y_val, y_val_pred)\n",
        "\n",
        "  return f'train: {round(score_tr, 4)}, valid: {round(score_val, 4)}'\n",
        "\n",
        "# 머신러닝 모델 생성 함수\n",
        "def make_models(X_tr, X_val, y_tr, y_val):\n",
        "\n",
        "  model1 = LogisticRegression()\n",
        "  model1.fit(X_tr, y_tr)\n",
        "  print('Logistic:\\t', get_scores(model1, X_tr, X_val, y_tr, y_val))\n",
        "\n",
        "  model2 = RandomForestClassifier(random_state=123)\n",
        "  model2.fit(X_tr, y_tr)\n",
        "  print('RandomForest:\\t', get_scores(model2,  X_tr, X_val, y_tr, y_val))\n",
        "\n",
        "  for d in range(5, 11):\n",
        "    model2 = RandomForestClassifier(max_depth=d, min_samples_split=3, min_samples_leaf=2, random_state=123).fit(X_tr, y_tr)\n",
        "    print(f' - max_dept={d}:\\t', get_scores(model2,  X_tr, X_val, y_tr, y_val))\n",
        "\n",
        "  model3 = XGBClassifier().fit(X_tr, y_tr)\n",
        "  print('Xgboost:\\t', get_scores(model3,  X_tr, X_val, y_tr, y_val))\n",
        "\n",
        "  for d in range(5, 11):\n",
        "    model3 = XGBClassifier(max_depth=d, learning_rate=0.03, n_estimators=200, min_child_weight=3).fit(X_tr, y_tr)\n",
        "    print(f' - max_dept={d}:\\t', get_scores(model3,  X_tr, X_val, y_tr, y_val))\n",
        "\n",
        "# make_models(X_tr, X_val, y_tr, y_val)\n",
        "\n",
        "final_model =  RandomForestClassifier(max_depth=5, min_samples_split=3, min_samples_leaf=2, random_state=123)\n",
        "final_model.fit(X_train[X_cols], y_train[y_col])\n",
        "\n",
        "y_pred = final_model.predict_proba(X_test[X_cols])[:, 1]\n",
        "pd.DataFrame({'index': X_test.index, 'y_pred': y_pred}).to_csv('1234567.csv', index=False)\n",
        "\n",
        "# 답안 제출 참고\n",
        "# 아래 코드 예측변수와 수험번호를 개인별로 변경하여 활용\n",
        "# pd.DataFrame({'index': X_test.index, 'y_pred': pred}).to_csv('003000000.csv', index=False)\n"
      ],
      "metadata": {
        "id": "J1PE6PObMMn-",
        "colab": {
          "base_uri": "https://localhost:8080/"
        },
        "outputId": "9a606382-99b8-4637-b2b7-5228918d4c8e"
      },
      "execution_count": 28,
      "outputs": [
        {
          "output_type": "stream",
          "name": "stderr",
          "text": [
            "/usr/local/lib/python3.7/dist-packages/ipykernel_launcher.py:104: DataConversionWarning: A column-vector y was passed when a 1d array was expected. Please change the shape of y to (n_samples,), for example using ravel().\n"
          ]
        }
      ]
    },
    {
      "cell_type": "code",
      "source": [
        ""
      ],
      "metadata": {
        "id": "4Z7EwVi24e3D"
      },
      "execution_count": null,
      "outputs": []
    }
  ]
}