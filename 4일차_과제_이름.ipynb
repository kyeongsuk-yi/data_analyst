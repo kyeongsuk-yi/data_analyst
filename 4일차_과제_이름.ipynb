{
  "cells": [
    {
      "cell_type": "markdown",
      "id": "b80a736d",
      "metadata": {
        "id": "b80a736d"
      },
      "source": [
        "# 4일차 과제 - 모의고사 \n",
        "\n",
        "- 아래 문제를 읽고 알맞은 __단답형 정답__ 및 __코드__를 작성해서 제출해주세요.\n",
        "- 제출 방법:6/8(수) 자정까지 정답을 작성한 .ipynb 파일을 yi.kyeongsuk@gmail.com으로 보내주세요. \n",
        "- 채점을 원할 경우 메일에 채점 원한다고 적어주세요 :^)"
      ]
    },
    {
      "cell_type": "code",
      "execution_count": null,
      "id": "408b1e9a",
      "metadata": {
        "colab": {
          "base_uri": "https://localhost:8080/"
        },
        "id": "408b1e9a",
        "outputId": "9cb45abf-b674-4938-d62b-1991bd0ce819"
      },
      "outputs": [
        {
          "output_type": "stream",
          "name": "stdout",
          "text": [
            "Cloning into 'yemoonsaBigdata'...\n",
            "remote: Enumerating objects: 462, done.\u001b[K\n",
            "remote: Counting objects: 100% (99/99), done.\u001b[K\n",
            "remote: Compressing objects: 100% (56/56), done.\u001b[K\n",
            "remote: Total 462 (delta 59), reused 43 (delta 43), pack-reused 363\u001b[K\n",
            "Receiving objects: 100% (462/462), 8.40 MiB | 13.92 MiB/s, done.\n",
            "Resolving deltas: 100% (244/244), done.\n"
          ]
        }
      ],
      "source": [
        "# 이 파일을 google colab을 통해 연 후 셀을 실행시켜 주세요.\n",
        "!git clone https://github.com/AnalyticsKnight/yemoonsaBigdata/"
      ]
    },
    {
      "cell_type": "markdown",
      "source": [
        "## <필답형>\n"
      ],
      "metadata": {
        "id": "OMHtnJ15tAN5"
      },
      "id": "OMHtnJ15tAN5"
    },
    {
      "cell_type": "markdown",
      "source": [
        "####01. 다음은 무엇에 대한 설명인가? (3점)\n",
        "- 정형, 비정형의 다양한 유형의 데이터를 저장, 관리하며 소스 데이터 형태를 그대로 저장한다.\n",
        "- 분산 저장에프레임워크, 분산 저장 언어, 메타 관리 솔루션의 구축이 필요하다.\n",
        "- 상대적으로 데이터 웨어하우스의 구축 비용보다는 비용이 저렴하다. "
      ],
      "metadata": {
        "id": "3FJJCaSTQPLh"
      },
      "id": "3FJJCaSTQPLh"
    },
    {
      "cell_type": "markdown",
      "source": [
        "=> 정답: *여기에 작성*"
      ],
      "metadata": {
        "id": "jMca8AL1RHRb"
      },
      "id": "jMca8AL1RHRb"
    },
    {
      "cell_type": "markdown",
      "source": [
        "####02. 데이터 변환 기법 중 데이터의 노이즈를 구간화, 군집화 등으로 다듬는 방법은? (3점)"
      ],
      "metadata": {
        "id": "XcuqMbB3QPUZ"
      },
      "id": "XcuqMbB3QPUZ"
    },
    {
      "cell_type": "markdown",
      "source": [
        "=> 정답: *여기에 작성*"
      ],
      "metadata": {
        "id": "QxtjcNVLQPct"
      },
      "id": "QxtjcNVLQPct"
    },
    {
      "cell_type": "markdown",
      "source": [
        "####03. 데이터에 정제 규칙을 적용하여 유의미한 최소 단위로 분할하는 작업으로 주민등록번호를 생년월일, 성별로 분할할 때 사용 가능한 정제 기법은? (3점)"
      ],
      "metadata": {
        "id": "t_xbW6AfimP7"
      },
      "id": "t_xbW6AfimP7"
    },
    {
      "cell_type": "markdown",
      "source": [
        "=> 정답: *여기에 작성*"
      ],
      "metadata": {
        "id": "o8E36k4DkzqE"
      },
      "id": "o8E36k4DkzqE"
    },
    {
      "cell_type": "markdown",
      "source": [
        "####04. 데이터 분포를 고려한 거리 측도로서 데이터 관측치가 평균으로부터 벗어난 정도를 측정하여 이상값을 검출하는 통계 기법은? (3점)"
      ],
      "metadata": {
        "id": "unMN96h4inua"
      },
      "id": "unMN96h4inua"
    },
    {
      "cell_type": "markdown",
      "source": [
        "=> 정답: *여기에 작성*"
      ],
      "metadata": {
        "id": "YpDPxzUpin3d"
      },
      "id": "YpDPxzUpin3d"
    },
    {
      "cell_type": "markdown",
      "source": [
        "####05. 변수 일부만을 모델링에 사용하고 그 결과를 확인하는 작업을 반복하면서 변수를 선택해 나가는 기법은? (3점)"
      ],
      "metadata": {
        "id": "t0f-_Qp-ioAV"
      },
      "id": "t0f-_Qp-ioAV"
    },
    {
      "cell_type": "markdown",
      "source": [
        "=> 정답: *여기에 작성*"
      ],
      "metadata": {
        "id": "Yq-a8VByioSN"
      },
      "id": "Yq-a8VByioSN"
    },
    {
      "cell_type": "markdown",
      "source": [
        "####06. 다음은 무엇에 대한 설명인가? (3점)\n",
        "- 귀무가설이 참이라는 가정에 따라 주어진 표본 데이터를 희소 또는 극한값으로 얻을 확률값이다.\n",
        "- 이 값이 작을수록 표본이 모수에 대하여 귀무가설을 기각할 증거를 충분히 제공한다고 볼 수 있다."
      ],
      "metadata": {
        "id": "rZIRklPRimax"
      },
      "id": "rZIRklPRimax"
    },
    {
      "cell_type": "markdown",
      "source": [
        "=> 정답: *여기에 작성*"
      ],
      "metadata": {
        "id": "dmMmpriKimlJ"
      },
      "id": "dmMmpriKimlJ"
    },
    {
      "cell_type": "markdown",
      "source": [
        "####07. _______은 기업의 데이터베이스에서 상품의 구매, 서비스 등의 거래 또는 사건 간의 규칙을 발견하기 위해 적용하며, 장바구니 분석, 서열 분석이라고도 불린다. 빈 칸에 들어갈 알맞은 분석 방법은? (3점)"
      ],
      "metadata": {
        "id": "CmegvYskimtb"
      },
      "id": "CmegvYskimtb"
    },
    {
      "cell_type": "markdown",
      "source": [
        "=> 정답: *여기에 작성*"
      ],
      "metadata": {
        "id": "UbGImBnbS-vU"
      },
      "id": "UbGImBnbS-vU"
    },
    {
      "cell_type": "markdown",
      "source": [
        "####08. 다음 거래 내역을 보고 연관규칙 '빵->우유'의 향상도(Lift)를 구하시오. (3점)\n",
        "- '우유'는 10개 팔렸다.\n",
        "- '빵, 우유'는 10개 팔렸다.\n",
        "- '과자, 콜라'는 10개 팔렸다.\n",
        "- '빵, 과자, 우유'는 20개 팔렸다."
      ],
      "metadata": {
        "id": "Ih-Z8ID7ijn-"
      },
      "id": "Ih-Z8ID7ijn-"
    },
    {
      "cell_type": "markdown",
      "source": [
        "=> 정답: *여기에 작성*"
      ],
      "metadata": {
        "id": "WOW6MwfyijzO"
      },
      "id": "WOW6MwfyijzO"
    },
    {
      "cell_type": "markdown",
      "source": [
        "####09. ________는 의사결정나무의 불순도를 나타내는 지표로, 데이터의 통계적 분산 정도를 정량화한 값이다. 이 값이 클수록 데이터의 분산 정도가 크다. 빈 칸에 들어갈 알맞은 말은?(3점) "
      ],
      "metadata": {
        "id": "bZTPhswzawhg"
      },
      "id": "bZTPhswzawhg"
    },
    {
      "cell_type": "markdown",
      "source": [
        "=> 정답: *여기에 작성*"
      ],
      "metadata": {
        "id": "z6FH64qwawrJ"
      },
      "id": "z6FH64qwawrJ"
    },
    {
      "cell_type": "markdown",
      "source": [
        "####10. ________는 한 데이터 내에서 같은 크기의 표본을 랜덤 복원 추출하는 샘플링 기법으로, 배깅(bagging)이 이 기법을 활용한 앙상블 분석 방법이다. 빈 칸에 들어갈 알맞은 말은? (3점)"
      ],
      "metadata": {
        "id": "pXHjFpQoawyb"
      },
      "id": "pXHjFpQoawyb"
    },
    {
      "cell_type": "markdown",
      "source": [
        "=> 정답: *여기에 작성*"
      ],
      "metadata": {
        "id": "_b53hGUeaw5i"
      },
      "id": "_b53hGUeaw5i"
    },
    {
      "cell_type": "markdown",
      "source": [
        "## <작업형 제 1유형> "
      ],
      "metadata": {
        "id": "sFRwtz-KbjPo"
      },
      "id": "sFRwtz-KbjPo"
    },
    {
      "cell_type": "code",
      "source": [
        "# 이 셀은 데이터를 불러오기 위한 셀이니 변경 없이 그대로 실행해주세요!!\n",
        "import pandas as pd\n",
        "\n",
        "df = pd.read_csv(\"./yemoonsaBigdata/datasets/Part2/mpg_X_train.csv\")\n",
        "df.head()"
      ],
      "metadata": {
        "colab": {
          "base_uri": "https://localhost:8080/",
          "height": 206
        },
        "id": "RumNtR80sBXU",
        "outputId": "6bc0bff0-b843-41fe-f3d6-9defb74b08d5"
      },
      "id": "RumNtR80sBXU",
      "execution_count": null,
      "outputs": [
        {
          "output_type": "execute_result",
          "data": {
            "text/plain": [
              "                         name   mpg  cylinders  displacement  horsepower  \\\n",
              "0  pontiac j2000 se hatchback  31.0          4         112.0        85.0   \n",
              "1         pontiac safari (sw)  13.0          8         400.0       175.0   \n",
              "2          mazda glc custom l  37.0          4          91.0        68.0   \n",
              "3    oldsmobile vista cruiser  12.0          8         350.0       180.0   \n",
              "4                 peugeot 504  19.0          4         120.0        88.0   \n",
              "\n",
              "   weight  acceleration  model_year  \n",
              "0    2575          16.2          82  \n",
              "1    5140          12.0          71  \n",
              "2    2025          18.2          82  \n",
              "3    4499          12.5          73  \n",
              "4    3270          21.9          76  "
            ],
            "text/html": [
              "\n",
              "  <div id=\"df-5cf459fc-4115-45d3-8171-c38b405ee177\">\n",
              "    <div class=\"colab-df-container\">\n",
              "      <div>\n",
              "<style scoped>\n",
              "    .dataframe tbody tr th:only-of-type {\n",
              "        vertical-align: middle;\n",
              "    }\n",
              "\n",
              "    .dataframe tbody tr th {\n",
              "        vertical-align: top;\n",
              "    }\n",
              "\n",
              "    .dataframe thead th {\n",
              "        text-align: right;\n",
              "    }\n",
              "</style>\n",
              "<table border=\"1\" class=\"dataframe\">\n",
              "  <thead>\n",
              "    <tr style=\"text-align: right;\">\n",
              "      <th></th>\n",
              "      <th>name</th>\n",
              "      <th>mpg</th>\n",
              "      <th>cylinders</th>\n",
              "      <th>displacement</th>\n",
              "      <th>horsepower</th>\n",
              "      <th>weight</th>\n",
              "      <th>acceleration</th>\n",
              "      <th>model_year</th>\n",
              "    </tr>\n",
              "  </thead>\n",
              "  <tbody>\n",
              "    <tr>\n",
              "      <th>0</th>\n",
              "      <td>pontiac j2000 se hatchback</td>\n",
              "      <td>31.0</td>\n",
              "      <td>4</td>\n",
              "      <td>112.0</td>\n",
              "      <td>85.0</td>\n",
              "      <td>2575</td>\n",
              "      <td>16.2</td>\n",
              "      <td>82</td>\n",
              "    </tr>\n",
              "    <tr>\n",
              "      <th>1</th>\n",
              "      <td>pontiac safari (sw)</td>\n",
              "      <td>13.0</td>\n",
              "      <td>8</td>\n",
              "      <td>400.0</td>\n",
              "      <td>175.0</td>\n",
              "      <td>5140</td>\n",
              "      <td>12.0</td>\n",
              "      <td>71</td>\n",
              "    </tr>\n",
              "    <tr>\n",
              "      <th>2</th>\n",
              "      <td>mazda glc custom l</td>\n",
              "      <td>37.0</td>\n",
              "      <td>4</td>\n",
              "      <td>91.0</td>\n",
              "      <td>68.0</td>\n",
              "      <td>2025</td>\n",
              "      <td>18.2</td>\n",
              "      <td>82</td>\n",
              "    </tr>\n",
              "    <tr>\n",
              "      <th>3</th>\n",
              "      <td>oldsmobile vista cruiser</td>\n",
              "      <td>12.0</td>\n",
              "      <td>8</td>\n",
              "      <td>350.0</td>\n",
              "      <td>180.0</td>\n",
              "      <td>4499</td>\n",
              "      <td>12.5</td>\n",
              "      <td>73</td>\n",
              "    </tr>\n",
              "    <tr>\n",
              "      <th>4</th>\n",
              "      <td>peugeot 504</td>\n",
              "      <td>19.0</td>\n",
              "      <td>4</td>\n",
              "      <td>120.0</td>\n",
              "      <td>88.0</td>\n",
              "      <td>3270</td>\n",
              "      <td>21.9</td>\n",
              "      <td>76</td>\n",
              "    </tr>\n",
              "  </tbody>\n",
              "</table>\n",
              "</div>\n",
              "      <button class=\"colab-df-convert\" onclick=\"convertToInteractive('df-5cf459fc-4115-45d3-8171-c38b405ee177')\"\n",
              "              title=\"Convert this dataframe to an interactive table.\"\n",
              "              style=\"display:none;\">\n",
              "        \n",
              "  <svg xmlns=\"http://www.w3.org/2000/svg\" height=\"24px\"viewBox=\"0 0 24 24\"\n",
              "       width=\"24px\">\n",
              "    <path d=\"M0 0h24v24H0V0z\" fill=\"none\"/>\n",
              "    <path d=\"M18.56 5.44l.94 2.06.94-2.06 2.06-.94-2.06-.94-.94-2.06-.94 2.06-2.06.94zm-11 1L8.5 8.5l.94-2.06 2.06-.94-2.06-.94L8.5 2.5l-.94 2.06-2.06.94zm10 10l.94 2.06.94-2.06 2.06-.94-2.06-.94-.94-2.06-.94 2.06-2.06.94z\"/><path d=\"M17.41 7.96l-1.37-1.37c-.4-.4-.92-.59-1.43-.59-.52 0-1.04.2-1.43.59L10.3 9.45l-7.72 7.72c-.78.78-.78 2.05 0 2.83L4 21.41c.39.39.9.59 1.41.59.51 0 1.02-.2 1.41-.59l7.78-7.78 2.81-2.81c.8-.78.8-2.07 0-2.86zM5.41 20L4 18.59l7.72-7.72 1.47 1.35L5.41 20z\"/>\n",
              "  </svg>\n",
              "      </button>\n",
              "      \n",
              "  <style>\n",
              "    .colab-df-container {\n",
              "      display:flex;\n",
              "      flex-wrap:wrap;\n",
              "      gap: 12px;\n",
              "    }\n",
              "\n",
              "    .colab-df-convert {\n",
              "      background-color: #E8F0FE;\n",
              "      border: none;\n",
              "      border-radius: 50%;\n",
              "      cursor: pointer;\n",
              "      display: none;\n",
              "      fill: #1967D2;\n",
              "      height: 32px;\n",
              "      padding: 0 0 0 0;\n",
              "      width: 32px;\n",
              "    }\n",
              "\n",
              "    .colab-df-convert:hover {\n",
              "      background-color: #E2EBFA;\n",
              "      box-shadow: 0px 1px 2px rgba(60, 64, 67, 0.3), 0px 1px 3px 1px rgba(60, 64, 67, 0.15);\n",
              "      fill: #174EA6;\n",
              "    }\n",
              "\n",
              "    [theme=dark] .colab-df-convert {\n",
              "      background-color: #3B4455;\n",
              "      fill: #D2E3FC;\n",
              "    }\n",
              "\n",
              "    [theme=dark] .colab-df-convert:hover {\n",
              "      background-color: #434B5C;\n",
              "      box-shadow: 0px 1px 3px 1px rgba(0, 0, 0, 0.15);\n",
              "      filter: drop-shadow(0px 1px 2px rgba(0, 0, 0, 0.3));\n",
              "      fill: #FFFFFF;\n",
              "    }\n",
              "  </style>\n",
              "\n",
              "      <script>\n",
              "        const buttonEl =\n",
              "          document.querySelector('#df-5cf459fc-4115-45d3-8171-c38b405ee177 button.colab-df-convert');\n",
              "        buttonEl.style.display =\n",
              "          google.colab.kernel.accessAllowed ? 'block' : 'none';\n",
              "\n",
              "        async function convertToInteractive(key) {\n",
              "          const element = document.querySelector('#df-5cf459fc-4115-45d3-8171-c38b405ee177');\n",
              "          const dataTable =\n",
              "            await google.colab.kernel.invokeFunction('convertToInteractive',\n",
              "                                                     [key], {});\n",
              "          if (!dataTable) return;\n",
              "\n",
              "          const docLinkHtml = 'Like what you see? Visit the ' +\n",
              "            '<a target=\"_blank\" href=https://colab.research.google.com/notebooks/data_table.ipynb>data table notebook</a>'\n",
              "            + ' to learn more about interactive tables.';\n",
              "          element.innerHTML = '';\n",
              "          dataTable['output_type'] = 'display_data';\n",
              "          await google.colab.output.renderOutput(dataTable, element);\n",
              "          const docLink = document.createElement('div');\n",
              "          docLink.innerHTML = docLinkHtml;\n",
              "          element.appendChild(docLink);\n",
              "        }\n",
              "      </script>\n",
              "    </div>\n",
              "  </div>\n",
              "  "
            ]
          },
          "metadata": {},
          "execution_count": 81
        }
      ]
    },
    {
      "cell_type": "markdown",
      "source": [
        "####01. 변수 cylinders 값 별로 해당하는 데이터 행 수를 구한다. 이 때 세 번째로 많이 존재하는 cylinders 변수 값과 그에 해당하는 데이터 행 수를 더한 값은? (10점)"
      ],
      "metadata": {
        "id": "sMsbZyClwaHG"
      },
      "id": "sMsbZyClwaHG"
    },
    {
      "cell_type": "code",
      "source": [
        "answer = None\n",
        "\n",
        "######### 여기에 코드를 작성해 주세요. #########\n",
        "\n",
        "\n",
        "\n",
        "################################################\n",
        "\n",
        "print('정답: ', answer)"
      ],
      "metadata": {
        "colab": {
          "base_uri": "https://localhost:8080/"
        },
        "id": "EmmpEBVMvwm1",
        "outputId": "d9929032-719d-4991-8c69-ba72295c11dc"
      },
      "id": "EmmpEBVMvwm1",
      "execution_count": null,
      "outputs": [
        {
          "output_type": "stream",
          "name": "stdout",
          "text": [
            "정답:  None\n"
          ]
        }
      ]
    },
    {
      "cell_type": "markdown",
      "source": [
        "####02. 변수 cylinders 값이 4일 때의 변수 weight의 제 1사분위수와 변수 cylinders 값이 8일 때의 변수 weight의 제 3사분위수의 평균값은? (10점)"
      ],
      "metadata": {
        "id": "wN4X8fqnx-YP"
      },
      "id": "wN4X8fqnx-YP"
    },
    {
      "cell_type": "code",
      "source": [
        "answer = None\n",
        "\n",
        "######### 여기에 코드를 작성해 주세요. #########\n",
        "\n",
        "\n",
        "\n",
        "################################################\n",
        "\n",
        "print('정답: ', answer)"
      ],
      "metadata": {
        "colab": {
          "base_uri": "https://localhost:8080/"
        },
        "id": "nZKfCyLEwvKF",
        "outputId": "127cb8a5-e72c-4db4-fc9b-70b68715157a"
      },
      "id": "nZKfCyLEwvKF",
      "execution_count": null,
      "outputs": [
        {
          "output_type": "stream",
          "name": "stdout",
          "text": [
            "정답:  None\n"
          ]
        }
      ]
    },
    {
      "cell_type": "markdown",
      "source": [
        "####03. 변수 name에 'toyota'가 포함되는 데이터의 horsepower 최대값과 변수 name에 'honda'가 포함되는 데이터의 horsepower 최대값을 더한 값은? (10점)"
      ],
      "metadata": {
        "id": "XigCe9Rr46no"
      },
      "id": "XigCe9Rr46no"
    },
    {
      "cell_type": "code",
      "source": [
        "answer = None\n",
        "\n",
        "######### 여기에 코드를 작성해 주세요. #########\n",
        "\n",
        "\n",
        "\n",
        "################################################\n",
        "\n",
        "print('정답: ', answer)"
      ],
      "metadata": {
        "colab": {
          "base_uri": "https://localhost:8080/"
        },
        "id": "Rl_ZXj735rio",
        "outputId": "2424892b-552a-45ab-c71d-8ba8ed709a7c"
      },
      "id": "Rl_ZXj735rio",
      "execution_count": null,
      "outputs": [
        {
          "output_type": "stream",
          "name": "stdout",
          "text": [
            "정답:  None\n"
          ]
        }
      ]
    },
    {
      "cell_type": "markdown",
      "source": [
        "##<작업형 제 2유형> "
      ],
      "metadata": {
        "id": "EH71wAN-fpU_"
      },
      "id": "EH71wAN-fpU_"
    },
    {
      "cell_type": "markdown",
      "source": [
        "### 문제 (40점) * Ch5 마무리문제\n",
        "아래는 Stellar Classification 데이터 세트를 변형시킨 데이터이다.   \n",
        "\n",
        "1) 제공 데이터 목록    \n",
        "*   stellar_y_train.csv : 은하 여부 데이터(학습용), csv 형식의 파일\n",
        "*   stellar_X_train.csv, stellar_X_test.csv : 천체 관측 특성(학습 및 평가용), csv 형식의 파일\n",
        "\n",
        "2) 주어진 학습용 데이터 (stellar_X_train.csv, stellar_y_train.csv)를 활용하여 해당 천체가 은하인지 아닌지를 예측하는 모형을 만든 후, 이를 평가용 데이터(stellar_X_test.csv)에 적용하여 얻는 천체의 은하 여부에 대한 예측확률(은하인 경우를 1로 한다.)을 다음과 같은 형식의 csv 파일로 생성하시오. (제출한 모델의 성능은 ROC-AUC 평가 지표에 따라 채점).\n",
        "\n",
        "|galaxy|\n",
        "|---|\n",
        "|0.2222|\n",
        "|0|\n",
        "|0.801|\n",
        "|0.9997|\n",
        "|0|\n",
        "|...|\n",
        "\n",
        "3) 유의사항\n",
        "- 성능이 우수한 예측모형을 구축하기 위해서는 적절한 데이터 전처리, feature engineering, 분류 알고리즘 사용, 초매개변수 최적화, 모형 앙상블 등이 수반되어야 한다. \n",
        "- 이름.csv (예: 홍길동.csv) 파일이 만들어지도록 코드를 제출한다.\n",
        "- 제출한 모델의 성능은 ROC-AUC 평가 지표에 따라 채점한다. "
      ],
      "metadata": {
        "id": "tZx1AZPh3Lm9"
      },
      "id": "tZx1AZPh3Lm9"
    },
    {
      "cell_type": "code",
      "source": [
        "# 출력을 원하실 경우 print() 함수 활용\n",
        "# 예시) print(df.head())\n",
        "\n",
        "# getcwd(), chdir() 등 작업 폴더 설정 불필요\n",
        "# 파일 경로 상 내부 드라이브 경로(C: 등) 접근 불가\n",
        "\n",
        "# 데이터 파일 읽기 예제\n",
        "import pandas as pd\n",
        "X_test = pd.read_csv(\"./yemoonsaBigdata/datasets/Part2/stellar_X_test.csv\")\n",
        "X_train = pd.read_csv(\"./yemoonsaBigdata/datasets/Part2/stellar_X_train.csv\")\n",
        "y_train = pd.read_csv(\"./yemoonsaBigdata/datasets/Part2/stellar_y_train.csv\")\n",
        "\n",
        "\n",
        "######### 여기에 코드를 작성해 주세요. #########\n",
        "\n",
        "\n",
        "\n",
        "################################################\n",
        "\n",
        "\n",
        "# 답안 제출 참고\n",
        "# 아래 코드 예측변수와 이름을 개인별로 변경하여 활용\n",
        "# pd.DataFrame({'cust_id': X_test.cust_id, 'gender': pred}).to_csv('홍길동.csv', index=False)"
      ],
      "metadata": {
        "id": "GxuKHMiqf0J8"
      },
      "id": "GxuKHMiqf0J8",
      "execution_count": null,
      "outputs": []
    }
  ],
  "metadata": {
    "kernelspec": {
      "display_name": "Python 3",
      "language": "python",
      "name": "python3"
    },
    "language_info": {
      "codemirror_mode": {
        "name": "ipython",
        "version": 3
      },
      "file_extension": ".py",
      "mimetype": "text/x-python",
      "name": "python",
      "nbconvert_exporter": "python",
      "pygments_lexer": "ipython3",
      "version": "3.8.8"
    },
    "colab": {
      "name": "4일차_과제_이름.ipynb",
      "provenance": [],
      "collapsed_sections": []
    }
  },
  "nbformat": 4,
  "nbformat_minor": 5
}