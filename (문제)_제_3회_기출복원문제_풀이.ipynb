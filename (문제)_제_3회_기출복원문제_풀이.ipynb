{
  "nbformat": 4,
  "nbformat_minor": 0,
  "metadata": {
    "colab": {
      "name": "(문제) 제 3회 기출복원문제 풀이.ipynb",
      "provenance": [],
      "collapsed_sections": []
    },
    "kernelspec": {
      "name": "python3",
      "display_name": "Python 3"
    },
    "language_info": {
      "name": "python"
    }
  },
  "cells": [
    {
      "cell_type": "code",
      "source": [
        "!git clone https://github.com/AnalyticsKnight/yemoonsaBigdata/"
      ],
      "metadata": {
        "id": "2RA_qOhWIlxK"
      },
      "execution_count": null,
      "outputs": []
    },
    {
      "cell_type": "markdown",
      "source": [
        "# 제 3회 기출복원문제"
      ],
      "metadata": {
        "id": "zrA14Lj6FpRC"
      }
    },
    {
      "cell_type": "markdown",
      "source": [
        "## 2. 작업형 제 1 유형"
      ],
      "metadata": {
        "id": "d5fsCWZpFuyk"
      }
    },
    {
      "cell_type": "markdown",
      "source": [
        "### 문제"
      ],
      "metadata": {
        "id": "9W3_os71JASd"
      }
    },
    {
      "cell_type": "markdown",
      "source": [
        "1) 다음은 California Housing 데이터 세트이다. 데이터 중 결측치가 있는 경우 해당 데이터의 행을 모두 제거하고, 첫 번째 행부터 순서대로 70% 까지의 데이터를 훈련 데이터로 추출한 데이터 세트를 구성한다. 변수 중 ‘housing_median_age’의 Q1(제1사분위수) 값을 정수로 계산하시오.\n",
        "\n",
        "\n",
        "- longitute: 경도\n",
        "- latitude: 위도\n",
        "- housing_median_age: 주택 나이의 중앙값\n",
        "- total_rooms: 전체 방 개수\n",
        "- total_bedrooms: 전체 침실 개수\n",
        "- population: 인구\n",
        "- households: 세대수\n",
        "- median_income: 소득의 중앙값\n",
        "- median_house_value: 주택가치\n",
        "- ocean_proximty: 바다근접도\n"
      ],
      "metadata": {
        "id": "Il880414G-Nt"
      }
    },
    {
      "cell_type": "markdown",
      "source": [
        "### 답 "
      ],
      "metadata": {
        "id": "_0HdNw9VJEhA"
      }
    },
    {
      "cell_type": "code",
      "source": [
        "# 출력을 원할 경우 print() 함수 활용\n",
        "# 예시) print(df.head())\n",
        "\n",
        "# getcwd(), chdir() 등 작업 폴더 설정 불필요\n",
        "# 파일 경로 상 내부 드라이브 경로(C: 등) 접근 불가\n",
        "\n",
        "# 데이터 파일 읽기 예제\n",
        "import pandas as pd\n",
        "housing = pd.read_csv('yemoonsaBigdata/datasets/Part3/301_housing.csv')\n",
        "\n",
        "# 답안 제출 예시\n",
        "# print(평균변수값)\n"
      ],
      "metadata": {
        "id": "BSGYkbONHMp1"
      },
      "execution_count": null,
      "outputs": []
    },
    {
      "cell_type": "markdown",
      "source": [
        "### 문제"
      ],
      "metadata": {
        "id": "zFVtGjNeJ8nG"
      }
    },
    {
      "cell_type": "markdown",
      "source": [
        "2) 다음은 국가별 연도별 인구 10만명당 결핵 유병률 데이터 세트이다. 2000년도의 국가별 결핵 유병률 데이터 세트에서 2000년도의 평균값보다 더 큰 유병률 값을 가진 국가의 수를 계산하시오.\n",
        "\n",
        "\n",
        "- year: 연도\n",
        "- Afghanistan: 국가1 이름\n",
        "- Albania: 국가2 이름  \n",
        "...  \n",
        "- Zambia: 국가192 이름\n",
        "- Zimbabwe: 국가193 이름"
      ],
      "metadata": {
        "id": "eweEi_FoJ_yL"
      }
    },
    {
      "cell_type": "markdown",
      "source": [
        "### 답"
      ],
      "metadata": {
        "id": "wXjJx3nMK-kK"
      }
    },
    {
      "cell_type": "code",
      "source": [
        "# 출력을 원할 경우 print() 함수 활용\n",
        "# 예시) print(df.head())\n",
        "\n",
        "# getcwd(), chdir() 등 작업 폴더 설정 불필요\n",
        "# 파일 경로 상 내부 드라이브 경로(C: 등) 접근 불가\n",
        "\n",
        "# 데이터 파일 읽기 예제\n",
        "import pandas as pd\n",
        "disease = pd.read_csv('yemoonsaBigdata/datasets/Part3/302_worlddata.csv')\n",
        "\n",
        "\n",
        "# 답안 제출 예시\n",
        "# print(평균변수값)\n"
      ],
      "metadata": {
        "id": "Lu-Gx5zOKX4l"
      },
      "execution_count": null,
      "outputs": []
    },
    {
      "cell_type": "markdown",
      "source": [
        "### 문제"
      ],
      "metadata": {
        "id": "ugwXCB2oLQi6"
      }
    },
    {
      "cell_type": "markdown",
      "source": [
        "3) 다음은 Titanic 데이터 세트이다. 주어진 데이터 세트의 컬럼 중 빈 값 또는 결측치를 확인하여, 결측치의 비율이 가장 높은 변수명을 출력하시오.\n",
        "\n",
        "\n",
        "- PassengerID: 승객 ID\n",
        "- Survived: 생존 여부\n",
        "- Pclass: 등급\n",
        "- Name: 승객 이름\n",
        "- Sex: 승객 성별\n",
        "- Age: 승객 나이\n",
        "- SibSp: 동승 자매/배우자 수\n",
        "- Parch: 동승 부모/자식 수\n",
        "- Ticket: 티켓 번호\n",
        "- Fare: 요금\n",
        "- Cabin: 선실 번호\n",
        "- Embarked: 탑승지\n"
      ],
      "metadata": {
        "id": "Xv0_TOqKLTTm"
      }
    },
    {
      "cell_type": "markdown",
      "source": [
        "### 답"
      ],
      "metadata": {
        "id": "cjrbStgMKyul"
      }
    },
    {
      "cell_type": "code",
      "source": [
        "# 출력을 원할 경우 print() 함수 활용\n",
        "# 예시) print(df.head())\n",
        "\n",
        "# getcwd(), chdir() 등 작업 폴더 설정 불필요\n",
        "# 파일 경로 상 내부 드라이브 경로(C: 등) 접근 불가\n",
        "\n",
        "# 데이터 파일 읽기 예제\n",
        "import pandas as pd\n",
        "titanic = pd.read_csv('yemoonsaBigdata/datasets/Part3/303_titanic.csv')\n",
        "\n",
        "\n",
        "# 답안 제출 예시\n",
        "# print(평균변수값)"
      ],
      "metadata": {
        "id": "yYlsjFtGKzpK"
      },
      "execution_count": null,
      "outputs": []
    },
    {
      "cell_type": "markdown",
      "source": [
        "## 3. 작업형 제 2 유형"
      ],
      "metadata": {
        "id": "4prDUdlJLvrA"
      }
    },
    {
      "cell_type": "markdown",
      "source": [
        "### 문제"
      ],
      "metadata": {
        "id": "i7YUth5sLxIz"
      }
    },
    {
      "cell_type": "markdown",
      "source": [
        "1) 다음은 Travel Insurance 데이터 세트이다. 주어진 훈련 데이터 세트를 이용하여 고객별 여행보험 가입 여부 예측 모형을 만들고, 가장 높은 Accuracy 값을 가지는 최종 모델을 도출하시오. 해당 모델을 활용하여 보험 가입 여부 예측값을 계산하고 결과값은 csv 파일로 제출하시오.  \n",
        "※ 결과 제출 양식 : 제출한 예측값의 ROC_AUC 점수 결과를 통해 영역별 배점에 따라 최종 점수가 반영될 예정\n",
        "\n",
        "\n",
        "- ID: 고객 ID\n",
        "- Age: 고객 나이\n",
        "- Employment Type: 고객 직업 유형\n",
        "- GraduateOrNot: 대졸 여부\n",
        "- AnnualIncome: 연 소득\n",
        "- FamilyMembers: 가족 수\n",
        "- ChronicDiseases: 만성질환 여부\n",
        "- FrequentFlyer: FrequentFlyer 자격 여부\n",
        "- EverTravelledAbroad: 해외여행 경험\n",
        "- TravelInsurance: 여행보험 가입 여부 (0 : 미가입, 1 : 가입)\n"
      ],
      "metadata": {
        "id": "fy8JA3FhL00f"
      }
    },
    {
      "cell_type": "markdown",
      "source": [
        "### 답"
      ],
      "metadata": {
        "id": "CDuwVAsAL6QW"
      }
    },
    {
      "cell_type": "code",
      "source": [
        "# 출력을 원하실 경우 print() 함수 활용\n",
        "# 예시) print(df.head())\n",
        "\n",
        "# getcwd(), chdir() 등 작업 폴더 설정 불필요\n",
        "# 파일 경로 상 내부 드라이브 경로(C: 등) 접근 불가\n",
        "\n",
        "# 데이터 파일 읽기 예제\n",
        "import pandas as pd\n",
        "\n",
        "X_test = pd.read_csv(\"yemoonsaBigdata/datasets/Part3/304_x_test.csv\")\n",
        "X_train = pd.read_csv(\"yemoonsaBigdata/datasets/Part3/304_x_train.csv\")\n",
        "y_train = pd.read_csv(\"yemoonsaBigdata/datasets/Part3/304_y_train.csv\")\n",
        "\n",
        "\n",
        "# 답안 제출 참고\n",
        "# 아래 코드 예측변수와 수험번호를 개인별로 변경하여 활용\n",
        "# pd.DataFrame({'index': X_test.index, 'y_pred': pred}).to_csv('003000000.csv', index=False)\n"
      ],
      "metadata": {
        "id": "J1PE6PObMMn-"
      },
      "execution_count": null,
      "outputs": []
    },
    {
      "cell_type": "code",
      "source": [
        ""
      ],
      "metadata": {
        "id": "aMh8yXxx5ADR"
      },
      "execution_count": null,
      "outputs": []
    }
  ]
}